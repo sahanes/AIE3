from langchain.document_loaders import ArxivLoader

# Load papers on mental health and solutions
docs = ArxivLoader(
    query="mental health AND (treatment OR therapy OR intervention)",
    load_max_docs=10,
    sort_by="submittedDate",
    sort_order="descending"
).load()