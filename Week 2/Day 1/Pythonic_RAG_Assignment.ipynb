{
  "cells": [
    {
      "cell_type": "markdown",
      "metadata": {
        "id": "lElF3o5PR6ys"
      },
      "source": [
        "# Your First RAG Application\n",
        "\n",
        "In this notebook, we'll walk you through each of the components that are involved in a simple RAG application.\n",
        "\n",
        "We won't be leveraging any fancy tools, just the OpenAI Python SDK, Numpy, and some classic Python.\n",
        "\n",
        "> NOTE: This was done with Python 3.11.4.\n",
        "\n",
        "> NOTE: There might be [compatibility issues](https://github.com/wandb/wandb/issues/7683) if you're on NVIDIA driver >552.44 As an interim solution - you can rollback your drivers to the 552.44."
      ]
    },
    {
      "cell_type": "markdown",
      "metadata": {
        "id": "5CtcL8P8R6yt"
      },
      "source": [
        "## Table of Contents:\n",
        "\n",
        "- Task 1: Imports and Utilities\n",
        "- Task 2: Documents\n",
        "- Task 3: Embeddings and Vectors\n",
        "- Task 4: Prompts\n",
        "- Task 5: Retrieval Augmented Generation\n",
        "  - 🚧 Activity #1: Augment RAG\n",
        "- Task 6: Visibility Tooling\n",
        "- Task 7: RAG Evaluation Using GPT-4"
      ]
    },
    {
      "cell_type": "markdown",
      "metadata": {
        "id": "1Dz6GYilR6yt"
      },
      "source": [
        "Let's look at a rather complicated looking visual representation of a basic RAG application.\n",
        "\n",
        "<img src=\"https://i.imgur.com/PvlaIUO.png\" />"
      ]
    },
    {
      "cell_type": "markdown",
      "metadata": {
        "id": "PjmC0KFtR6yt"
      },
      "source": [
        "## Task 1: Imports and Utility\n",
        "\n",
        "We're just doing some imports and enabling `async` to work within the Jupyter environment here, nothing too crazy!"
      ]
    },
    {
      "cell_type": "code",
      "execution_count": 1,
      "metadata": {
        "colab": {
          "base_uri": "https://localhost:8080/"
        },
        "id": "H7VEzqziR6yt",
        "outputId": "f873dd3b-55a0-4e00-ecf4-e2a0fe3af327"
      },
      "outputs": [],
      "source": [
        "! pip install -qU umpy matplotlib plotly pandas scipy scikit-learn openai python-dotenv"
      ]
    },
    {
      "cell_type": "code",
      "execution_count": 2,
      "metadata": {
        "id": "Z1dyrG4hR6yt"
      },
      "outputs": [],
      "source": [
        "from aimakerspace.text_utils import TextFileLoader, CharacterTextSplitter\n",
        "from aimakerspace.vectordatabase import VectorDatabase\n",
        "import asyncio"
      ]
    },
    {
      "cell_type": "code",
      "execution_count": 3,
      "metadata": {
        "id": "9OrFZRnER6yt"
      },
      "outputs": [],
      "source": [
        "import nest_asyncio\n",
        "nest_asyncio.apply()"
      ]
    },
    {
      "cell_type": "markdown",
      "metadata": {
        "id": "M0jGnpQsR6yu"
      },
      "source": [
        "## Task 2: Documents\n",
        "\n",
        "We'll be concerning ourselves with this part of the flow in the following section:\n",
        "\n",
        "<img src=\"https://i.imgur.com/jTm9gjk.png\" />"
      ]
    },
    {
      "cell_type": "markdown",
      "metadata": {
        "id": "-SFPWvRUR6yu"
      },
      "source": [
        "### Loading Source Documents\n",
        "\n",
        "So, first things first, we need some documents to work with.\n",
        "\n",
        "While we could work directly with the `.txt` files (or whatever file-types you wanted to extend this to) we can instead do some batch processing of those documents at the beginning in order to store them in a more machine compatible format.\n",
        "\n",
        "In this case, we're going to parse our text file into a single document in memory.\n",
        "\n",
        "Let's look at the relevant bits of the `TextFileLoader` class:\n",
        "\n",
        "```python\n",
        "def load_file(self):\n",
        "        with open(self.path, \"r\", encoding=self.encoding) as f:\n",
        "            self.documents.append(f.read())\n",
        "```\n",
        "\n",
        "We're simply loading the document using the built in `open` method, and storing that output in our `self.documents` list.\n"
      ]
    },
    {
      "cell_type": "code",
      "execution_count": 79,
      "metadata": {
        "colab": {
          "base_uri": "https://localhost:8080/"
        },
        "id": "Ia2sUEuGR6yu",
        "outputId": "84937ecc-c35f-4c4a-a4ab-9da72625954c"
      },
      "outputs": [
        {
          "data": {
            "text/plain": [
              "1"
            ]
          },
          "execution_count": 79,
          "metadata": {},
          "output_type": "execute_result"
        }
      ],
      "source": [
        "text_loader = TextFileLoader(\"data/PMarcaBlogs.txt\")\n",
        "documents = text_loader.load_documents()\n",
        "len(documents)"
      ]
    },
    {
      "cell_type": "code",
      "execution_count": 80,
      "metadata": {
        "colab": {
          "base_uri": "https://localhost:8080/"
        },
        "id": "bV-tj5WFR6yu",
        "outputId": "674eb315-1ff3-4597-bcf5-38ece0a812ac"
      },
      "outputs": [
        {
          "name": "stdout",
          "output_type": "stream",
          "text": [
            "\n",
            "The Pmarca Blog Archives\n",
            "(select posts from 2007-2009)\n",
            "Marc Andreessen\n",
            "copyright: Andreessen Horow\n"
          ]
        }
      ],
      "source": [
        "print(documents[0][:100])"
      ]
    },
    {
      "cell_type": "markdown",
      "metadata": {
        "id": "nHlTvCzYR6yu"
      },
      "source": [
        "### Splitting Text Into Chunks\n",
        "\n",
        "As we can see, there is one document - and it's the entire text of Frakenstein\n",
        "\n",
        "We'll want to chunk the document into smaller parts so it's easier to pass the most relevant snippets to the LLM.\n",
        "\n",
        "There is no fixed way to split/chunk documents - and you'll need to rely on some intuition as well as knowing your data *very* well in order to build the most robust system.\n",
        "\n",
        "For this toy example, we'll just split blindly on length.\n",
        "\n",
        ">There's an opportunity to clear up some terminology here, for this course we will be stick to the following:\n",
        ">\n",
        ">- \"source documents\" : The `.txt`, `.pdf`, `.html`, ..., files that make up the files and information we start with in its raw format\n",
        ">- \"document(s)\" : single (or more) text object(s)\n",
        ">- \"corpus\" : the combination of all of our documents"
      ]
    },
    {
      "cell_type": "markdown",
      "metadata": {
        "id": "M0DV5Yx5R6yu"
      },
      "source": [
        "Let's take a peek visually at what we're doing here - and why it might be useful:\n",
        "\n",
        "<img src=\"https://i.imgur.com/rtM6Ci6.png\" />"
      ]
    },
    {
      "cell_type": "markdown",
      "metadata": {
        "id": "2G6Voc0jR6yv"
      },
      "source": [
        "As you can see (though it's not specifically true in this toy example) the idea of splitting documents is to break them into managable sized chunks that retain the most relevant local context."
      ]
    },
    {
      "cell_type": "code",
      "execution_count": 6,
      "metadata": {
        "colab": {
          "base_uri": "https://localhost:8080/"
        },
        "id": "UMC4tsEmR6yv",
        "outputId": "08689c0b-57cd-4040-942a-8193e997f5cb"
      },
      "outputs": [
        {
          "data": {
            "text/plain": [
              "373"
            ]
          },
          "execution_count": 6,
          "metadata": {},
          "output_type": "execute_result"
        }
      ],
      "source": [
        "text_splitter = CharacterTextSplitter()\n",
        "split_documents = text_splitter.split_texts(documents)\n",
        "len(split_documents)"
      ]
    },
    {
      "cell_type": "markdown",
      "metadata": {
        "id": "W2wKT0WLR6yv"
      },
      "source": [
        "Let's take a look at some of the documents we've managed to split."
      ]
    },
    {
      "cell_type": "code",
      "execution_count": 7,
      "metadata": {
        "colab": {
          "base_uri": "https://localhost:8080/"
        },
        "id": "vcYMwWJoR6yv",
        "outputId": "20d69876-feca-4826-b4be-32915276987a"
      },
      "outputs": [
        {
          "data": {
            "text/plain": [
              "['\\ufeff\\nThe Pmarca Blog Archives\\n(select posts from 2007-2009)\\nMarc Andreessen\\ncopyright: Andreessen Horowitz\\ncover design: Jessica Hagy\\nproduced using: Pressbooks\\nContents\\nTHE PMARCA GUIDE TO STARTUPS\\nPart 1: Why not to do a startup 2\\nPart 2: When the VCs say \"no\" 10\\nPart 3: \"But I don\\'t know any VCs!\" 18\\nPart 4: The only thing that matters 25\\nPart 5: The Moby Dick theory of big companies 33\\nPart 6: How much funding is too little? Too much? 41\\nPart 7: Why a startup\\'s initial business plan doesn\\'t\\nmatter that much\\n49\\nTHE PMARCA GUIDE TO HIRING\\nPart 8: Hiring, managing, promoting, and Dring\\nexecutives\\n54\\nPart 9: How to hire a professional CEO 68\\nHow to hire the best people you\\'ve ever worked\\nwith\\n69\\nTHE PMARCA GUIDE TO BIG COMPANIES\\nPart 1: Turnaround! 82\\nPart 2: Retaining great people 86\\nTHE PMARCA GUIDE TO CAREER, PRODUCTIVITY,\\nAND SOME OTHER THINGS\\nIntroduction 97\\nPart 1: Opportunity 99\\nPart 2: Skills and education 107\\nPart 3: Where to go and why 120\\nThe Pmarca Guide to Personal Productivi']"
            ]
          },
          "execution_count": 7,
          "metadata": {},
          "output_type": "execute_result"
        }
      ],
      "source": [
        "split_documents[0:1]"
      ]
    },
    {
      "cell_type": "markdown",
      "metadata": {
        "id": "HOU-RFP_R6yv"
      },
      "source": [
        "## Task 3: Embeddings and Vectors\n",
        "\n",
        "Next, we have to convert our corpus into a \"machine readable\" format.\n",
        "\n",
        "Loosely, this means turning the text into numbers.\n",
        "\n",
        "Today, we're going to talk about the actual process of creating, and then storing, these embeddings, and how we can leverage that to intelligently add context to our queries."
      ]
    },
    {
      "cell_type": "markdown",
      "metadata": {},
      "source": [
        "### Embeddings and Dense Vector Search: A Quick Primer\n",
        "\n",
        "If you come from an NLP background, embeddings are something you might be intimately familiar with - otherwise, you might find the topic a bit...dense. (this attempt at a joke will make more sense later)\n",
        "\n",
        "In all seriousness, embeddings are a powerful piece of the NLP puzzle, so let's dive in!\n",
        "\n",
        "> NOTE: While this notebook language/NLP-centric, embeddings have uses beyond just text!"
      ]
    },
    {
      "cell_type": "markdown",
      "metadata": {},
      "source": [
        "#### Why Do We Even Need Embeddings?\n",
        "\n",
        "In order to fully understand what Embeddings are, we first need to understand why we have them!\n",
        "\n",
        "Machine Learning algorithms, ranging from the very big to the very small, all have one thing in common:\n",
        "\n",
        "They need numeric inputs.\n",
        "\n",
        "So we need a process by which to translate the domain we live in, dominated by images, audio, language, and more, into the domain of the machine: Numbers.\n",
        "\n",
        "Another thing we want to be able to do is capture \"semantic information\" about words/phrases so that we can use algorithmic approaches to determine if words are closely related or not!\n",
        "\n",
        "So, we need to come up with a process that does these two things well:\n",
        "\n",
        "- Convert non-numeric data into numeric-data\n",
        "- Capture potential semantic relationships between individual pieces of data"
      ]
    },
    {
      "cell_type": "markdown",
      "metadata": {},
      "source": [
        "#### How Do Embeddings Capture Semantic Relationships?\n",
        "\n",
        "In a simplified sense, embeddings map a word or phrase into n-dimensional space with a dense continuous vector, where each dimension in the vector represents some \"latent feature\" of the data.\n",
        "\n",
        "This is best represented in a classic example:\n",
        "\n",
        "![image](https://i.imgur.com/K5eQtmH.png)\n",
        "\n",
        "As can be seen in the extremely simplified example: The X_1 axis represents age, and the X_2 axis represents hair.\n",
        "\n",
        "The relationship of \"puppy -> dog\" reflects the same relationship as \"baby -> adult\", but dogs are (typically) hairier than humans. However, adults typically have more hair than babies - so they are shifted slightly closer to dogs on the X_2 axis!\n",
        "\n",
        "Now, this is a simplified and contrived example - but it is *essentially* the mechanism by which embeddings capture semantic information.\n",
        "\n",
        "In reality, the dimensions don't sincerely represent hard-concepts like \"age\" or \"hair\", but it's useful as a way to think about how the semantic relationships are captured.\n",
        "\n",
        "Alright, with some history behind us - let's examine how these might help us choose relevant context."
      ]
    },
    {
      "cell_type": "markdown",
      "metadata": {},
      "source": [
        "Let's begin with a simple example - simply looking at how close to embedding vectors are for a given phrase.\n",
        "\n",
        "When we use the term \"close\" in this notebook - we're referring to a distance measure called \"cosine similarity\".\n",
        "\n",
        "We discussed above that if two embeddings are close - they are semantically similar, cosine similarity gives us a quick way to measure how similar two vectors are!\n",
        "\n",
        "Closeness is measured from 1 to -1, with 1 being extremely close and -1 being extremely close to opposite in meaning.\n",
        "\n",
        "Let's implement it with Numpy below."
      ]
    },
    {
      "cell_type": "code",
      "execution_count": 8,
      "metadata": {},
      "outputs": [],
      "source": [
        "import numpy as np\n",
        "from numpy.linalg import norm\n",
        "\n",
        "def cosine_similarity(vec_1, vec_2):\n",
        "  return np.dot(vec_1, vec_2) / (norm(vec_1) * norm(vec_2))"
      ]
    },
    {
      "cell_type": "markdown",
      "metadata": {},
      "source": [
        "Now let's use the `text-embedding-3-small` embedding model (more on that in a second) to embed two sentences. In order to use this embedding model endpoint - we'll need to provide our OpenAI API key!"
      ]
    },
    {
      "cell_type": "code",
      "execution_count": 9,
      "metadata": {
        "colab": {
          "base_uri": "https://localhost:8080/"
        },
        "id": "EaOETZGpR6yv",
        "outputId": "1239abf1-faff-49f2-a67c-7350e50fb1b9"
      },
      "outputs": [],
      "source": [
        "import os\n",
        "import openai\n",
        "from getpass import getpass\n",
        "\n",
        "openai.api_key = getpass(\"OpenAI API Key: \")\n",
        "os.environ[\"OPENAI_API_KEY\"] = openai.api_key"
      ]
    },
    {
      "cell_type": "code",
      "execution_count": 10,
      "metadata": {},
      "outputs": [],
      "source": [
        "from aimakerspace.openai_utils.embedding import EmbeddingModel\n",
        "\n",
        "embedding_model = EmbeddingModel()"
      ]
    },
    {
      "cell_type": "markdown",
      "metadata": {},
      "source": [
        "Let's define our two sentences:"
      ]
    },
    {
      "cell_type": "code",
      "execution_count": 11,
      "metadata": {},
      "outputs": [],
      "source": [
        "puppy_sentence = \"I love puppies!\"\n",
        "dog_sentence = \"I love dogs!\""
      ]
    },
    {
      "cell_type": "markdown",
      "metadata": {},
      "source": [
        "Now we can convert those into embedding vectors using OpenAI!"
      ]
    },
    {
      "cell_type": "code",
      "execution_count": 12,
      "metadata": {},
      "outputs": [],
      "source": [
        "puppy_vector = embedding_model.get_embedding(puppy_sentence)\n",
        "dog_vector = embedding_model.get_embedding(dog_sentence)"
      ]
    },
    {
      "cell_type": "markdown",
      "metadata": {},
      "source": [
        "Now we can determine how closely they are related using our distance measure!"
      ]
    },
    {
      "cell_type": "code",
      "execution_count": 13,
      "metadata": {},
      "outputs": [
        {
          "data": {
            "text/plain": [
              "0.8340215662150425"
            ]
          },
          "execution_count": 13,
          "metadata": {},
          "output_type": "execute_result"
        }
      ],
      "source": [
        "cosine_similarity(puppy_vector, dog_vector)"
      ]
    },
    {
      "cell_type": "markdown",
      "metadata": {},
      "source": [
        "Remember, with cosine similarity, close to 1. means they're very close!\n",
        "\n",
        "Let's see what happens if we use a different set of sentences."
      ]
    },
    {
      "cell_type": "code",
      "execution_count": 14,
      "metadata": {},
      "outputs": [
        {
          "data": {
            "text/plain": [
              "0.3723958073309946"
            ]
          },
          "execution_count": 14,
          "metadata": {},
          "output_type": "execute_result"
        }
      ],
      "source": [
        "puppy_sentence = \"I love puppies!\"\n",
        "cat_sentence = \"I dislike cats!\"\n",
        "\n",
        "puppy_vector = embedding_model.get_embedding(puppy_sentence)\n",
        "cat_vector = embedding_model.get_embedding(cat_sentence)\n",
        "\n",
        "cosine_similarity(puppy_vector, cat_vector)"
      ]
    },
    {
      "cell_type": "markdown",
      "metadata": {},
      "source": [
        "As you can see - these vectors are further apart - as expected!\n",
        "\n",
        "Now that we've gotten some background - lets see this put together with a few extra layers on top!"
      ]
    },
    {
      "cell_type": "markdown",
      "metadata": {},
      "source": [
        "### Vector Database\n",
        "\n",
        "Let's set up our vector database to hold all our documents and their embeddings!"
      ]
    },
    {
      "cell_type": "markdown",
      "metadata": {
        "id": "kDQrfAR1R6yv"
      },
      "source": [
        "While this is all baked into 1 call - we can look at some of the code that powers this process to get a better understanding:\n",
        "\n",
        "Let's look at our `VectorDatabase().__init__()`:\n",
        "\n",
        "```python\n",
        "def __init__(self, embedding_model: EmbeddingModel = None):\n",
        "        self.vectors = defaultdict(np.array)\n",
        "        self.embedding_model = embedding_model or EmbeddingModel()\n",
        "```\n",
        "\n",
        "As you can see - our vectors are merely stored as a dictionary of `np.array` objects.\n",
        "\n",
        "Secondly, our `VectorDatabase()` has a default `EmbeddingModel()` which is a wrapper for OpenAI's `text-embedding-3-small` model.\n",
        "\n",
        "> **Quick Info About `text-embedding-3-small`**:\n",
        "> - It has a context window of **8191** tokens\n",
        "> - It returns vectors with dimension **1536**"
      ]
    },
    {
      "cell_type": "markdown",
      "metadata": {
        "id": "L273pRdeR6yv"
      },
      "source": [
        "#### ❓Question #1:\n",
        "\n",
        "The default embedding dimension of `text-embedding-3-small` is 1536, as noted above. \n",
        "\n",
        "1. Is there any way to modify this dimension? \n",
        "Answer: To modify the embedding dimension of the text-embedding-3-small model, one can use the \"embedding_dim\" parameter when creating embeddings via the OpenAI API. This parameter allows us to specify the desired dimensionality of the embeddings, allowing for customization beyond the default value of 1536. \n",
        "\n",
        "2. What technique does OpenAI use to achieve this? OpenAI achieves the customization of embedding dimensions by employing techniques such as dimensionality reduction or projection, which transform the high-dimensional input space into a lower-dimensional embedding space while preserving essential semantic information. These techniques often involve methods like principal component analysis (PCA), or other linear or nonlinear transformations to optimize the embedding space for downstream tasks.\n",
        "\n",
        "> NOTE: Check out this [API documentation](https://platform.openai.com/docs/api-reference/embeddings/create) for the answer to question #1, and [this documentation](https://platform.openai.com/docs/guides/embeddings/use-cases) for an answer to question #2!"
      ]
    },
    {
      "cell_type": "markdown",
      "metadata": {
        "id": "w5FZY7K3R6yv"
      },
      "source": [
        "We can call the `async_get_embeddings` method of our `EmbeddingModel()` on a list of `str` and receive a list of `float` back!\n",
        "\n",
        "```python\n",
        "async def async_get_embeddings(self, list_of_text: List[str]) -> List[List[float]]:\n",
        "        return await aget_embeddings(\n",
        "            list_of_text=list_of_text, engine=self.embeddings_model_name\n",
        "        )\n",
        "```"
      ]
    },
    {
      "cell_type": "markdown",
      "metadata": {
        "id": "cSct6X0aR6yv"
      },
      "source": [
        "We cast those to `np.array` when we build our `VectorDatabase()`:\n",
        "\n",
        "```python\n",
        "async def abuild_from_list(self, list_of_text: List[str]) -> \"VectorDatabase\":\n",
        "        embeddings = await self.embedding_model.async_get_embeddings(list_of_text)\n",
        "        for text, embedding in zip(list_of_text, embeddings):\n",
        "            self.insert(text, np.array(embedding))\n",
        "        return self\n",
        "```\n",
        "\n",
        "And that's all we need to do!"
      ]
    },
    {
      "cell_type": "code",
      "execution_count": 11,
      "metadata": {
        "id": "O4KoLbVDR6yv"
      },
      "outputs": [],
      "source": [
        "vector_db = VectorDatabase()\n",
        "vector_db = asyncio.run(vector_db.abuild_from_list(split_documents))"
      ]
    },
    {
      "cell_type": "markdown",
      "metadata": {
        "id": "SSZwaGvpR6yv"
      },
      "source": [
        "#### ❓Question #2:\n",
        "\n",
        "What are the benefits of using an `async` approach to collecting our embeddings? We should have them like our dcument saved. For any online query, then the ONLY caclutaion for embedding would be our query. That save time. If our knoweledge increasem then only the rows to our database would increase async,\n",
        "\n",
        "> NOTE: Determining the core difference between `async` and `sync` will be useful! If you get stuck - ask ChatGPT!"
      ]
    },
    {
      "cell_type": "markdown",
      "metadata": {
        "id": "nRBdIt-xR6yw"
      },
      "source": [
        "So, to review what we've done so far in natural language:\n",
        "\n",
        "1. We load source documents\n",
        "2. We split those source documents into smaller chunks (documents)\n",
        "3. We send each of those documents to the `text-embedding-3-small` OpenAI API endpoint\n",
        "4. We store each of the text representations with the vector representations as keys/values in a dictionary"
      ]
    },
    {
      "cell_type": "markdown",
      "metadata": {
        "id": "4-vWANZyR6yw"
      },
      "source": [
        "### Semantic Similarity\n",
        "\n",
        "The next step is to be able to query our `VectorDatabase()` with a `str` and have it return to us vectors and text that is most relevant from our corpus.\n",
        "\n",
        "We're going to use the following process to achieve this in our toy example:\n",
        "\n",
        "1. We need to embed our query with the same `EmbeddingModel()` as we used to construct our `VectorDatabase()`\n",
        "2. We loop through every vector in our `VectorDatabase()` and use a distance measure to compare how related they are\n",
        "3. We return a list of the top `k` closest vectors, with their text representations\n",
        "\n",
        "There's some very heavy optimization that can be done at each of these steps - but let's just focus on the basic pattern in this notebook.\n",
        "\n",
        "> We are using [cosine similarity](https://www.engati.com/glossary/cosine-similarity) as a distance metric in this example - but there are many many distance metrics you could use - like [these](https://flavien-vidal.medium.com/similarity-distances-for-natural-language-processing-16f63cd5ba55)\n",
        "\n",
        "> We are using a rather inefficient way of calculating relative distance between the query vector and all other vectors - there are more advanced approaches that are much more efficient, like [ANN](https://towardsdatascience.com/comprehensive-guide-to-approximate-nearest-neighbors-algorithms-8b94f057d6b6)"
      ]
    },
    {
      "cell_type": "code",
      "execution_count": 12,
      "metadata": {
        "colab": {
          "base_uri": "https://localhost:8080/"
        },
        "id": "76d96uavR6yw",
        "outputId": "bbfccc31-20a2-41c7-c14d-46554a43ed2d"
      },
      "outputs": [
        {
          "data": {
            "text/plain": [
              "[('ordingly.\\nSeventh, when hiring the executive to run your former specialty, be\\ncareful you don’t hire someone weak on purpose.\\nThis sounds silly, but you wouldn’t believe how oaen it happens.\\nThe CEO who used to be a product manager who has a weak\\nproduct management executive. The CEO who used to be in\\nsales who has a weak sales executive. The CEO who used to be\\nin marketing who has a weak marketing executive.\\nI call this the “Michael Eisner Memorial Weak Executive Problem” — aaer the CEO of Disney who had previously been a brilliant TV network executive. When he bought ABC at Disney, it\\npromptly fell to fourth place. His response? “If I had an extra\\ntwo days a week, I could turn around ABC myself.” Well, guess\\nwhat, he didn’t have an extra two days a week.\\nA CEO — or a startup founder — oaen has a hard time letting\\ngo of the function that brought him to the party. The result: you\\nhire someone weak into the executive role for that function so\\nthat you can continue to be “the man” — cons',\n",
              "  0.6539043027545373),\n",
              " ('m. They have areas where they are truly deXcient in judgment or skill set. That’s just life. Almost nobody is brilliant\\nat everything. When hiring and when Hring executives, you\\nmust therefore focus on strength rather than lack of weakness. Everybody has severe weaknesses even if you can’t see\\nthem yet. When managing, it’s oaen useful to micromanage and\\nto provide remedial training around these weaknesses. Doing so\\nmay make the diWerence between an executive succeeding or\\nfailing.\\nFor example, you might have a brilliant engineering executive\\nwho generates excellent team loyalty, has terriXc product judgment and makes the trains run on time. This same executive\\nmay be very poor at relating to the other functions in the company. She may generate far more than her share of cross-functional conYicts, cut herself oW from critical information, and\\nsigniXcantly impede your ability to sell and market eWectively.\\nYour alternatives are:\\n(a) Macro-manage and give her an annual or quarterly object',\n",
              "  0.5036247837648784),\n",
              " ('ed?\\nIn reality — as opposed to Marc’s warped view of reality — it will\\nbe extremely helpful for Marc [if he were actually the CEO,\\nwhich he is not] to meet with the new head of engineering daily\\nwhen she comes on board and review all of her thinking and\\ndecisions. This level of micromanagement will accelerate her\\ntraining and improve her long-term eWectiveness. It will make\\nher seem smarter to the rest of the organization which will build\\ncredibility and conXdence while she comes up to speed. Micromanaging new executives is generally a good idea for a limited\\nperiod of time.\\nHowever, that is not the only time that it makes sense to micro66 The Pmarca Blog Archives\\nmanage executives. It turns out that just about every executive\\nin the world has a few things that are seriously wrong with\\nthem. They have areas where they are truly deXcient in judgment or skill set. That’s just life. Almost nobody is brilliant\\nat everything. When hiring and when Hring executives, you\\nmust therefore focus o',\n",
              "  0.48148610617910664)]"
            ]
          },
          "execution_count": 12,
          "metadata": {},
          "output_type": "execute_result"
        }
      ],
      "source": [
        "vector_db.search_by_text(\"What is the Michael Eisner Memorial Weak Executive Problem?\", k=3)"
      ]
    },
    {
      "cell_type": "markdown",
      "metadata": {
        "id": "TehsfIiKR6yw"
      },
      "source": [
        "## Task 4: Prompts\n",
        "\n",
        "In the following section, we'll be looking at the role of prompts - and how they help us to guide our application in the right direction.\n",
        "\n",
        "In this notebook, we're going to rely on the idea of \"zero-shot in-context learning\".\n",
        "\n",
        "This is a lot of words to say: \"We will ask it to perform our desired task in the prompt, and provide no examples.\""
      ]
    },
    {
      "cell_type": "markdown",
      "metadata": {
        "id": "yXpA0UveR6yw"
      },
      "source": [
        "### XYZRolePrompt\n",
        "\n",
        "Before we do that, let's stop and think a bit about how OpenAI's chat models work.\n",
        "\n",
        "We know they have roles - as is indicated in the following API [documentation](https://platform.openai.com/docs/api-reference/chat/create#chat/create-messages)\n",
        "\n",
        "There are three roles, and they function as follows (taken directly from [OpenAI](https://platform.openai.com/docs/guides/gpt/chat-completions-api)):\n",
        "\n",
        "- `{\"role\" : \"system\"}` : The system message helps set the behavior of the assistant. For example, you can modify the personality of the assistant or provide specific instructions about how it should behave throughout the conversation. However note that the system message is optional and the model’s behavior without a system message is likely to be similar to using a generic message such as \"You are a helpful assistant.\"\n",
        "- `{\"role\" : \"user\"}` : The user messages provide requests or comments for the assistant to respond to.\n",
        "- `{\"role\" : \"assistant\"}` : Assistant messages store previous assistant responses, but can also be written by you to give examples of desired behavior.\n",
        "\n",
        "The main idea is this:\n",
        "\n",
        "1. You start with a system message that outlines how the LLM should respond, what kind of behaviours you can expect from it, and more\n",
        "2. Then, you can provide a few examples in the form of \"assistant\"/\"user\" pairs\n",
        "3. Then, you prompt the model with the true \"user\" message.\n",
        "\n",
        "In this example, we'll be forgoing the 2nd step for simplicities sake."
      ]
    },
    {
      "cell_type": "markdown",
      "metadata": {
        "id": "gdZ2KWKSR6yw"
      },
      "source": [
        "#### Utility Functions\n",
        "\n",
        "You'll notice that we're using some utility functions from the `aimakerspace` module - let's take a peek at these and see what they're doing!"
      ]
    },
    {
      "cell_type": "markdown",
      "metadata": {
        "id": "GFbeJDDsR6yw"
      },
      "source": [
        "##### XYZRolePrompt"
      ]
    },
    {
      "cell_type": "markdown",
      "metadata": {
        "id": "5mojJSE3R6yw"
      },
      "source": [
        "Here we have our `system`, `user`, and `assistant` role prompts.\n",
        "\n",
        "Let's take a peek at what they look like:\n",
        "\n",
        "```python\n",
        "class BasePrompt:\n",
        "    def __init__(self, prompt):\n",
        "        \"\"\"\n",
        "        Initializes the BasePrompt object with a prompt template.\n",
        "\n",
        "        :param prompt: A string that can contain placeholders within curly braces\n",
        "        \"\"\"\n",
        "        self.prompt = prompt\n",
        "        self._pattern = re.compile(r\"\\{([^}]+)\\}\")\n",
        "\n",
        "    def format_prompt(self, **kwargs):\n",
        "        \"\"\"\n",
        "        Formats the prompt string using the keyword arguments provided.\n",
        "\n",
        "        :param kwargs: The values to substitute into the prompt string\n",
        "        :return: The formatted prompt string\n",
        "        \"\"\"\n",
        "        matches = self._pattern.findall(self.prompt)\n",
        "        return self.prompt.format(**{match: kwargs.get(match, \"\") for match in matches})\n",
        "\n",
        "    def get_input_variables(self):\n",
        "        \"\"\"\n",
        "        Gets the list of input variable names from the prompt string.\n",
        "\n",
        "        :return: List of input variable names\n",
        "        \"\"\"\n",
        "        return self._pattern.findall(self.prompt)\n",
        "```\n",
        "\n",
        "Then we have our `RolePrompt` which laser focuses us on the role pattern found in most API endpoints for LLMs.\n",
        "\n",
        "```python\n",
        "class RolePrompt(BasePrompt):\n",
        "    def __init__(self, prompt, role: str):\n",
        "        \"\"\"\n",
        "        Initializes the RolePrompt object with a prompt template and a role.\n",
        "\n",
        "        :param prompt: A string that can contain placeholders within curly braces\n",
        "        :param role: The role for the message ('system', 'user', or 'assistant')\n",
        "        \"\"\"\n",
        "        super().__init__(prompt)\n",
        "        self.role = role\n",
        "\n",
        "    def create_message(self, **kwargs):\n",
        "        \"\"\"\n",
        "        Creates a message dictionary with a role and a formatted message.\n",
        "\n",
        "        :param kwargs: The values to substitute into the prompt string\n",
        "        :return: Dictionary containing the role and the formatted message\n",
        "        \"\"\"\n",
        "        return {\"role\": self.role, \"content\": self.format_prompt(**kwargs)}\n",
        "```\n",
        "\n",
        "We'll look at how the `SystemRolePrompt` is constructed to get a better idea of how that extension works:\n",
        "\n",
        "```python\n",
        "class SystemRolePrompt(RolePrompt):\n",
        "    def __init__(self, prompt: str):\n",
        "        super().__init__(prompt, \"system\")\n",
        "```\n",
        "\n",
        "That pattern is repeated for our `UserRolePrompt` and our `AssistantRolePrompt` as well."
      ]
    },
    {
      "cell_type": "markdown",
      "metadata": {
        "id": "D361R6sMR6yw"
      },
      "source": [
        "##### ChatOpenAI"
      ]
    },
    {
      "cell_type": "markdown",
      "metadata": {
        "id": "HJVQ2Pm8R6yw"
      },
      "source": [
        "Next we have our model, which is converted to a format analagous to libraries like LangChain and LlamaIndex.\n",
        "\n",
        "Let's take a peek at how that is constructed:\n",
        "\n",
        "```python\n",
        "class ChatOpenAI:\n",
        "    def __init__(self, model_name: str = \"gpt-3.5-turbo\"):\n",
        "        self.model_name = model_name\n",
        "        self.openai_api_key = os.getenv(\"OPENAI_API_KEY\")\n",
        "        if self.openai_api_key is None:\n",
        "            raise ValueError(\"OPENAI_API_KEY is not set\")\n",
        "\n",
        "    def run(self, messages, text_only: bool = True):\n",
        "        if not isinstance(messages, list):\n",
        "            raise ValueError(\"messages must be a list\")\n",
        "\n",
        "        openai.api_key = self.openai_api_key\n",
        "        response = openai.ChatCompletion.create(\n",
        "            model=self.model_name, messages=messages\n",
        "        )\n",
        "\n",
        "        if text_only:\n",
        "            return response.choices[0].message.content\n",
        "\n",
        "        return response\n",
        "```"
      ]
    },
    {
      "cell_type": "markdown",
      "metadata": {
        "id": "qCU7FfhIR6yw"
      },
      "source": [
        "#### ❓ Question #3:\n",
        "\n",
        "When calling the OpenAI API - are there any ways we can achieve more reproducible outputs?\n",
        "\n",
        "> NOTE: Check out [this section](https://platform.openai.com/docs/guides/text-generation/) of the OpenAI documentation for the answer!"
      ]
    },
    {
      "cell_type": "markdown",
      "metadata": {
        "id": "c5wcjMLCR6yw"
      },
      "source": [
        "### Creating and Prompting OpenAI's `gpt-3.5-turbo`!\n",
        "\n",
        "Let's tie all these together and use it to prompt `gpt-3.5-turbo`!"
      ]
    },
    {
      "cell_type": "code",
      "execution_count": 13,
      "metadata": {
        "id": "WIfpIot7R6yw"
      },
      "outputs": [],
      "source": [
        "from aimakerspace.openai_utils.prompts import (\n",
        "    UserRolePrompt,\n",
        "    SystemRolePrompt,\n",
        "    AssistantRolePrompt,\n",
        ")\n",
        "\n",
        "from aimakerspace.openai_utils.chatmodel import ChatOpenAI\n",
        "\n",
        "chat_openai = ChatOpenAI()\n",
        "user_prompt_template = \"{content}\"\n",
        "user_role_prompt = UserRolePrompt(user_prompt_template)\n",
        "system_prompt_template = (\n",
        "    \"You are an expert in {expertise}, you always answer in a kind way.\"\n",
        ")\n",
        "system_role_prompt = SystemRolePrompt(system_prompt_template)\n",
        "\n",
        "messages = [\n",
        "    user_role_prompt.create_message(\n",
        "        content=\"What is the best way to write a loop?\"\n",
        "    ),\n",
        "    system_role_prompt.create_message(expertise=\"Python\"),\n",
        "]\n",
        "\n",
        "response = chat_openai.run(messages)"
      ]
    },
    {
      "cell_type": "code",
      "execution_count": 14,
      "metadata": {
        "colab": {
          "base_uri": "https://localhost:8080/"
        },
        "id": "dHo7lssNR6yw",
        "outputId": "1d3823fa-bb6b-45f6-ddba-b41686388324"
      },
      "outputs": [
        {
          "name": "stdout",
          "output_type": "stream",
          "text": [
            "There is no one definitive answer to this question as the best way to write a loop can vary depending on the specific requirements and context of your code. However, a general guideline for writing a loop in Python is to use a for loop when you know the number of iterations you need, and a while loop when you need to loop based on a condition.\n",
            "\n",
            "Here is an example of a for loop in Python:\n",
            "\n",
            "```python\n",
            "for i in range(5):\n",
            "    print(i)\n",
            "```\n",
            "\n",
            "And here is an example of a while loop in Python:\n",
            "\n",
            "```python\n",
            "i = 0\n",
            "while i < 5:\n",
            "    print(i)\n",
            "    i += 1\n",
            "```\n",
            "\n",
            "It's important to ensure that your loop has a clear exit condition to prevent it from running indefinitely and causing a potential infinite loop. Additionally, make sure to use meaningful variable names and clear code structure to improve readability and maintainability of your code.\n"
          ]
        }
      ],
      "source": [
        "print(response)"
      ]
    },
    {
      "cell_type": "markdown",
      "metadata": {
        "id": "r2nxxhB2R6yy"
      },
      "source": [
        "## Task 5: Retrieval Augmented Generation\n",
        "\n",
        "Now we can create a RAG prompt - which will help our system behave in a way that makes sense!\n",
        "\n",
        "There is much you could do here, many tweaks and improvements to be made!"
      ]
    },
    {
      "cell_type": "code",
      "execution_count": 15,
      "metadata": {
        "id": "D1hamzGaR6yy"
      },
      "outputs": [],
      "source": [
        "RAG_PROMPT_TEMPLATE = \"\"\" \\\n",
        "Use the provided context to answer the user's query.\n",
        "\n",
        "You may not answer the user's query unless there is specific context in the following text.\n",
        "\n",
        "If you do not know the answer, or cannot answer, please respond with \"I don't know\".\n",
        "\"\"\"\n",
        "\n",
        "rag_prompt = SystemRolePrompt(RAG_PROMPT_TEMPLATE)\n",
        "\n",
        "USER_PROMPT_TEMPLATE = \"\"\" \\\n",
        "Context:\n",
        "{context}\n",
        "\n",
        "User Query:\n",
        "{user_query}\n",
        "\"\"\"\n",
        "\n",
        "\n",
        "user_prompt = UserRolePrompt(USER_PROMPT_TEMPLATE)\n",
        "\n",
        "class RetrievalAugmentedQAPipeline:\n",
        "    def __init__(self, llm: ChatOpenAI(), vector_db_retriever: VectorDatabase) -> None:\n",
        "        self.llm = llm\n",
        "        self.vector_db_retriever = vector_db_retriever\n",
        "\n",
        "    def run_pipeline(self, user_query: str) -> str:\n",
        "        context_list = self.vector_db_retriever.search_by_text(user_query, k=4)\n",
        "\n",
        "        context_prompt = \"\"\n",
        "        for context in context_list:\n",
        "            context_prompt += context[0] + \"\\n\"\n",
        "\n",
        "        formatted_system_prompt = rag_prompt.create_message()\n",
        "\n",
        "        formatted_user_prompt = user_prompt.create_message(user_query=user_query, context=context_prompt)\n",
        "\n",
        "        return {\"response\" : self.llm.run([formatted_user_prompt, formatted_system_prompt]), \"context\" : context_list}"
      ]
    },
    {
      "cell_type": "markdown",
      "metadata": {
        "id": "zZIJI19uR6yz"
      },
      "source": [
        "#### ❓ Question #4:\n",
        "\n",
        "What prompting strategies could you use to make the LLM have a more thoughtful, detailed response? Think step-by-step.\n",
        "\n",
        "What is that strategy called? Chain of Thought (COT)\n",
        "\n",
        "> NOTE: You can look through the Week 1 Day 2 material for an answer to this question!"
      ]
    },
    {
      "cell_type": "code",
      "execution_count": 93,
      "metadata": {
        "id": "kqbE9fZ6R6yz"
      },
      "outputs": [],
      "source": [
        "retrieval_augmented_qa_pipeline = RetrievalAugmentedQAPipeline(\n",
        "    vector_db_retriever=vector_db,\n",
        "    llm=chat_openai\n",
        ")"
      ]
    },
    {
      "cell_type": "code",
      "execution_count": 94,
      "metadata": {
        "colab": {
          "base_uri": "https://localhost:8080/"
        },
        "id": "jAGhaCGOR6yz",
        "outputId": "e4fb3a1b-d2bc-4e18-ec31-dc0adf767163"
      },
      "outputs": [
        {
          "data": {
            "text/plain": [
              "{'response': 'The \"Michael Eisner Memorial Weak Executive Problem\" refers to a phenomenon where CEOs or leaders, often due to their own strong background in a specific business function, may intentionally or unintentionally hire weaker executives for that same function. This can be a strategic move allowing them to remain closely involved and essentially still be seen as the key person in that area, despite their wider responsibilities as a CEO. This is termed in relation to Michael Eisner, who was a CEO of Disney and previously a successful TV network executive. His management decisions, especially after buying ABC and its subsequent drop to the fourth place, exemplified this problem. Eisner remarked that if he had more time, he could turn around ABC himself, suggesting a reluctance to delegate and empower other capable leaders in that domain.',\n",
              " 'context': [('ordingly.\\nSeventh, when hiring the executive to run your former specialty, be\\ncareful you don’t hire someone weak on purpose.\\nThis sounds silly, but you wouldn’t believe how oaen it happens.\\nThe CEO who used to be a product manager who has a weak\\nproduct management executive. The CEO who used to be in\\nsales who has a weak sales executive. The CEO who used to be\\nin marketing who has a weak marketing executive.\\nI call this the “Michael Eisner Memorial Weak Executive Problem” — aaer the CEO of Disney who had previously been a brilliant TV network executive. When he bought ABC at Disney, it\\npromptly fell to fourth place. His response? “If I had an extra\\ntwo days a week, I could turn around ABC myself.” Well, guess\\nwhat, he didn’t have an extra two days a week.\\nA CEO — or a startup founder — oaen has a hard time letting\\ngo of the function that brought him to the party. The result: you\\nhire someone weak into the executive role for that function so\\nthat you can continue to be “the man” — cons',\n",
              "   0.6582076700249482),\n",
              "  ('m. They have areas where they are truly deXcient in judgment or skill set. That’s just life. Almost nobody is brilliant\\nat everything. When hiring and when Hring executives, you\\nmust therefore focus on strength rather than lack of weakness. Everybody has severe weaknesses even if you can’t see\\nthem yet. When managing, it’s oaen useful to micromanage and\\nto provide remedial training around these weaknesses. Doing so\\nmay make the diWerence between an executive succeeding or\\nfailing.\\nFor example, you might have a brilliant engineering executive\\nwho generates excellent team loyalty, has terriXc product judgment and makes the trains run on time. This same executive\\nmay be very poor at relating to the other functions in the company. She may generate far more than her share of cross-functional conYicts, cut herself oW from critical information, and\\nsigniXcantly impede your ability to sell and market eWectively.\\nYour alternatives are:\\n(a) Macro-manage and give her an annual or quarterly object',\n",
              "   0.5088095477344386),\n",
              "  ('ed?\\nIn reality — as opposed to Marc’s warped view of reality — it will\\nbe extremely helpful for Marc [if he were actually the CEO,\\nwhich he is not] to meet with the new head of engineering daily\\nwhen she comes on board and review all of her thinking and\\ndecisions. This level of micromanagement will accelerate her\\ntraining and improve her long-term eWectiveness. It will make\\nher seem smarter to the rest of the organization which will build\\ncredibility and conXdence while she comes up to speed. Micromanaging new executives is generally a good idea for a limited\\nperiod of time.\\nHowever, that is not the only time that it makes sense to micro66 The Pmarca Blog Archives\\nmanage executives. It turns out that just about every executive\\nin the world has a few things that are seriously wrong with\\nthem. They have areas where they are truly deXcient in judgment or skill set. That’s just life. Almost nobody is brilliant\\nat everything. When hiring and when Hring executives, you\\nmust therefore focus o',\n",
              "   0.4790142594268581),\n",
              "  ('nYicts, cut herself oW from critical information, and\\nsigniXcantly impede your ability to sell and market eWectively.\\nYour alternatives are:\\n(a) Macro-manage and give her an annual or quarterly objective\\nto Xx it, or…\\n(b) Intensively micromanage her interactions until she learns\\nthe fundamental interpersonal skills required to be an eWective\\nexecutive.\\nI am arguing that doing (a) will likely result in weak performance. The reason is that she very likely has no idea how to be\\neWective with her peers. If somebody is an executive, it’s very\\nlikely that somewhere along the line somebody gave her feedback — perhaps abstractly — about all of her weaknesses. Yet\\nthe weakness remains. As a result, executives generally require\\nmore hands-on management than lower level employees to\\nimprove weak areas.\\nSo, micromanagement is like Xne wine. A little at the right times\\nwill really enhance things; too much all the time and you’ll end\\nup in rehab.\\nPart 8: Hiring, managing, promoting, and Dring execut',\n",
              "   0.46806746902948726)]}"
            ]
          },
          "execution_count": 94,
          "metadata": {},
          "output_type": "execute_result"
        }
      ],
      "source": [
        "retrieval_augmented_qa_pipeline.run_pipeline(\"What is the 'Michael Eisner Memorial Weak Executive Problem'?\")"
      ]
    },
    {
      "cell_type": "markdown",
      "metadata": {},
      "source": [
        "### 🏗️ Activity #1:\n",
        "\n",
        "Enhance your RAG application in some way! \n",
        "\n",
        "Suggestions are: \n",
        "\n",
        "- Allow it to work with PDF files\n",
        "- Implement a new distance metric\n",
        "- Add metadata support to the vector database\n",
        "\n",
        "While these are suggestions, you should feel free to make whatever augmentations you desire! \n",
        "\n",
        "> NOTE: These additions might require you to work within the `aimakerspace` library - that's expected!"
      ]
    },
    {
      "cell_type": "code",
      "execution_count": 95,
      "metadata": {},
      "outputs": [
        {
          "name": "stdout",
          "output_type": "stream",
          "text": [
            "--2024-06-11 14:40:00--  https://drive.google.com/uc?export=download&id=1Z9q5rOz9mByMjl3FdPG-dypHkjf5VnkU\n",
            "Resolving drive.google.com (drive.google.com)... 142.251.40.110\n",
            "Connecting to drive.google.com (drive.google.com)|142.251.40.110|:443... connected.\n",
            "HTTP request sent, awaiting response... 303 See Other\n",
            "Location: https://drive.usercontent.google.com/download?id=1Z9q5rOz9mByMjl3FdPG-dypHkjf5VnkU&export=download [following]\n",
            "--2024-06-11 14:40:00--  https://drive.usercontent.google.com/download?id=1Z9q5rOz9mByMjl3FdPG-dypHkjf5VnkU&export=download\n",
            "Resolving drive.usercontent.google.com (drive.usercontent.google.com)... 142.251.35.161\n",
            "Connecting to drive.usercontent.google.com (drive.usercontent.google.com)|142.251.35.161|:443... connected.\n",
            "HTTP request sent, awaiting response... 200 OK\n",
            "Length: 10235187 (9.8M) [application/octet-stream]\n",
            "Saving to: ‘The-Holy-Bible-King-James-Version.pdf’\n",
            "\n",
            "The-Holy-Bible-King 100%[===================>]   9.76M  9.84MB/s    in 1.0s    \n",
            "\n",
            "2024-06-11 14:40:21 (9.84 MB/s) - ‘The-Holy-Bible-King-James-Version.pdf’ saved [10235187/10235187]\n",
            "\n"
          ]
        }
      ],
      "source": [
        "! wget --no-check-certificate 'https://drive.google.com/uc?export=download&id=1Z9q5rOz9mByMjl3FdPG-dypHkjf5VnkU' -O The-Holy-Bible-King-James-Version.pdf"
      ]
    },
    {
      "cell_type": "code",
      "execution_count": 159,
      "metadata": {},
      "outputs": [
        {
          "data": {
            "text/plain": [
              "4500096"
            ]
          },
          "execution_count": 159,
          "metadata": {},
          "output_type": "execute_result"
        }
      ],
      "source": [
        "import PyPDF2, re\n",
        "bible_text = \"\"\n",
        "table_of_content=\"\"\n",
        "with open(\"data/The-Holy-Bible-King-James-Version.pdf\", \"rb\") as f:\n",
        "    pdf_reader = PyPDF2.PdfReader(f)\n",
        "    for page_num in pdf_reader.pages:\n",
        "        # page = pdf_reader.pages(page_num)\n",
        "        temp_text=page_num.extract_text()\n",
        "        if len(re.findall('table of content|preface', temp_text, re.IGNORECASE)):\n",
        "               if 'Table of Content' in temp_text:\n",
        "                    table_of_content+=temp_text  \n",
        "               temp_text=''\n",
        "               continue\n",
        "        bible_text += page_num.extract_text()\n",
        "    \n",
        "len(bible_text)"
      ]
    },
    {
      "cell_type": "code",
      "execution_count": 185,
      "metadata": {},
      "outputs": [],
      "source": [
        "my_list=table_of_content.split('\\n')\n",
        "# Define a regular expression pattern to match the desired substrings\n",
        "pattern = re.compile(r' \\b\\w+.*?... \\d')\n",
        "my_chapters=[chapter[4:].replace(' ... ',' ') for chapter in my_list if pattern.findall(chapter)]\n",
        "\n",
        "# Define a regular expression pattern to match only alphabetic substrings\n",
        "pattern = re.compile(r'\\b[A-Za-z]+\\b')\n",
        "\n",
        "# Extract alphabetic substrings from each string in the list\n",
        "verses = [match.group() for string in my_chapters for match in pattern.finditer(string)]\n",
        "# verses"
      ]
    },
    {
      "cell_type": "code",
      "execution_count": 184,
      "metadata": {},
      "outputs": [
        {
          "data": {
            "text/plain": [
              "4499616"
            ]
          },
          "execution_count": 184,
          "metadata": {},
          "output_type": "execute_result"
        }
      ],
      "source": [
        "text_splitter = CharacterTextSplitter()\n",
        "split_bible_documents = text_splitter.split_texts(bible_text[480:])\n",
        "len(split_bible_documents)"
      ]
    },
    {
      "cell_type": "code",
      "execution_count": 196,
      "metadata": {},
      "outputs": [],
      "source": [
        "# Example large text\n",
        "large_text = bible_text[480:]\n",
        "\n",
        "# List of chapter names\n",
        "chapter_names = verses#[\"Genesis\", \"Exodus\", \"Leviticus\", \"Numbers\", \"Deuteronomy\", \"Joshua\", \"Judges\", \"Ruth\", \"Samuel\", \"Kings\"]\n",
        "\n",
        "# Initialize a list to store the split text\n",
        "split_text = []\n",
        "\n",
        "# Iterate over chapter names and split the text accordingly\n",
        "start_idx = 0\n",
        "for chapter_name in chapter_names:\n",
        "    # Find the index of the chapter name in the large text\n",
        "    idx = large_text.find(chapter_name)\n",
        "    if idx != -1:\n",
        "        # Split the text from the start index to the chapter name index\n",
        "        split_text.append(large_text[start_idx:idx].strip())\n",
        "        start_idx = idx\n",
        "    else:\n",
        "        # If chapter name not found, continue to the next chapter\n",
        "        continue\n",
        "\n",
        "# Add the remaining part of the text (after the last chapter name) to the split text\n",
        "split_text.append(large_text[start_idx:].strip())\n",
        "\n",
        "# Now split_text contains the text split by chapter names\n"
      ]
    },
    {
      "cell_type": "code",
      "execution_count": 204,
      "metadata": {},
      "outputs": [
        {
          "data": {
            "text/plain": [
              "\"Revelation\\nThe Revelation of St. John the Divine\\n   \\n{1:1} The Revelation of Jesus Christ, which God gave\\nunto him, to shew unto his servants things which must\\nshortly come to pass; and he sent and signified [it] by his\\nangel unto his servant John: {1:2} Who bare record of the\\nword of God, and of the testimony of Jesus Christ, and of all\\nthings that he saw. {1:3} Blessed [is] he that readeth, and\\nthey that hear the words of this prophecy, and keep those\\nthings which are written therein: for the time [is] at hand.\\n{1:4} John to the seven churches which are in Asia: Grace\\n[be] unto you, and peace, from him which is, and which\\nwas, and which is to come; and from the seven Spirits\\nwhich are before his throne; {1:5} And from Jesus Christ,\\n[who is] the faithful witness, [and] the first begotten of the\\ndead, and the prince of the kings of the earth. Unto him that\\nloved us, and washed us from our sins in his own blood,\\n{1:6} And hath made us kings and priests unto God and his\\nFather; to him [be] glory and dominion for ever and ever.\\nAmen. {1:7} Behold, he cometh with clouds; and every eye\\nshall see him, and they [also] which pierced him: and all\\nkindreds of the earth shall wail because of him. Even so,\\nAmen. {1:8} I am Alpha and Omega, the beginning and the\\nending, saith the Lord, which is, and which was, and which\\nis to come, the Almighty.\\n{1:9} I John, who also am your brother, and companion in\\ntribulation, and in the kingdom and patience of Jesus Christ,\\nwas in the isle that is called Patmos, for the word of God,\\nand for the testimony of Jesus Christ. {1:10} I was in the\\nSpirit on the Lord's day, and heard behind me a great voice,\\nas of a trumpet, {1:11} Saying, I am Alpha and Omega, the\\nfirst and the last: and, What thou seest, write in a book, and\\nsend [it] unto the seven churches which are in Asia; unto\\nEphesus, and unto Smyrna, and unto Pergamos, and unto\\nThyatira, and unto Sardis, and unto Philadelphia, and unto\\nLaodicea. {1:12} And I turned to see the voice that spake\\nwith me. And being turned, I saw seven golden\\ncandlesticks; {1:13} And in the midst of the seven\\ncandlesticks [one] like unto the Son of man, clothed with a\\ngarment down to the foot, and girt about the paps with a\\ngolden girdle. {1:14} His head and [his] hairs [were] white\\nlike wool, as white as snow; and his eyes [were] as a flame\\nof fire; {1:15} And his feet like unto fine brass, as if they\\nburned in a furnace; and his voice as the sound of many\\nwaters. {1:16} And he had in his right hand seven stars: and\\nout of his mouth went a sharp twoedged sword: and his\\ncountenance [was] as the sun shineth in his strength. {1:17}\\nAnd when I saw him, I fell at his feet as dead. And he laid\\nhis right hand upon me, saying unto me, Fear not; I am the\\nfirst and the last: {1:18} I [am] he that liveth, and was dead;\\nand, behold, I am alive for evermore, Amen; and have the\\nkeys of hell and of death.\\n{1:19} Write the things which thou hast seen, and the\\nthings which are, and the things which shall be hereafter;\\n{1:20} The mystery of the seven stars which thou sawest in\\nmy right hand, and the seven golden candlesticks. The\\nseven stars are the angels of the seven churches: and the\\nseven candlesticks which thou sawest are the seven\\nchurches.\\n{2:1} Unto the angel of the church of Ephesus write;\\nThese things saith he that holdeth the seven stars in his right\\nhand, who walketh in the midst of the seven golden\\ncandlesticks; {2:2} I know thy works, and thy labour, and\\nthy patience, and how thou canst not bear them which areevil: and thou hast tried them which say they are apostles,\\nand are not, and hast found them liars: {2:3} And hast\\nborne, and hast patience, and for my name's sake hast\\nlaboured, and hast not fainted. {2:4} Nevertheless I have\\n[somewhat] against thee, because thou hast left thy first\\nlove. {2:5} Remember therefore from whence thou art\\nfallen, and repent, and do the first works; or else I will come\\nunto thee quickly, and will remove thy candlestick out of\\nhis place, except thou repent. {2:6} But this thou hast, that\\nthou hatest the deeds of the Nicolaitanes, which I also hate.\\n{2:7} He that hath an ear, let him hear what the Spirit saith\\nunto the churches; To him that overcometh will I give to eat\\nof the tree of life, which is in the midst of the paradise of\\nGod.\\n{2:8} And unto the angel of the church in Smyrna write;\\nThese things saith the first and the last, which was dead, and\\nis alive; {2:9} I know thy works, and tribulation, and\\npoverty, (but thou art rich) and [I know] the blasphemy of\\nthem which say they are Jews, and are not, but [are] the\\nsynagogue of Satan. {2:10} Fear none of those things which\\nthou shalt suffer: behold, the devil shall cast [some] of you\\ninto prison, that ye may be tried; and ye shall have\\ntribulation ten days: be thou faithful unto death, and I will\\ngive thee a crown of life. {2:11} He that hath an ear, let him\\nhear what the Spirit saith unto the churches; He that\\novercometh shall not be hurt of the second death.\\n{2:12} And to the angel of the church in Pergamos write;\\nThese things saith he which hath the sharp sword with two\\nedges; {2:13} I know thy works, and where thou dwellest,\\n[even] where Satan's seat [is:] and thou holdest fast my\\nname, and hast not denied my faith, even in those days\\nwherein Antipas [was] my faithful martyr, who was slain\\namong you, where Satan dwelleth. {2:14} But I have a few\\nthings against thee, because thou hast there them that hold\\nthe doctrine of Balaam, who taught Balac to cast a\\nstumblingblock before the children of Israel, to eat things\\nsacrificed unto idols, and to commit fornication. {2:15} So\\nhast thou also them that hold the doctrine of the\\nNicolaitanes, which thing I hate. {2:16} Repent; or else I\\nwill come unto thee quickly, and will fight against them\\nwith the sword of my mouth. {2:17} He that hath an ear, let\\nhim hear what the Spirit saith unto the churches; To him\\nthat overcometh will I give to eat of the hidden manna, and\\nwill give him a white stone, and in the stone a new name\\nwritten, which no man knoweth saving he that receiveth [it.\\n]{2:18} And unto the angel of the church in Thyatira\\nwrite; These things saith the Son of God, who hath his eyes\\nlike unto a flame of fire, and his feet [are] like fine brass;\\n{2:19} I know thy works, and charity, and service, and\\nfaith, and thy patience, and thy works; and the last [to be]\\nmore than the first. {2:20} Notwithstanding I have a few\\nthings against thee, because thou sufferest that woman\\nJezebel, which calleth herself a prophetess, to teach and to\\nseduce my servants to commit fornication, and to eat things\\nsacrificed unto idols. {2:21} And I gave her space to repent\\nof her fornication; and she repented not. {2:22} Behold, I\\nwill cast her into a bed, and them that commit adultery with\\nher into great tribulation, except they repent of their deeds.\\n{2:23} And I will kill her children with death; and all the\\nchurches shall know that I am he which searcheth the reins\\nand hearts: and I will give unto every one of you according\\nto your works. {2:24} But unto you I say, and unto the rest\\nin Thyatira, as many as have not this doctrine, and which\\nhave not known the depths of Satan, as they speak; I will\\nput upon you none other burden. {2:25} But that which ye\\nhave [already] hold fast till I come. {2:26} And he that\\nDownloaded from www.holybooks.com - https://www.holybooks.com/download-bible/Revelation Page 714\\novercometh, and keepeth my works unto the end, to him\\nwill I give power over the nations: {2:27} And he shall rule\\nthem with a rod of iron; as the vessels of a potter shall they\\nbe broken to shivers: even as I received of my Father.\\n{2:28} And I will give him the morning star. {2:29} He that\\nhath an ear, let him hear what the Spirit saith unto the\\nchurches.\\n{3:1} And unto the angel of the church in Sardis write;\\nThese things saith he that hath the seven Spirits of God, and\\nthe seven stars; I know thy works, that thou hast a name that\\nthou livest, and art dead. {3:2} Be watchful, and strengthen\\nthe things which remain, that are ready to die: for I have not\\nfound thy works perfect before God. {3:3} Remember\\ntherefore how thou hast received and heard, and hold fast,\\nand repent. If therefore thou shalt not watch, I will come on\\nthee as a thief, and thou shalt not know what hour I will\\ncome upon thee. {3:4} Thou hast a few names even in\\nSardis which have not defiled their garments; and they shall\\nwalk with me in white: for they are worthy. {3:5} He that\\novercometh, the same shall be clothed in white raiment; and\\nI will not blot out his name out of the book of life, but I will\\nconfess his name before my Father, and before his angels.\\n{3:6} He that hath an ear, let him hear what the Spirit saith\\nunto the churches.\\n{3:7} And to the angel of the church in Philadelphia\\nwrite; These things saith he that is holy, he that is true, he\\nthat hath the key of David, he that openeth, and no man\\nshutteth; and shutteth, and no man openeth; {3:8} I know\\nthy works: behold, I have set before thee an open door, and\\nno man can shut it: for thou hast a little strength, and hast\\nkept my word, and hast not denied my name. {3:9} Behold,\\nI will make them of the synagogue of Satan, which say they\\nare Jews, and are not, but do lie; behold, I will make them to\\ncome and worship before thy feet, and to know that I have\\nloved thee. {3:10} Because thou hast kept the word of my\\npatience, I also will keep thee from the hour of temptation,\\nwhich shall come upon all the world, to try them that dwell\\nupon the earth. {3:11} Behold, I come quickly: hold that\\nfast which thou hast, that no man take thy crown. {3:12}\\nHim that overcometh will I make a pillar in the temple of\\nmy God, and he shall go no more out: and I will write upon\\nhim the name of my God, and the name of the city of my\\nGod, [which is] new Jerusalem, which cometh down out of\\nheaven from my God: and [I will write upon him] my new\\nname. {3:13} He that hath an ear, let him hear what the\\nSpirit saith unto the churches.\\n{3:14} And unto the angel of the church of the\\nLaodiceans write; These things saith the Amen, the faithful\\nand true witness, the beginning of the creation of God;\\n{3:15} I know thy works, that thou art neither cold nor hot:\\nI would thou wert cold or hot. {3:16} So then because thou\\nart lukewarm, and neither cold nor hot, I will spue thee out\\nof my mouth. {3:17} Because thou sayest, I am rich, and\\nincreased with goods, and have need of nothing; and\\nknowest not that thou art wretched, and miserable, and poor,\\nand blind, and naked: {3:18} I counsel thee to buy of me\\ngold tried in the fire, that thou mayest be rich; and white\\nraiment, that thou mayest be clothed, and [that] the shame\\nof thy nakedness do not appear; and anoint thine eyes with\\neyesalve, that thou mayest see. {3:19} As many as I love, I\\nrebuke and chasten: be zealous therefore, and repent. {3:20}\\nBehold, I stand at the door, and knock: if any man hear my\\nvoice, and open the door, I will come in to him, and will sup\\nwith him, and he with me. {3:21} To him that overcometh\\nwill I grant to sit with me in my throne, even as I also\\novercame, and am set down with my Father in his throne.{3:22} He that hath an ear, let him hear what the Spirit saith\\nunto the churches.\\n{4:1} After this I looked, and, behold, a door [was]\\nopened in heaven: and the first voice which I heard [was] as\\nit were of a trumpet talking with me; which said, Come up\\nhither, and I will shew thee things which must be hereafter.\\n{4:2} And immediately I was in the spirit: and, behold, a\\nthrone was set in heaven, and [one] sat on the throne. {4:3}\\nAnd he that sat was to look upon like a jasper and a sardine\\nstone: and [there was] a rainbow round about the throne, in\\nsight like unto an emerald. {4:4} And round about the\\nthrone [were] four and twenty seats: and upon the seats I\\nsaw four and twenty elders sitting, clothed in white raiment;\\nand they had on their heads crowns of gold. {4:5} And out\\nof the throne proceeded lightnings and thunderings and\\nvoices: and [there were] seven lamps of fire burning before\\nthe throne, which are the seven Spirits of God. {4:6} And\\nbefore the throne [there was] a sea of glass like unto crystal:\\nand in the midst of the throne, and round about the throne,\\n[were] four beasts full of eyes before and behind. {4:7} And\\nthe first beast [was] like a lion, and the second beast like a\\ncalf, and the third beast had a face as a man, and the fourth\\nbeast [was] like a flying eagle. {4:8} And the four beasts\\nhad each of them six wings about [him;] and [they were]\\nfull of eyes within: and they rest not day and night, saying,\\nHoly, holy, holy, Lord God Almighty, which was, and is,\\nand is to come. {4:9} And when those beasts give glory and\\nhonour and thanks to him that sat on the throne, who liveth\\nfor ever and ever, {4:10} The four and twenty elders fall\\ndown before him that sat on the throne, and worship him\\nthat liveth for ever and ever, and cast their crowns before\\nthe throne, saying, {4:11} Thou art worthy, O Lord, to\\nreceive glory and honour and power: for thou hast created\\nall things, and for thy pleasure they are and were created.\\n{5:1} And I saw in the right hand of him that sat on the\\nthrone a book written within and on the backside, sealed\\nwith seven seals. {5:2} And I saw a strong angel\\nproclaiming with a loud voice, Who is worthy to open the\\nbook, and to loose the seals thereof? {5:3} And no man in\\nheaven, nor in earth, neither under the earth, was able to\\nopen the book, neither to look thereon. {5:4} And I wept\\nmuch, because no man was found worthy to open and to\\nread the book, neither to look thereon. {5:5} And one of the\\nelders saith unto me, Weep not: behold, the Lion of the tribe\\nof Juda, the Root of David, hath prevailed to open the book,\\nand to loose the seven seals thereof. {5:6} And I beheld,\\nand, lo, in the midst of the throne and of the four beasts, and\\nin the midst of the elders, stood a Lamb as it had been slain,\\nhaving seven horns and seven eyes, which are the seven\\nSpirits of God sent forth into all the earth. {5:7} And he\\ncame and took the book out of the right hand of him that sat\\nupon the throne. {5:8} And when he had taken the book, the\\nfour beasts and four [and] twenty elders fell down before\\nthe Lamb, having every one of them harps, and golden vials\\nfull of odours, which are the prayers of saints. {5:9} And\\nthey sung a new song, saying, Thou art worthy to take the\\nbook, and to open the seals thereof: for thou wast slain, and\\nhast redeemed us to God by thy blood out of every kindred,\\nand tongue, and people, and nation; {5:10} And hast made\\nus unto our God kings and priests: and we shall reign on the\\nearth. {5:11} And I beheld, and I heard the voice of many\\nangels round about the throne and the beasts and the elders:\\nand the number of them was ten thousand times ten\\nthousand, and thousands of thousands; {5:12} Saying with a\\nloud voice, Worthy is the Lamb that was slain to receive\\npower, and riches, and wisdom, and strength, and honour,\\nand glory, and blessing. {5:13} And every creature which is\\nDownloaded from www.holybooks.com - https://www.holybooks.com/download-bible/Page 715 Revelation\\nin heaven, and on the earth, and under the earth, and such as\\nare in the sea, and all that are in them, heard I saying,\\nBlessing, and honour, and glory, and power, [be] unto him\\nthat sitteth upon the throne, and unto the Lamb for ever and\\never. {5:14} And the four beasts said, Amen. And the four\\n[and] twenty elders fell down and worshipped him that\\nliveth for ever and ever.\\n{6:1} And I saw when the Lamb opened one of the seals,\\nand I heard, as it were the noise of thunder, one of the four\\nbeasts saying, Come and see. {6:2} And I saw, and behold a\\nwhite horse: and he that sat on him had a bow; and a crown\\nwas given unto him: and he went forth conquering, and to\\nconquer. {6:3} And when he had opened the second seal, I\\nheard the second beast say, Come and see. {6:4} And there\\nwent out another horse [that was] red: and [power] was\\ngiven to him that sat thereon to take peace from the earth,\\nand that they should kill one another: and there was given\\nunto him a great sword. {6:5} And when he had opened the\\nthird seal, I heard the third beast say, Come and see. And I\\nbeheld, and lo a black horse; and he that sat on him had a\\npair of balances in his hand. {6:6} And I heard a voice in\\nthe midst of the four beasts say, A measure of wheat for a\\npenny, and three measures of barley for a penny; and [see]\\nthou hurt not the oil and the wine. {6:7} And when he had\\nopened the fourth seal, I heard the voice of the fourth beast\\nsay, Come and see. {6:8} And I looked, and behold a pale\\nhorse: and his name that sat on him was Death, and Hell\\nfollowed with him. And power was given unto them over\\nthe fourth part of the earth, to kill with sword, and with\\nhunger, and with death, and with the beasts of the earth.\\n{6:9} And when he had opened the fifth seal, I saw under\\nthe altar the souls of them that were slain for the word of\\nGod, and for the testimony which they held: {6:10} And\\nthey cried with a loud voice, saying, How long, O Lord,\\nholy and true, dost thou not judge and avenge our blood on\\nthem that dwell on the earth? {6:11} And white robes were\\ngiven unto every one of them; and it was said unto them,\\nthat they should rest yet for a little season, until their\\nfellowservants also and their brethren, that should be killed\\nas they [were,] should be fulfilled. {6:12} And I beheld\\nwhen he had opened the sixth seal, and, lo, there was a great\\nearthquake; and the sun became black as sackcloth of hair,\\nand the moon became as blood; {6:13} And the stars of\\nheaven fell unto the earth, even as a fig tree casteth her\\nuntimely figs, when she is shaken of a mighty wind. {6:14}\\nAnd the heaven departed as a scroll when it is rolled\\ntogether; and every mountain and island were moved out of\\ntheir places. {6:15} And the kings of the earth, and the great\\nmen, and the rich men, and the chief captains, and the\\nmighty men, and every bondman, and every free man, hid\\nthemselves in the dens and in the rocks of the mountains;\\n{6:16} And said to the mountains and rocks, Fall on us, and\\nhide us from the face of him that sitteth on the throne, and\\nfrom the wrath of the Lamb: {6:17} For the great day of his\\nwrath is come; and who shall be able to stand?\\n{7:1} And after these things I saw four angels standing on\\nthe four corners of the earth, holding the four winds of the\\nearth, that the wind should not blow on the earth, nor on the\\nsea, nor on any tree. {7:2} And I saw another angel\\nascending from the east, having the seal of the living God:\\nand he cried with a loud voice to the four angels, to whom it\\nwas given to hurt the earth and the sea, {7:3} Saying, Hurt\\nnot the earth, neither the sea, nor the trees, till we have\\nsealed the servants of our God in their foreheads. {7:4} And\\nI heard the number of them which were sealed: [and there\\nwere] sealed an hundred [and] forty [and] four thousand of\\nall the tribes of the children of Israel. {7:5} Of the tribe ofJuda [were] sealed twelve thousand. Of the tribe of Reuben\\n[were] sealed twelve thousand. Of the tribe of Gad [were]\\nsealed twelve thousand. {7:6} Of the tribe of Aser [were]\\nsealed twelve thousand. Of the tribe of Nepthalim [were]\\nsealed twelve thousand. Of the tribe of Manasses [were]\\nsealed twelve thousand. {7:7} Of the tribe of Simeon [were]\\nsealed twelve thousand. Of the tribe of Levi [were] sealed\\ntwelve thousand. Of the tribe of Issachar [were] sealed\\ntwelve thousand. {7:8} Of the tribe of Zabulon [were]\\nsealed twelve thousand. Of the tribe of Joseph [were] sealed\\ntwelve thousand. Of the tribe of Benjamin [were] sealed\\ntwelve thousand. {7:9} After this I beheld, and, lo, a great\\nmultitude, which no man could number, of all nations, and\\nkindreds, and people, and tongues, stood before the throne,\\nand before the Lamb, clothed with white robes, and palms\\nin their hands; {7:10} And cried with a loud voice, saying,\\nSalvation to our God which sitteth upon the throne, and\\nunto the Lamb. {7:11} And all the angels stood round about\\nthe throne, and [about] the elders and the four beasts, and\\nfell before the throne on their faces, and worshipped God,\\n{7:12} Saying, Amen: Blessing, and glory, and wisdom,\\nand thanksgiving, and honour, and power, and might, [be]\\nunto our God for ever and ever. Amen. {7:13} And one of\\nthe elders answered, saying unto me, What are these which\\nare arrayed in white robes? and whence came they? {7:14}\\nAnd I said unto him, Sir, thou knowest. And he said to me,\\nThese are they which came out of great tribulation, and\\nhave washed their robes, and made them white in the blood\\nof the Lamb. {7:15} Therefore are they before the throne of\\nGod, and serve him day and night in his temple: and he that\\nsitteth on the throne shall dwell among them. {7:16} They\\nshall hunger no more, neither thirst any more; neither shall\\nthe sun light on them, nor any heat. {7:17} For the Lamb\\nwhich is in the midst of the throne shall feed them, and shall\\nlead them unto living fountains of waters: and God shall\\nwipe away all tears from their eyes.\\n{8:1} And when he had opened the seventh seal, there\\nwas silence in heaven about the space of half an hour. {8:2}\\nAnd I saw the seven angels which stood before God; and to\\nthem were given seven trumpets. {8:3} And another angel\\ncame and stood at the altar, having a golden censer; and\\nthere was given unto him much incense, that he should offer\\n[it] with the prayers of all saints upon the golden altar which\\nwas before the throne. {8:4} And the smoke of the incense,\\n[which came] with the prayers of the saints, ascended up\\nbefore God out of the angel's hand. {8:5} And the angel\\ntook the censer, and filled it with fire of the altar, and cast\\n[it] into the earth: and there were voices, and thunderings,\\nand lightnings, and an earthquake. {8:6} And the seven\\nangels which had the seven trumpets prepared themselves to\\nsound.\\n{8:7} The first angel sounded, and there followed hail and\\nfire mingled with blood, and they were cast upon the earth:\\nand the third part of trees was burnt up, and all green grass\\nwas burnt up. {8:8} And the second angel sounded, and as it\\nwere a great mountain burning with fire was cast into the\\nsea: and the third part of the sea became blood; {8:9} And\\nthe third part of the creatures which were in the sea, and had\\nlife, died; and the third part of the ships were destroyed.\\n{8:10} And the third angel sounded, and there fell a great\\nstar from heaven, burning as it were a lamp, and it fell upon\\nthe third part of the rivers, and upon the fountains of waters;\\n{8:11} And the name of the star is called Wormwood: and\\nthe third part of the waters became wormwood; and many\\nmen died of the waters, because they were made bitter.\\n{8:12} And the fourth angel sounded, and the third part of\\nthe sun was smitten, and the third part of the moon, and the\\nDownloaded from www.holybooks.com - https://www.holybooks.com/download-bible/Revelation Page 716\\nthird part of the stars; so as the third part of them was\\ndarkened, and the day shone not for a third part of it, and\\nthe night likewise.\\n{8:13} And I beheld, and heard an angel flying through\\nthe midst of heaven, saying with a loud voice, Woe, woe,\\nwoe, to the inhabiters of the earth by reason of the other\\nvoices of the trumpet of the three angels, which are yet to\\nsound!\\n{9:1} And the fifth angel sounded, and I saw a star fall\\nfrom heaven unto the earth: and to him was given the key of\\nthe bottomless pit. {9:2} And he opened the bottomless pit;\\nand there arose a smoke out of the pit, as the smoke of a\\ngreat furnace; and the sun and the air were darkened by\\nreason of the smoke of the pit. {9:3} And there came out of\\nthe smoke locusts upon the earth: and unto them was given\\npower, as the scorpions of the earth have power. {9:4} And\\nit was commanded them that they should not hurt the grass\\nof the earth, neither any green thing, neither any tree; but\\nonly those men which have not the seal of God in their\\nforeheads. {9:5} And to them it was given that they should\\nnot kill them, but that they should be tormented five\\nmonths: and their torment [was] as the torment of a\\nscorpion, when he striketh a man. {9:6} And in those days\\nshall men seek death, and shall not find it; and shall desire\\nto die, and death shall flee from them. {9:7} And the shapes\\nof the locusts [were] like unto horses prepared unto battle;\\nand on their heads [were] as it were crowns like gold, and\\ntheir faces [were] as the faces of men. {9:8} And they had\\nhair as the hair of women, and their teeth were as [the teeth]\\nof lions. {9:9} And they had breastplates, as it were\\nbreastplates of iron; and the sound of their wings [was] as\\nthe sound of chariots of many horses running to battle.\\n{9:10} And they had tails like unto scorpions, and there\\nwere stings in their tails: and their power [was] to hurt men\\nfive months. {9:11} And they had a king over them, [which\\nis] the angel of the bottomless pit, whose name in the\\nHebrew tongue [is] Abaddon, but in the Greek tongue hath\\n[his] name Apollyon. {9:12} One woe is past; [and,]\\nbehold, there come two woes more hereafter.\\n{9:13} And the sixth angel sounded, and I heard a voice\\nfrom the four horns of the golden altar which is before God,\\n{9:14} Saying to the sixth angel which had the trumpet,\\nLoose the four angels which are bound in the great river\\nEuphrates. {9:15} And the four angels were loosed, which\\nwere prepared for an hour, and a day, and a month, and a\\nyear, for to slay the third part of men. {9:16} And the\\nnumber of the army of the horsemen [were] two hundred\\nthousand thousand: and I heard the number of them. {9:17}\\nAnd thus I saw the horses in the vision, and them that sat on\\nthem, having breastplates of fire, and of jacinth, and\\nbrimstone: and the heads of the horses [were] as the heads\\nof lions; and out of their mouths issued fire and smoke and\\nbrimstone. {9:18} By these three was the third part of men\\nkilled, by the fire, and by the smoke, and by the brimstone,\\nwhich issued out of their mouths. {9:19} For their power is\\nin their mouth, and in their tails: for their tails [were] like\\nunto serpents, and had heads, and with them they do hurt.\\n{9:20} And the rest of the men which were not killed by\\nthese plagues yet repented not of the works of their hands,\\nthat they should not worship devils, and idols of gold, and\\nsilver, and brass, and stone, and of wood: which neither can\\nsee, nor hear, nor walk: {9:21} Neither repented they of\\ntheir murders, nor of their sorceries, nor of their fornication,\\nnor of their thefts.\\n{10:1} And I saw another mighty angel come down fromheaven, clothed with a cloud: and a rainbow [was] upon his\\nhead, and his face [was] as it were the sun, and his feet as\\npillars of fire: {10:2} And he had in his hand a little book\\nopen: and he set his right foot upon the sea, and [his] left\\n[foot] on the earth, {10:3} And cried with a loud voice, as\\n[when] a lion roareth: and when he had cried, seven\\nthunders uttered their voices. {10:4} And when the seven\\nthunders had uttered their voices, I was about to write: and I\\nheard a voice from heaven saying unto me, Seal up those\\nthings which the seven thunders uttered, and write them not.\\n{10:5} And the angel which I saw stand upon the sea and\\nupon the earth lifted up his hand to heaven, {10:6} And\\nsware by him that liveth for ever and ever, who created\\nheaven, and the things that therein are, and the earth, and\\nthe things that therein are, and the sea, and the things which\\nare therein, that there should be time no longer: {10:7} But\\nin the days of the voice of the seventh angel, when he shall\\nbegin to sound, the mystery of God should be finished, as\\nhe hath declared to his servants the prophets. {10:8} And\\nthe voice which I heard from heaven spake unto me again,\\nand said, Go [and] take the little book which is open in the\\nhand of the angel which standeth upon the sea and upon the\\nearth. {10:9} And I went unto the angel, and said unto him,\\nGive me the little book. And he said unto me, Take [it,] and\\neat it up; and it shall make thy belly bitter, but it shall be in\\nthy mouth sweet as honey. {10:10} And I took the little\\nbook out of the angel's hand, and ate it up; and it was in my\\nmouth sweet as honey: and as soon as I had eaten it, my\\nbelly was bitter. {10:11} And he said unto me, Thou must\\nprophesy again before many peoples, and nations, and\\ntongues, and kings.\\n{11:1} And there was given me a reed like unto a rod: and\\nthe angel stood, saying, Rise, and measure the temple of\\nGod, and the altar, and them that worship therein. {11:2}\\nBut the court which is without the temple leave out, and\\nmeasure it not; for it is given unto the Gentiles: and the holy\\ncity shall they tread under foot forty [and] two months.\\n{11:3} And I will give [power] unto my two witnesses, and\\nthey shall prophesy a thousand two hundred [and]\\nthreescore days, clothed in sackcloth. {11:4} These are the\\ntwo olive trees, and the two candlesticks standing before the\\nGod of the earth. {11:5} And if any man will hurt them, fire\\nproceedeth out of their mouth, and devoureth their enemies:\\nand if any man will hurt them, he must in this manner be\\nkilled. {11:6} These have power to shut heaven, that it rain\\nnot in the days of their prophecy: and have power over\\nwaters to turn them to blood, and to smite the earth with all\\nplagues, as often as they will. {11:7} And when they shall\\nhave finished their testimony, the beast that ascendeth out of\\nthe bottomless pit shall make war against them, and shall\\novercome them, and kill them. {11:8} And their dead\\nbodies [shall lie] in the street of the great city, which\\nspiritually is called Sodom and Egypt, where also our Lord\\nwas crucified. {11:9} And they of the people and kindreds\\nand tongues and nations shall see their dead bodies three\\ndays and an half, and shall not suffer their dead bodies to be\\nput in graves. {11:10} And they that dwell upon the earth\\nshall rejoice over them, and make merry, and shall send\\ngifts one to another; because these two prophets tormented\\nthem that dwelt on the earth. {11:11} And after three days\\nand an half the Spirit of life from God entered into them,\\nand they stood upon their feet; and great fear fell upon them\\nwhich saw them. {11:12} And they heard a great voice from\\nheaven saying unto them, Come up hither. And they\\nascended up to heaven in a cloud; and their enemies beheld\\nthem. {11:13} And the same hour was there a great\\nearthquake, and the tenth part of the city fell, and in the\\nearthquake were slain of men seven thousand: and the\\nDownloaded from www.holybooks.com - https://www.holybooks.com/download-bible/Page 717 Revelation\\nremnant were affrighted, and gave glory to the God of\\nheaven. {11:14} The second woe is past; [and,] behold, the\\nthird woe cometh quickly. {11:15} And the seventh angel\\nsounded; and there were great voices in heaven, saying, The\\nkingdoms of this world are become [the kingdoms] of our\\nLord, and of his Christ; and he shall reign for ever and ever.\\n{11:16} And the four and twenty elders, which sat before\\nGod on their seats, fell upon their faces, and worshipped\\nGod, {11:17} Saying, We give thee thanks, O Lord God\\nAlmighty, which art, and wast, and art to come; because\\nthou hast taken to thee thy great power, and hast reigned.\\n{11:18} And the nations were angry, and thy wrath is come,\\nand the time of the dead, that they should be judged, and\\nthat thou shouldest give reward unto thy servants the\\nprophets, and to the saints, and them that fear thy name,\\nsmall and great; and shouldest destroy them which destroy\\nthe earth. {11:19} And the temple of God was opened in\\nheaven, and there was seen in his temple the ark of his\\ntestament: and there were lightnings, and voices, and\\nthunderings, and an earthquake, and great hail.\\n{12:1} And there appeared a great wonder in heaven; a\\nwoman clothed with the sun, and the moon under her feet,\\nand upon her head a crown of twelve stars: {12:2} And she\\nbeing with child cried, travailing in birth, and pained to be\\ndelivered. {12:3} And there appeared another wonder in\\nheaven; and behold a great red dragon, having seven heads\\nand ten horns, and seven crowns upon his heads. {12:4}\\nAnd his tail drew the third part of the stars of heaven, and\\ndid cast them to the earth: and the dragon stood before the\\nwoman which was ready to be delivered, for to devour her\\nchild as soon as it was born. {12:5} And she brought forth a\\nman child, who was to rule all nations with a rod of iron:\\nand her child was caught up unto God, and [to] his throne.\\n{12:6} And the woman fled into the wilderness, where she\\nhath a place prepared of God, that they should feed her there\\na thousand two hundred [and] threescore days. {12:7} And\\nthere was war in heaven: Michael and his angels fought\\nagainst the dragon; and the dragon fought and his angels,\\n{12:8} And prevailed not; neither was their place found any\\nmore in heaven. {12:9} And the great dragon was cast out,\\nthat old serpent, called the Devil, and Satan, which\\ndeceiveth the whole world: he was cast out into the earth,\\nand his angels were cast out with him. {12:10} And I heard\\na loud voice saying in heaven, Now is come salvation, and\\nstrength, and the kingdom of our God, and the power of his\\nChrist: for the accuser of our brethren is cast down, which\\naccused them before our God day and night. {12:11} And\\nthey overcame him by the blood of the Lamb, and by the\\nword of their testimony; and they loved not their lives unto\\nthe death. {12:12} Therefore rejoice, [ye] heavens, and ye\\nthat dwell in them. Woe to the inhabiters of the earth and of\\nthe sea! for the devil is come down unto you, having great\\nwrath, because he knoweth that he hath but a short time.\\n{12:13} And when the dragon saw that he was cast unto the\\nearth, he persecuted the woman which brought forth the\\nman [child. ]{12:14} And to the woman were given two\\nwings of a great eagle, that she might fly into the\\nwilderness, into her place, where she is nourished for a\\ntime, and times, and half a time, from the face of the\\nserpent. {12:15} And the serpent cast out of his mouth\\nwater as a flood after the woman, that he might cause her to\\nbe carried away of the flood. {12:16} And the earth helped\\nthe woman, and the earth opened her mouth, and swallowed\\nup the flood which the dragon cast out of his mouth.\\n{12:17} And the dragon was wroth with the woman, and\\nwent to make war with the remnant of her seed, which keep\\nthe commandments of God, and have the testimony of Jesus\\nChrist.{13:1} And I stood upon the sand of the sea, and saw a\\nbeast rise up out of the sea, having seven heads and ten\\nhorns, and upon his horns ten crowns, and upon his heads\\nthe name of blasphemy. {13:2} And the beast which I saw\\nwas like unto a leopard, and his feet were as [the feet] of a\\nbear, and his mouth as the mouth of a lion: and the dragon\\ngave him his power, and his seat, and great authority.\\n{13:3} And I saw one of his heads as it were wounded to\\ndeath; and his deadly wound was healed: and all the world\\nwondered after the beast. {13:4} And they worshipped the\\ndragon which gave power unto the beast: and they\\nworshipped the beast, saying, Who [is] like unto the beast?\\nwho is able to make war with him? {13:5} And there was\\ngiven unto him a mouth speaking great things and\\nblasphemies; and power was given unto him to continue\\nforty [and] two months. {13:6} And he opened his mouth in\\nblasphemy against God, to blaspheme his name, and his\\ntabernacle, and them that dwell in heaven. {13:7} And it\\nwas given unto him to make war with the saints, and to\\novercome them: and power was given him over all kindreds,\\nand tongues, and nations. {13:8} And all that dwell upon\\nthe earth shall worship him, whose names are not written in\\nthe book of life of the Lamb slain from the foundation of the\\nworld. {13:9} If any man have an ear, let him hear. {13:10}\\nHe that leadeth into captivity shall go into captivity: he that\\nkilleth with the sword must be killed with the sword. Here is\\nthe patience and the faith of the saints. {13:11} And I\\nbeheld another beast coming up out of the earth; and he had\\ntwo horns like a lamb, and he spake as a dragon. {13:12}\\nAnd he exerciseth all the power of the first beast before\\nhim, and causeth the earth and them which dwell therein to\\nworship the first beast, whose deadly wound was healed.\\n{13:13} And he doeth great wonders, so that he maketh fire\\ncome down from heaven on the earth in the sight of men,\\n{13:14} And deceiveth them that dwell on the earth by [the\\nmeans of] those miracles which he had power to do in the\\nsight of the beast; saying to them that dwell on the earth,\\nthat they should make an image to the beast, which had the\\nwound by a sword, and did live. {13:15} And he had power\\nto give life unto the image of the beast, that the image of the\\nbeast should both speak, and cause that as many as would\\nnot worship the image of the beast should be killed. {13:16}\\nAnd he causeth all, both small and great, rich and poor, free\\nand bond, to receive a mark in their right hand, or in their\\nforeheads: {13:17} And that no man might buy or sell, save\\nhe that had the mark, or the name of the beast, or the\\nnumber of his name. {13:18} Here is wisdom. Let him that\\nhath understanding count the number of the beast: for it is\\nthe number of a man; and his number [is] Six hundred\\nthreescore [and] six.\\n{14:1} And I looked, and, lo, a Lamb stood on the mount\\nSion, and with him an hundred forty [and] four thousand,\\nhaving his Father's name written in their foreheads. {14:2}\\nAnd I heard a voice from heaven, as the voice of many\\nwaters, and as the voice of a great thunder: and I heard the\\nvoice of harpers harping with their harps: {14:3} And they\\nsung as it were a new song before the throne, and before the\\nfour beasts, and the elders: and no man could learn that song\\nbut the hundred [and] forty [and] four thousand, which were\\nredeemed from the earth. {14:4} These are they which were\\nnot defiled with women; for they are virgins. These are they\\nwhich follow the Lamb whithersoever he goeth. These were\\nredeemed from among men, [being] the firstfruits unto God\\nand to the Lamb. {14:5} And in their mouth was found no\\nguile: for they are without fault before the throne of God.\\n{14:6} And I saw another angel fly in the midst of\\nheaven, having the everlasting gospel to preach unto them\\nDownloaded from www.holybooks.com - https://www.holybooks.com/download-bible/Revelation Page 718\\nthat dwell on the earth, and to every nation, and kindred,\\nand tongue, and people, {14:7} Saying with a loud voice,\\nFear God, and give glory to him; for the hour of his\\njudgment is come: and worship him that made heaven, and\\nearth, and the sea, and the fountains of waters. {14:8} And\\nthere followed another angel, saying, Babylon is fallen, is\\nfallen, that great city, because she made all nations drink of\\nthe wine of the wrath of her fornication. {14:9} And the\\nthird angel followed them, saying with a loud voice, If any\\nman worship the beast and his image, and receive [his]\\nmark in his forehead, or in his hand, {14:10} The same shall\\ndrink of the wine of the wrath of God, which is poured out\\nwithout mixture into the cup of his indignation; and he shall\\nbe tormented with fire and brimstone in the presence of the\\nholy angels, and in the presence of the Lamb: {14:11} And\\nthe smoke of their torment ascendeth up for ever and ever:\\nand they have no rest day nor night, who worship the beast\\nand his image, and whosoever receiveth the mark of his\\nname. {14:12} Here is the patience of the saints: here [are]\\nthey that keep the commandments of God, and the faith of\\nJesus. {14:13} And I heard a voice from heaven saying unto\\nme, Write, Blessed [are] the dead which die in the Lord\\nfrom henceforth: Yea, saith the Spirit, that they may rest\\nfrom their labours; and their works do follow them.\\n{14:14} And I looked, and behold a white cloud, and\\nupon the cloud [one] sat like unto the Son of man, having\\non his head a golden crown, and in his hand a sharp sickle.\\n{14:15} And another angel came out of the temple, crying\\nwith a loud voice to him that sat on the cloud, Thrust in thy\\nsickle, and reap: for the time is come for thee to reap; for\\nthe harvest of the earth is ripe. {14:16} And he that sat on\\nthe cloud thrust in his sickle on the earth; and the earth was\\nreaped. {14:17} And another angel came out of the temple\\nwhich is in heaven, he also having a sharp sickle. {14:18}\\nAnd another angel came out from the altar, which had\\npower over fire; and cried with a loud cry to him that had\\nthe sharp sickle, saying, Thrust in thy sharp sickle, and\\ngather the clusters of the vine of the earth; for her grapes are\\nfully ripe. {14:19} And the angel thrust in his sickle into the\\nearth, and gathered the vine of the earth, and cast [it] into\\nthe great winepress of the wrath of God. {14:20} And the\\nwinepress was trodden without the city, and blood came out\\nof the winepress, even unto the horse bridles, by the space\\nof a thousand [and] six hundred furlongs.\\n{15:1} And I saw another sign in heaven, great and\\nmarvellous, seven angels having the seven last plagues; for\\nin them is filled up the wrath of God. {15:2} And I saw as it\\nwere a sea of glass mingled with fire: and them that had\\ngotten the victory over the beast, and over his image, and\\nover his mark, [and] over the number of his name, stand on\\nthe sea of glass, having the harps of God. {15:3} And they\\nsing the song of Moses the servant of God, and the song of\\nthe Lamb, saying, Great and marvellous [are] thy works,\\nLord God Almighty; just and true [are] thy ways, thou King\\nof saints. {15:4} Who shall not fear thee, O Lord, and\\nglorify thy name? for [thou] only [art] holy: for all nations\\nshall come and worship before thee; for thy judgments are\\nmade manifest. {15:5} And after that I looked, and, behold,\\nthe temple of the tabernacle of the testimony in heaven was\\nopened: {15:6} And the seven angels came out of the\\ntemple, having the seven plagues, clothed in pure and white\\nlinen, and having their breasts girded with golden girdles.\\n{15:7} And one of the four beasts gave unto the seven\\nangels seven golden vials full of the wrath of God, who\\nliveth for ever and ever. {15:8} And the temple was filled\\nwith smoke from the glory of God, and from his power; and\\nno man was able to enter into the temple, till the sevenplagues of the seven angels were fulfilled.\\n{16:1} And I heard a great voice out of the temple saying\\nto the seven angels, Go your ways, and pour out the vials of\\nthe wrath of God upon the earth. {16:2} And the first went,\\nand poured out his vial upon the earth; and there fell a\\nnoisome and grievous sore upon the men which had the\\nmark of the beast, and [upon] them which worshipped his\\nimage. {16:3} And the second angel poured out his vial\\nupon the sea; and it became as the blood of a dead [man:]\\nand every living soul died in the sea. {16:4} And the third\\nangel poured out his vial upon the rivers and fountains of\\nwaters; and they became blood. {16:5} And I heard the\\nangel of the waters say, Thou art righteous, O Lord, which\\nart, and wast, and shalt be, because thou hast judged thus.\\n{16:6} For they have shed the blood of saints and prophets,\\nand thou hast given them blood to drink; for they are\\nworthy. {16:7} And I heard another out of the altar say,\\nEven so, Lord God Almighty, true and righteous [are] thy\\njudgments. {16:8} And the fourth angel poured out his vial\\nupon the sun; and power was given unto him to scorch men\\nwith fire. {16:9} And men were scorched with great heat,\\nand blasphemed the name of God, which hath power over\\nthese plagues: and they repented not to give him glory.\\n{16:10} And the fifth angel poured out his vial upon the\\nseat of the beast; and his kingdom was full of darkness; and\\nthey gnawed their tongues for pain, {16:11} And\\nblasphemed the God of heaven because of their pains and\\ntheir sores, and repented not of their deeds. {16:12} And the\\nsixth angel poured out his vial upon the great river\\nEuphrates; and the water thereof was dried up, that the way\\nof the kings of the east might be prepared. {16:13} And I\\nsaw three unclean spirits like frogs [come] out of the mouth\\nof the dragon, and out of the mouth of the beast, and out of\\nthe mouth of the false prophet. {16:14} For they are the\\nspirits of devils, working miracles, [which] go forth unto the\\nkings of the earth and of the whole world, to gather them to\\nthe battle of that great day of God Almighty. {16:15}\\nBehold, I come as a thief. Blessed [is] he that watcheth, and\\nkeepeth his garments, lest he walk naked, and they see his\\nshame. {16:16} And he gathered them together into a place\\ncalled in the Hebrew tongue Armageddon. {16:17} And the\\nseventh angel poured out his vial into the air; and there\\ncame a great voice out of the temple of heaven, from the\\nthrone, saying, It is done. {16:18} And there were voices,\\nand thunders, and lightnings; and there was a great\\nearthquake, such as was not since men were upon the earth,\\nso mighty an earthquake, [and] so great. {16:19} And the\\ngreat city was divided into three parts, and the cities of the\\nnations fell: and great Babylon came in remembrance before\\nGod, to give unto her the cup of the wine of the fierceness\\nof his wrath. {16:20} And every island fled away, and the\\nmountains were not found. {16:21} And there fell upon\\nmen a great hail out of heaven, [every stone] about the\\nweight of a talent: and men blasphemed God because of the\\nplague of the hail; for the plague thereof was exceeding\\ngreat.\\n{17:1} And there came one of the seven angels which had\\nthe seven vials, and talked with me, saying unto me, Come\\nhither; I will shew unto thee the judgment of the great\\nwhore that sitteth upon many waters: {17:2} With whom\\nthe kings of the earth have committed fornication, and the\\ninhabitants of the earth have been made drunk with the wine\\nof her fornication. {17:3} So he carried me away in the\\nspirit into the wilderness: and I saw a woman sit upon a\\nscarlet coloured beast, full of names of blasphemy, having\\nseven heads and ten horns. {17:4} And the woman was\\narrayed in purple and scarlet colour, and decked with gold\\nDownloaded from www.holybooks.com - https://www.holybooks.com/download-bible/Page 719 Revelation\\nand precious stones and pearls, having a golden cup in her\\nhand full of abominations and filthiness of her fornication:\\n{17:5} And upon her forehead [was] a name written,\\nMYSTERY, BABYLON THE GREAT, THE MOTHER\\nOF HARLOTS AND ABOMINATIONS OF THE EARTH.\\n{17:6} And I saw the woman drunken with the blood of the\\nsaints, and with the blood of the martyrs of Jesus: and when\\nI saw her, I wondered with great admiration. {17:7} And\\nthe angel said unto me, Wherefore didst thou marvel? I will\\ntell thee the mystery of the woman, and of the beast that\\ncarrieth her, which hath the seven heads and ten horns.\\n{17:8} The beast that thou sawest was, and is not; and shall\\nascend out of the bottomless pit, and go into perdition: and\\nthey that dwell on the earth shall wonder, whose names\\nwere not written in the book of life from the foundation of\\nthe world, when they behold the beast that was, and is not,\\nand yet is. {17:9} And here [is] the mind which hath\\nwisdom. The seven heads are seven mountains, on which\\nthe woman sitteth. {17:10} And there are seven kings: five\\nare fallen, and one is, [and] the other is not yet come; and\\nwhen he cometh, he must continue a short space. {17:11}\\nAnd the beast that was, and is not, even he is the eighth, and\\nis of the seven, and goeth into perdition. {17:12} And the\\nten horns which thou sawest are ten kings, which have\\nreceived no kingdom as yet; but receive power as kings one\\nhour with the beast. {17:13} These have one mind, and\\nshall give their power and strength unto the beast. {17:14}\\nThese shall make war with the Lamb, and the Lamb shall\\novercome them: for he is Lord of lords, and King of kings:\\nand they that are with him [are] called, and chosen, and\\nfaithful. {17:15} And he saith unto me, The waters which\\nthou sawest, where the whore sitteth, are peoples, and\\nmultitudes, and nations, and tongues. {17:16} And the ten\\nhorns which thou sawest upon the beast, these shall hate the\\nwhore, and shall make her desolate and naked, and shall eat\\nher flesh, and burn her with fire. {17:17} For God hath put\\nin their hearts to fulfil his will, and to agree, and give their\\nkingdom unto the beast, until the words of God shall be\\nfulfilled. {17:18} And the woman which thou sawest is that\\ngreat city, which reigneth over the kings of the earth.\\n{18:1} And after these things I saw another angel come\\ndown from heaven, having great power; and the earth was\\nlightened with his glory. {18:2} And he cried mightily with\\na strong voice, saying, Babylon the great is fallen, is fallen,\\nand is become the habitation of devils, and the hold of every\\nfoul spirit, and a cage of every unclean and hateful bird.\\n{18:3} For all nations have drunk of the wine of the wrath\\nof her fornication, and the kings of the earth have\\ncommitted fornication with her, and the merchants of the\\nearth are waxed rich through the abundance of her\\ndelicacies. {18:4} And I heard another voice from heaven,\\nsaying, Come out of her, my people, that ye be not partakers\\nof her sins, and that ye receive not of her plagues. {18:5}\\nFor her sins have reached unto heaven, and God hath\\nremembered her iniquities. {18:6} Reward her even as she\\nrewarded you, and double unto her double according to her\\nworks: in the cup which she hath filled fill to her double.\\n{18:7} How much she hath glorified herself, and lived\\ndeliciously, so much torment and sorrow give her: for she\\nsaith in her heart, I sit a queen, and am no widow, and shall\\nsee no sorrow. {18:8} Therefore shall her plagues come in\\none day, death, and mourning, and famine; and she shall be\\nutterly burned with fire: for strong [is] the Lord God who\\njudgeth her. {18:9} And the kings of the earth, who have\\ncommitted fornication and lived deliciously with her, shall\\nbewail her, and lament for her, when they shall see the\\nsmoke of her burning, {18:10} Standing afar off for the fear\\nof her torment, saying, Alas, alas, that great city Babylon,that mighty city! for in one hour is thy judgment come.\\n{18:11} And the merchants of the earth shall weep and\\nmourn over her; for no man buyeth their merchandise any\\nmore: {18:12} The merchandise of gold, and silver, and\\nprecious stones, and of pearls, and fine linen, and purple,\\nand silk, and scarlet, and all thyine wood, and all manner\\nvessels of ivory, and all manner vessels of most precious\\nwood, and of brass, and iron, and marble, {18:13} And\\ncinnamon, and odours, and ointments, and frankincense,\\nand wine, and oil, and fine flour, and wheat, and beasts, and\\nsheep, and horses, and chariots, and slaves, and souls of\\nmen. {18:14} And the fruits that thy soul lusted after are\\ndeparted from thee, and all things which were dainty and\\ngoodly are departed from thee, and thou shalt find them no\\nmore at all. {18:15} The merchants of these things, which\\nwere made rich by her, shall stand afar off for the fear of her\\ntorment, weeping and wailing, {18:16} And saying, Alas,\\nalas, that great city, that was clothed in fine linen, and\\npurple, and scarlet, and decked with gold, and precious\\nstones, and pearls! {18:17} For in one hour so great riches\\nis come to nought. And every shipmaster, and all the\\ncompany in ships, and sailors, and as many as trade by sea,\\nstood afar off, {18:18} And cried when they saw the smoke\\nof her burning, saying, What [city is] like unto this great\\ncity! {18:19} And they cast dust on their heads, and cried,\\nweeping and wailing, saying, Alas, alas, that great city,\\nwherein were made rich all that had ships in the sea by\\nreason of her costliness! for in one hour is she made\\ndesolate. {18:20} Rejoice over her, [thou] heaven, and [ye]\\nholy apostles and prophets; for God hath avenged you on\\nher. {18:21} And a mighty angel took up a stone like a great\\nmillstone, and cast [it] into the sea, saying, Thus with\\nviolence shall that great city Babylon be thrown down, and\\nshall be found no more at all. {18:22} And the voice of\\nharpers, and musicians, and of pipers, and trumpeters, shall\\nbe heard no more at all in thee; and no craftsman, of\\nwhatsoever craft [he be,] shall be found any more in thee;\\nand the sound of a millstone shall be heard no more at all in\\nthee; {18:23} And the light of a candle shall shine no more\\nat all in thee; and the voice of the bridegroom and of the\\nbride shall be heard no more at all in thee: for thy merchants\\nwere the great men of the earth; for by thy sorceries were all\\nnations deceived. {18:24} And in her was found the blood\\nof prophets, and of saints, and of all that were slain upon the\\nearth.\\n{19:1} And after these things I heard a great voice of\\nmuch people in heaven, saying, Alleluia; Salvation, and\\nglory, and honour, and power, unto the Lord our God:\\n{19:2} For true and righteous [are] his judgments: for he\\nhath judged the great whore, which did corrupt the earth\\nwith her fornication, and hath avenged the blood of his\\nservants at her hand. {19:3} And again they said, Alleluia.\\nAnd her smoke rose up for ever and ever. {19:4} And the\\nfour and twenty elders and the four beasts fell down and\\nworshipped God that sat on the throne, saying, Amen;\\nAlleluia. {19:5} And a voice came out of the throne, saying,\\nPraise our God, all ye his servants, and ye that fear him,\\nboth small and great. {19:6} And I heard as it were the\\nvoice of a great multitude, and as the voice of many waters,\\nand as the voice of mighty thunderings, saying, Alleluia: for\\nthe Lord God omnipotent reigneth. {19:7} Let us be glad\\nand rejoice, and give honour to him: for the marriage of the\\nLamb is come, and his wife hath made herself ready. {19:8}\\nAnd to her was granted that she should be arrayed in fine\\nlinen, clean and white: for the fine linen is the righteousness\\nof saints. {19:9} And he saith unto me, Write, Blessed [are]\\nthey which are called unto the marriage supper of the Lamb.\\nAnd he saith unto me, These are the true sayings of God.\\nDownloaded from www.holybooks.com - https://www.holybooks.com/download-bible/Revelation Page 720\\n{19:10} And I fell at his feet to worship him. And he said\\nunto me, See [thou do it] not: I am thy fellowservant, and of\\nthy brethren that have the testimony of Jesus: worship God:\\nfor the testimony of Jesus is the spirit of prophecy. {19:11}\\nAnd I saw heaven opened, and behold a white horse; and he\\nthat sat upon him [was] called Faithful and True, and in\\nrighteousness he doth judge and make war. {19:12} His\\neyes [were] as a flame of fire, and on his head [were] many\\ncrowns; and he had a name written, that no man knew, but\\nhe himself. {19:13} And he [was] clothed with a vesture\\ndipped in blood: and his name is called The Word of God.\\n{19:14} And the armies [which were] in heaven followed\\nhim upon white horses, clothed in fine linen, white and\\nclean. {19:15} And out of his mouth goeth a sharp sword,\\nthat with it he should smite the nations: and he shall rule\\nthem with a rod of iron: and he treadeth the winepress of the\\nfierceness and wrath of Almighty God. {19:16} And he\\nhath on [his] vesture and on his thigh a name written, KING\\nOF KINGS, AND LORD OF LORDS.\\n{19:17} And I saw an angel standing in the sun; and he\\ncried with a loud voice, saying to all the fowls that fly in the\\nmidst of heaven, Come and gather yourselves together unto\\nthe supper of the great God; {19:18} That ye may eat the\\nflesh of kings, and the flesh of captains, and the flesh of\\nmighty men, and the flesh of horses, and of them that sit on\\nthem, and the flesh of all [men, both] free and bond, both\\nsmall and great. {19:19} And I saw the beast, and the kings\\nof the earth, and their armies, gathered together to make war\\nagainst him that sat on the horse, and against his army.\\n{19:20} And the beast was taken, and with him the false\\nprophet that wrought miracles before him, with which he\\ndeceived them that had received the mark of the beast, and\\nthem that worshipped his image. These both were cast alive\\ninto a lake of fire burning with brimstone. {19:21} And the\\nremnant were slain with the sword of him that sat upon the\\nhorse, which [sword] proceeded out of his mouth: and all\\nthe fowls were filled with their flesh.\\n{20:1} And I saw an angel come down from heaven,\\nhaving the key of the bottomless pit and a great chain in his\\nhand. {20:2} And he laid hold on the dragon, that old\\nserpent, which is the Devil, and Satan, and bound him a\\nthousand years, {20:3} And cast him into the bottomless pit,\\nand shut him up, and set a seal upon him, that he should\\ndeceive the nations no more, till the thousand years should\\nbe fulfilled: and after that he must be loosed a little season.\\n{20:4} And I saw thrones, and they sat upon them, and\\njudgment was given unto them: and [I saw] the souls of\\nthem that were beheaded for the witness of Jesus, and for\\nthe word of God, and which had not worshipped the beast,\\nneither his image, neither had received [his] mark upon their\\nforeheads, or in their hands; and they lived and reigned with\\nChrist a thousand years. {20:5} But the rest of the dead\\nlived not again until the thousand years were finished. This\\n[is] the first resurrection. {20:6} Blessed and holy [is] he\\nthat hath part in the first resurrection: on such the second\\ndeath hath no power, but they shall be priests of God and of\\nChrist, and shall reign with him a thousand years. {20:7}\\nAnd when the thousand years are expired, Satan shall be\\nloosed out of his prison, {20:8} And shall go out to deceive\\nthe nations which are in the four quarters of the earth, Gog\\nand Magog, to gather them together to battle: the number of\\nwhom [is] as the sand of the sea. {20:9} And they went up\\non the breadth of the earth, and compassed the camp of the\\nsaints about, and the beloved city: and fire came down from\\nGod out of heaven, and devoured them. {20:10} And the\\ndevil that deceived them was cast into the lake of fire and\\nbrimstone, where the beast and the false prophet [are,] andshall be tormented day and night for ever and ever.\\n{20:11} And I saw a great white throne, and him that sat\\non it, from whose face the earth and the heaven fled away;\\nand there was found no place for them. {20:12} And I saw\\nthe dead, small and great, stand before God; and the books\\nwere opened: and another book was opened, which is [the\\nbook] of life: and the dead were judged out of those things\\nwhich were written in the books, according to their works.\\n{20:13} And the sea gave up the dead which were in it; and\\ndeath and hell delivered up the dead which were in them:\\nand they were judged every man according to their works.\\n{20:14} And death and hell were cast into the lake of fire.\\nThis is the second death. {20:15} And whosoever was not\\nfound written in the book of life was cast into the lake of\\nfire.\\n{21:1} And I saw a new heaven and a new earth: for the\\nfirst heaven and the first earth were passed away; and there\\nwas no more sea. {21:2} And I John saw the holy city, new\\nJerusalem, coming down from God out of heaven, prepared\\nas a bride adorned for her husband. {21:3} And I heard a\\ngreat voice out of heaven saying, Behold, the tabernacle of\\nGod [is] with men, and he will dwell with them, and they\\nshall be his people, and God himself shall be with them,\\n[and be] their God. {21:4} And God shall wipe away all\\ntears from their eyes; and there shall be no more death,\\nneither sorrow, nor crying, neither shall there be any more\\npain: for the former things are passed away. {21:5} And he\\nthat sat upon the throne said, Behold, I make all things new.\\nAnd he said unto me, Write: for these words are true and\\nfaithful. {21:6} And he said unto me, It is done. I am Alpha\\nand Omega, the beginning and the end. I will give unto him\\nthat is athirst of the fountain of the water of life freely.\\n{21:7} He that overcometh shall inherit all things; and I will\\nbe his God, and he shall be my son. {21:8} But the fearful,\\nand unbelieving, and the abominable, and murderers, and\\nwhoremongers, and sorcerers, and idolaters, and all liars,\\nshall have their part in the lake which burneth with fire and\\nbrimstone: which is the second death.\\n{21:9} And there came unto me one of the seven angels\\nwhich had the seven vials full of the seven last plagues, and\\ntalked with me, saying, Come hither, I will shew thee the\\nbride, the Lamb's wife. {21:10} And he carried me away in\\nthe spirit to a great and high mountain, and shewed me that\\ngreat city, the holy Jerusalem, descending out of heaven\\nfrom God, {21:11} Having the glory of God: and her light\\n[was] like unto a stone most precious, even like a jasper\\nstone, clear as crystal; {21:12} And had a wall great and\\nhigh, [and] had twelve gates, and at the gates twelve angels,\\nand names written thereon, which are [the names] of the\\ntwelve tribes of the children of Israel: {21:13} On the east\\nthree gates; on the north three gates; on the south three\\ngates; and on the west three gates. {21:14} And the wall of\\nthe city had twelve foundations, and in them the names of\\nthe twelve apostles of the Lamb. {21:15} And he that talked\\nwith me had a golden reed to measure the city, and the gates\\nthereof, and the wall thereof. {21:16} And the city lieth\\nfoursquare, and the length is as large as the breadth: and he\\nmeasured the city with the reed, twelve thousand furlongs.\\nThe length and the breadth and the height of it are equal.\\n{21:17} And he measured the wall thereof, an hundred\\n[and] forty [and] four cubits, [according to] the measure of a\\nman, that is, of the angel. {21:18} And the building of the\\nwall of it was [of] jasper: and the city [was] pure gold, like\\nunto clear glass. {21:19} And the foundations of the wall of\\nthe city [were] garnished with all manner of precious stones.\\nThe first foundation [was] jasper; the second, sapphire; the\\nDownloaded from www.holybooks.com - https://www.holybooks.com/download-bible/Page 721 Revelation\\nthird, a chalcedony; the fourth, an emerald; {21:20} The\\nfifth, sardonyx; the sixth, sardius; the seventh, chrysolite;\\nthe eighth, beryl; the ninth, a topaz; the tenth, a\\nchrysoprasus; the eleventh, a jacinth; the twelfth, an\\namethyst. {21:21} And the twelve gates [were] twelve\\npearls; every several gate was of one pearl: and the street of\\nthe city [was] pure gold, as it were transparent glass.\\n{21:22} And I saw no temple therein: for the Lord God\\nAlmighty and the Lamb are the temple of it. {21:23} And\\nthe city had no need of the sun, neither of the moon, to\\nshine in it: for the glory of God did lighten it, and the Lamb\\n[is] the light thereof. {21:24} And the nations of them\\nwhich are saved shall walk in the light of it: and the kings of\\nthe earth do bring their glory and honour into it. {21:25}\\nAnd the gates of it shall not be shut at all by day: for there\\nshall be no night there. {21:26} And they shall bring the\\nglory and honour of the nations into it. {21:27} And there\\nshall in no wise enter into it any thing that defileth, neither\\n[whatsoever] worketh abomination, or [maketh] a lie: but\\nthey which are written in the Lamb's book of life.\\n{22:1} And he shewed me a pure river of water of life,\\nclear as crystal, proceeding out of the throne of God and of\\nthe Lamb. {22:2} In the midst of the street of it, and on\\neither side of the river, [was there] the tree of life, which\\nbare twelve [manner] of fruits, [and] yielded her fruit every\\nmonth: and the leaves of the tree [were] for the healing of\\nthe nations. {22:3} And there shall be no more curse: but\\nthe throne of God and of the Lamb shall be in it; and his\\nservants shall serve him: {22:4} And they shall see his face;\\nand his name [shall be] in their foreheads. {22:5} And there\\nshall be no night there; and they need no candle, neither\\nlight of the sun; for the Lord God giveth them light: and\\nthey shall reign for ever and ever.\\n{22:6} And he said unto me, These sayings [are] faithful\\nand true: and the Lord God of the holy prophets sent his\\nangel to shew unto his servants the things which must\\nshortly be done. {22:7} Behold, I come quickly: blessed is\\nhe that keepeth the sayings of the prophecy of this book.\\n{22:8} And I John saw these things, and heard [them.] And\\nwhen I had heard and seen, I fell down to worship before\\nthe feet of the angel which shewed me these things. {22:9}\\nThen saith he unto me, See [thou do it] not: for I am thy\\nfellowservant, and of thy brethren the prophets, and of them\\nwhich keep the sayings of this book: worship God. {22:10}\\nAnd he saith unto me, Seal not the sayings of the prophecy\\nof this book: for the time is at hand. {22:11} He that is\\nunjust, let him be unjust still: and he which is filthy, let him\\nbe filthy still: and he that is righteous, let him be righteous\\nstill: and he that is holy, let him be holy still. {22:12} And,\\nbehold, I come quickly; and my reward [is] with me, to give\\nevery man according as his work shall be. {22:13} I am\\nAlpha and Omega, the beginning and the end, the first and\\nthe last. {22:14} Blessed [are] they that do his\\ncommandments, that they may have right to the tree of life,\\nand may enter in through the gates into the city. {22:15}\\nFor without [are] dogs, and sorcerers, and whoremongers,\\nand murderers, and idolaters, and whosoever loveth and\\nmaketh a lie.\\n{22:16} I Jesus have sent mine angel to testify unto you\\nthese things in the churches. I am the root and the offspring\\nof David, [and] the bright and morning star.\\n{22:17} And the Spirit and the bride say, Come. And let\\nhim that heareth say, Come. And let him that is athirst\\ncome. And whosoever will, let him take the water of life\\nfreely.{22:18} For I testify unto every man that heareth the\\nwords of the prophecy of this book, If any man shall add\\nunto these things, God shall add unto him the plagues that\\nare written in this book: {22:19} And if any man shall take\\naway from the words of the book of this prophecy, God\\nshall take away his part out of the book of life, and out of\\nthe holy city, and [from] the things which are written in this\\nbook.\\n{22:20} He which testifieth these things saith, Surely I\\ncome quickly. Amen. Even so, come, Lord Jesus.\\nDownloaded from www.holybooks.com - https://www.holybooks.com/download-bible/\""
            ]
          },
          "execution_count": 204,
          "metadata": {},
          "output_type": "execute_result"
        }
      ],
      "source": [
        "len(split_text[0])\n",
        "split_text[68]"
      ]
    },
    {
      "cell_type": "code",
      "execution_count": 205,
      "metadata": {},
      "outputs": [
        {
          "ename": "RateLimitError",
          "evalue": "Error code: 429 - {'error': {'message': 'Request too large for text-embedding-3-small in organization org-zUQ2vhFgMcGqzpWoEzfICOh7 on tokens per min (TPM): Limit 5000000, Requested 6789460. The input or output tokens must be reduced in order to run successfully. Visit https://platform.openai.com/account/rate-limits to learn more.', 'type': 'tokens', 'param': None, 'code': 'rate_limit_exceeded'}}",
          "output_type": "error",
          "traceback": [
            "\u001b[0;31m---------------------------------------------------------------------------\u001b[0m",
            "\u001b[0;31mRateLimitError\u001b[0m                            Traceback (most recent call last)",
            "Cell \u001b[0;32mIn[205], line 2\u001b[0m\n\u001b[1;32m      1\u001b[0m vector_db \u001b[38;5;241m=\u001b[39m VectorDatabase()\n\u001b[0;32m----> 2\u001b[0m vector_db \u001b[38;5;241m=\u001b[39m \u001b[43masyncio\u001b[49m\u001b[38;5;241;43m.\u001b[39;49m\u001b[43mrun\u001b[49m\u001b[43m(\u001b[49m\u001b[43mvector_db\u001b[49m\u001b[38;5;241;43m.\u001b[39;49m\u001b[43mabuild_from_list\u001b[49m\u001b[43m(\u001b[49m\u001b[43msplit_text\u001b[49m\u001b[43m)\u001b[49m\u001b[43m)\u001b[49m\n",
            "File \u001b[0;32m~/anaconda3/envs/ai3/lib/python3.10/site-packages/nest_asyncio.py:30\u001b[0m, in \u001b[0;36m_patch_asyncio.<locals>.run\u001b[0;34m(main, debug)\u001b[0m\n\u001b[1;32m     28\u001b[0m task \u001b[38;5;241m=\u001b[39m asyncio\u001b[38;5;241m.\u001b[39mensure_future(main)\n\u001b[1;32m     29\u001b[0m \u001b[38;5;28;01mtry\u001b[39;00m:\n\u001b[0;32m---> 30\u001b[0m     \u001b[38;5;28;01mreturn\u001b[39;00m \u001b[43mloop\u001b[49m\u001b[38;5;241;43m.\u001b[39;49m\u001b[43mrun_until_complete\u001b[49m\u001b[43m(\u001b[49m\u001b[43mtask\u001b[49m\u001b[43m)\u001b[49m\n\u001b[1;32m     31\u001b[0m \u001b[38;5;28;01mfinally\u001b[39;00m:\n\u001b[1;32m     32\u001b[0m     \u001b[38;5;28;01mif\u001b[39;00m \u001b[38;5;129;01mnot\u001b[39;00m task\u001b[38;5;241m.\u001b[39mdone():\n",
            "File \u001b[0;32m~/anaconda3/envs/ai3/lib/python3.10/site-packages/nest_asyncio.py:98\u001b[0m, in \u001b[0;36m_patch_loop.<locals>.run_until_complete\u001b[0;34m(self, future)\u001b[0m\n\u001b[1;32m     95\u001b[0m \u001b[38;5;28;01mif\u001b[39;00m \u001b[38;5;129;01mnot\u001b[39;00m f\u001b[38;5;241m.\u001b[39mdone():\n\u001b[1;32m     96\u001b[0m     \u001b[38;5;28;01mraise\u001b[39;00m \u001b[38;5;167;01mRuntimeError\u001b[39;00m(\n\u001b[1;32m     97\u001b[0m         \u001b[38;5;124m'\u001b[39m\u001b[38;5;124mEvent loop stopped before Future completed.\u001b[39m\u001b[38;5;124m'\u001b[39m)\n\u001b[0;32m---> 98\u001b[0m \u001b[38;5;28;01mreturn\u001b[39;00m \u001b[43mf\u001b[49m\u001b[38;5;241;43m.\u001b[39;49m\u001b[43mresult\u001b[49m\u001b[43m(\u001b[49m\u001b[43m)\u001b[49m\n",
            "File \u001b[0;32m~/anaconda3/envs/ai3/lib/python3.10/asyncio/futures.py:201\u001b[0m, in \u001b[0;36mFuture.result\u001b[0;34m(self)\u001b[0m\n\u001b[1;32m    199\u001b[0m \u001b[38;5;28mself\u001b[39m\u001b[38;5;241m.\u001b[39m__log_traceback \u001b[38;5;241m=\u001b[39m \u001b[38;5;28;01mFalse\u001b[39;00m\n\u001b[1;32m    200\u001b[0m \u001b[38;5;28;01mif\u001b[39;00m \u001b[38;5;28mself\u001b[39m\u001b[38;5;241m.\u001b[39m_exception \u001b[38;5;129;01mis\u001b[39;00m \u001b[38;5;129;01mnot\u001b[39;00m \u001b[38;5;28;01mNone\u001b[39;00m:\n\u001b[0;32m--> 201\u001b[0m     \u001b[38;5;28;01mraise\u001b[39;00m \u001b[38;5;28mself\u001b[39m\u001b[38;5;241m.\u001b[39m_exception\u001b[38;5;241m.\u001b[39mwith_traceback(\u001b[38;5;28mself\u001b[39m\u001b[38;5;241m.\u001b[39m_exception_tb)\n\u001b[1;32m    202\u001b[0m \u001b[38;5;28;01mreturn\u001b[39;00m \u001b[38;5;28mself\u001b[39m\u001b[38;5;241m.\u001b[39m_result\n",
            "File \u001b[0;32m~/anaconda3/envs/ai3/lib/python3.10/asyncio/tasks.py:232\u001b[0m, in \u001b[0;36mTask.__step\u001b[0;34m(***failed resolving arguments***)\u001b[0m\n\u001b[1;32m    228\u001b[0m \u001b[38;5;28;01mtry\u001b[39;00m:\n\u001b[1;32m    229\u001b[0m     \u001b[38;5;28;01mif\u001b[39;00m exc \u001b[38;5;129;01mis\u001b[39;00m \u001b[38;5;28;01mNone\u001b[39;00m:\n\u001b[1;32m    230\u001b[0m         \u001b[38;5;66;03m# We use the `send` method directly, because coroutines\u001b[39;00m\n\u001b[1;32m    231\u001b[0m         \u001b[38;5;66;03m# don't have `__iter__` and `__next__` methods.\u001b[39;00m\n\u001b[0;32m--> 232\u001b[0m         result \u001b[38;5;241m=\u001b[39m \u001b[43mcoro\u001b[49m\u001b[38;5;241;43m.\u001b[39;49m\u001b[43msend\u001b[49m\u001b[43m(\u001b[49m\u001b[38;5;28;43;01mNone\u001b[39;49;00m\u001b[43m)\u001b[49m\n\u001b[1;32m    233\u001b[0m     \u001b[38;5;28;01melse\u001b[39;00m:\n\u001b[1;32m    234\u001b[0m         result \u001b[38;5;241m=\u001b[39m coro\u001b[38;5;241m.\u001b[39mthrow(exc)\n",
            "File \u001b[0;32m~/AIE3/Week 2/Day 1/aimakerspace/vectordatabase.py:51\u001b[0m, in \u001b[0;36mVectorDatabase.abuild_from_list\u001b[0;34m(self, list_of_text)\u001b[0m\n\u001b[1;32m     50\u001b[0m \u001b[38;5;28;01masync\u001b[39;00m \u001b[38;5;28;01mdef\u001b[39;00m \u001b[38;5;21mabuild_from_list\u001b[39m(\u001b[38;5;28mself\u001b[39m, list_of_text: List[\u001b[38;5;28mstr\u001b[39m]) \u001b[38;5;241m-\u001b[39m\u001b[38;5;241m>\u001b[39m \u001b[38;5;124m\"\u001b[39m\u001b[38;5;124mVectorDatabase\u001b[39m\u001b[38;5;124m\"\u001b[39m:\n\u001b[0;32m---> 51\u001b[0m     embeddings \u001b[38;5;241m=\u001b[39m \u001b[38;5;28;01mawait\u001b[39;00m \u001b[38;5;28mself\u001b[39m\u001b[38;5;241m.\u001b[39membedding_model\u001b[38;5;241m.\u001b[39masync_get_embeddings(list_of_text)\n\u001b[1;32m     52\u001b[0m     \u001b[38;5;28;01mfor\u001b[39;00m text, embedding \u001b[38;5;129;01min\u001b[39;00m \u001b[38;5;28mzip\u001b[39m(list_of_text, embeddings):\n\u001b[1;32m     53\u001b[0m         \u001b[38;5;28mself\u001b[39m\u001b[38;5;241m.\u001b[39minsert(text, np\u001b[38;5;241m.\u001b[39marray(embedding))\n",
            "File \u001b[0;32m~/AIE3/Week 2/Day 1/aimakerspace/openai_utils/embedding.py:24\u001b[0m, in \u001b[0;36mEmbeddingModel.async_get_embeddings\u001b[0;34m(self, list_of_text)\u001b[0m\n\u001b[1;32m     23\u001b[0m \u001b[38;5;28;01masync\u001b[39;00m \u001b[38;5;28;01mdef\u001b[39;00m \u001b[38;5;21masync_get_embeddings\u001b[39m(\u001b[38;5;28mself\u001b[39m, list_of_text: List[\u001b[38;5;28mstr\u001b[39m]) \u001b[38;5;241m-\u001b[39m\u001b[38;5;241m>\u001b[39m List[List[\u001b[38;5;28mfloat\u001b[39m]]:\n\u001b[0;32m---> 24\u001b[0m     embedding_response \u001b[38;5;241m=\u001b[39m \u001b[38;5;28;01mawait\u001b[39;00m \u001b[38;5;28mself\u001b[39m\u001b[38;5;241m.\u001b[39masync_client\u001b[38;5;241m.\u001b[39membeddings\u001b[38;5;241m.\u001b[39mcreate(\n\u001b[1;32m     25\u001b[0m         \u001b[38;5;28minput\u001b[39m\u001b[38;5;241m=\u001b[39mlist_of_text, model\u001b[38;5;241m=\u001b[39m\u001b[38;5;28mself\u001b[39m\u001b[38;5;241m.\u001b[39membeddings_model_name\n\u001b[1;32m     26\u001b[0m     )\n\u001b[1;32m     28\u001b[0m     \u001b[38;5;28;01mreturn\u001b[39;00m [embeddings\u001b[38;5;241m.\u001b[39membedding \u001b[38;5;28;01mfor\u001b[39;00m embeddings \u001b[38;5;129;01min\u001b[39;00m embedding_response\u001b[38;5;241m.\u001b[39mdata]\n",
            "File \u001b[0;32m~/anaconda3/envs/ai3/lib/python3.10/site-packages/openai/resources/embeddings.py:215\u001b[0m, in \u001b[0;36mAsyncEmbeddings.create\u001b[0;34m(self, input, model, dimensions, encoding_format, user, extra_headers, extra_query, extra_body, timeout)\u001b[0m\n\u001b[1;32m    209\u001b[0m         embedding\u001b[38;5;241m.\u001b[39membedding \u001b[38;5;241m=\u001b[39m np\u001b[38;5;241m.\u001b[39mfrombuffer(  \u001b[38;5;66;03m# type: ignore[no-untyped-call]\u001b[39;00m\n\u001b[1;32m    210\u001b[0m             base64\u001b[38;5;241m.\u001b[39mb64decode(data), dtype\u001b[38;5;241m=\u001b[39m\u001b[38;5;124m\"\u001b[39m\u001b[38;5;124mfloat32\u001b[39m\u001b[38;5;124m\"\u001b[39m\n\u001b[1;32m    211\u001b[0m         )\u001b[38;5;241m.\u001b[39mtolist()\n\u001b[1;32m    213\u001b[0m     \u001b[38;5;28;01mreturn\u001b[39;00m obj\n\u001b[0;32m--> 215\u001b[0m \u001b[38;5;28;01mreturn\u001b[39;00m \u001b[38;5;28;01mawait\u001b[39;00m \u001b[38;5;28mself\u001b[39m\u001b[38;5;241m.\u001b[39m_post(\n\u001b[1;32m    216\u001b[0m     \u001b[38;5;124m\"\u001b[39m\u001b[38;5;124m/embeddings\u001b[39m\u001b[38;5;124m\"\u001b[39m,\n\u001b[1;32m    217\u001b[0m     body\u001b[38;5;241m=\u001b[39mmaybe_transform(params, embedding_create_params\u001b[38;5;241m.\u001b[39mEmbeddingCreateParams),\n\u001b[1;32m    218\u001b[0m     options\u001b[38;5;241m=\u001b[39mmake_request_options(\n\u001b[1;32m    219\u001b[0m         extra_headers\u001b[38;5;241m=\u001b[39mextra_headers,\n\u001b[1;32m    220\u001b[0m         extra_query\u001b[38;5;241m=\u001b[39mextra_query,\n\u001b[1;32m    221\u001b[0m         extra_body\u001b[38;5;241m=\u001b[39mextra_body,\n\u001b[1;32m    222\u001b[0m         timeout\u001b[38;5;241m=\u001b[39mtimeout,\n\u001b[1;32m    223\u001b[0m         post_parser\u001b[38;5;241m=\u001b[39mparser,\n\u001b[1;32m    224\u001b[0m     ),\n\u001b[1;32m    225\u001b[0m     cast_to\u001b[38;5;241m=\u001b[39mCreateEmbeddingResponse,\n\u001b[1;32m    226\u001b[0m )\n",
            "File \u001b[0;32m~/anaconda3/envs/ai3/lib/python3.10/site-packages/openai/_base_client.py:1790\u001b[0m, in \u001b[0;36mAsyncAPIClient.post\u001b[0;34m(self, path, cast_to, body, files, options, stream, stream_cls)\u001b[0m\n\u001b[1;32m   1776\u001b[0m \u001b[38;5;28;01masync\u001b[39;00m \u001b[38;5;28;01mdef\u001b[39;00m \u001b[38;5;21mpost\u001b[39m(\n\u001b[1;32m   1777\u001b[0m     \u001b[38;5;28mself\u001b[39m,\n\u001b[1;32m   1778\u001b[0m     path: \u001b[38;5;28mstr\u001b[39m,\n\u001b[0;32m   (...)\u001b[0m\n\u001b[1;32m   1785\u001b[0m     stream_cls: \u001b[38;5;28mtype\u001b[39m[_AsyncStreamT] \u001b[38;5;241m|\u001b[39m \u001b[38;5;28;01mNone\u001b[39;00m \u001b[38;5;241m=\u001b[39m \u001b[38;5;28;01mNone\u001b[39;00m,\n\u001b[1;32m   1786\u001b[0m ) \u001b[38;5;241m-\u001b[39m\u001b[38;5;241m>\u001b[39m ResponseT \u001b[38;5;241m|\u001b[39m _AsyncStreamT:\n\u001b[1;32m   1787\u001b[0m     opts \u001b[38;5;241m=\u001b[39m FinalRequestOptions\u001b[38;5;241m.\u001b[39mconstruct(\n\u001b[1;32m   1788\u001b[0m         method\u001b[38;5;241m=\u001b[39m\u001b[38;5;124m\"\u001b[39m\u001b[38;5;124mpost\u001b[39m\u001b[38;5;124m\"\u001b[39m, url\u001b[38;5;241m=\u001b[39mpath, json_data\u001b[38;5;241m=\u001b[39mbody, files\u001b[38;5;241m=\u001b[39m\u001b[38;5;28;01mawait\u001b[39;00m async_to_httpx_files(files), \u001b[38;5;241m*\u001b[39m\u001b[38;5;241m*\u001b[39moptions\n\u001b[1;32m   1789\u001b[0m     )\n\u001b[0;32m-> 1790\u001b[0m     \u001b[38;5;28;01mreturn\u001b[39;00m \u001b[38;5;28;01mawait\u001b[39;00m \u001b[38;5;28mself\u001b[39m\u001b[38;5;241m.\u001b[39mrequest(cast_to, opts, stream\u001b[38;5;241m=\u001b[39mstream, stream_cls\u001b[38;5;241m=\u001b[39mstream_cls)\n",
            "File \u001b[0;32m~/anaconda3/envs/ai3/lib/python3.10/site-packages/openai/_base_client.py:1493\u001b[0m, in \u001b[0;36mAsyncAPIClient.request\u001b[0;34m(self, cast_to, options, stream, stream_cls, remaining_retries)\u001b[0m\n\u001b[1;32m   1484\u001b[0m \u001b[38;5;28;01masync\u001b[39;00m \u001b[38;5;28;01mdef\u001b[39;00m \u001b[38;5;21mrequest\u001b[39m(\n\u001b[1;32m   1485\u001b[0m     \u001b[38;5;28mself\u001b[39m,\n\u001b[1;32m   1486\u001b[0m     cast_to: Type[ResponseT],\n\u001b[0;32m   (...)\u001b[0m\n\u001b[1;32m   1491\u001b[0m     remaining_retries: Optional[\u001b[38;5;28mint\u001b[39m] \u001b[38;5;241m=\u001b[39m \u001b[38;5;28;01mNone\u001b[39;00m,\n\u001b[1;32m   1492\u001b[0m ) \u001b[38;5;241m-\u001b[39m\u001b[38;5;241m>\u001b[39m ResponseT \u001b[38;5;241m|\u001b[39m _AsyncStreamT:\n\u001b[0;32m-> 1493\u001b[0m     \u001b[38;5;28;01mreturn\u001b[39;00m \u001b[38;5;28;01mawait\u001b[39;00m \u001b[38;5;28mself\u001b[39m\u001b[38;5;241m.\u001b[39m_request(\n\u001b[1;32m   1494\u001b[0m         cast_to\u001b[38;5;241m=\u001b[39mcast_to,\n\u001b[1;32m   1495\u001b[0m         options\u001b[38;5;241m=\u001b[39moptions,\n\u001b[1;32m   1496\u001b[0m         stream\u001b[38;5;241m=\u001b[39mstream,\n\u001b[1;32m   1497\u001b[0m         stream_cls\u001b[38;5;241m=\u001b[39mstream_cls,\n\u001b[1;32m   1498\u001b[0m         remaining_retries\u001b[38;5;241m=\u001b[39mremaining_retries,\n\u001b[1;32m   1499\u001b[0m     )\n",
            "File \u001b[0;32m~/anaconda3/envs/ai3/lib/python3.10/site-packages/openai/_base_client.py:1569\u001b[0m, in \u001b[0;36mAsyncAPIClient._request\u001b[0;34m(self, cast_to, options, stream, stream_cls, remaining_retries)\u001b[0m\n\u001b[1;32m   1567\u001b[0m \u001b[38;5;28;01mif\u001b[39;00m retries \u001b[38;5;241m>\u001b[39m \u001b[38;5;241m0\u001b[39m \u001b[38;5;129;01mand\u001b[39;00m \u001b[38;5;28mself\u001b[39m\u001b[38;5;241m.\u001b[39m_should_retry(err\u001b[38;5;241m.\u001b[39mresponse):\n\u001b[1;32m   1568\u001b[0m     \u001b[38;5;28;01mawait\u001b[39;00m err\u001b[38;5;241m.\u001b[39mresponse\u001b[38;5;241m.\u001b[39maclose()\n\u001b[0;32m-> 1569\u001b[0m     \u001b[38;5;28;01mreturn\u001b[39;00m \u001b[38;5;28;01mawait\u001b[39;00m \u001b[38;5;28mself\u001b[39m\u001b[38;5;241m.\u001b[39m_retry_request(\n\u001b[1;32m   1570\u001b[0m         options,\n\u001b[1;32m   1571\u001b[0m         cast_to,\n\u001b[1;32m   1572\u001b[0m         retries,\n\u001b[1;32m   1573\u001b[0m         err\u001b[38;5;241m.\u001b[39mresponse\u001b[38;5;241m.\u001b[39mheaders,\n\u001b[1;32m   1574\u001b[0m         stream\u001b[38;5;241m=\u001b[39mstream,\n\u001b[1;32m   1575\u001b[0m         stream_cls\u001b[38;5;241m=\u001b[39mstream_cls,\n\u001b[1;32m   1576\u001b[0m     )\n\u001b[1;32m   1578\u001b[0m \u001b[38;5;66;03m# If the response is streamed then we need to explicitly read the response\u001b[39;00m\n\u001b[1;32m   1579\u001b[0m \u001b[38;5;66;03m# to completion before attempting to access the response text.\u001b[39;00m\n\u001b[1;32m   1580\u001b[0m \u001b[38;5;28;01mif\u001b[39;00m \u001b[38;5;129;01mnot\u001b[39;00m err\u001b[38;5;241m.\u001b[39mresponse\u001b[38;5;241m.\u001b[39mis_closed:\n",
            "File \u001b[0;32m~/anaconda3/envs/ai3/lib/python3.10/site-packages/openai/_base_client.py:1615\u001b[0m, in \u001b[0;36mAsyncAPIClient._retry_request\u001b[0;34m(self, options, cast_to, remaining_retries, response_headers, stream, stream_cls)\u001b[0m\n\u001b[1;32m   1611\u001b[0m log\u001b[38;5;241m.\u001b[39minfo(\u001b[38;5;124m\"\u001b[39m\u001b[38;5;124mRetrying request to \u001b[39m\u001b[38;5;132;01m%s\u001b[39;00m\u001b[38;5;124m in \u001b[39m\u001b[38;5;132;01m%f\u001b[39;00m\u001b[38;5;124m seconds\u001b[39m\u001b[38;5;124m\"\u001b[39m, options\u001b[38;5;241m.\u001b[39murl, timeout)\n\u001b[1;32m   1613\u001b[0m \u001b[38;5;28;01mawait\u001b[39;00m anyio\u001b[38;5;241m.\u001b[39msleep(timeout)\n\u001b[0;32m-> 1615\u001b[0m \u001b[38;5;28;01mreturn\u001b[39;00m \u001b[38;5;28;01mawait\u001b[39;00m \u001b[38;5;28mself\u001b[39m\u001b[38;5;241m.\u001b[39m_request(\n\u001b[1;32m   1616\u001b[0m     options\u001b[38;5;241m=\u001b[39moptions,\n\u001b[1;32m   1617\u001b[0m     cast_to\u001b[38;5;241m=\u001b[39mcast_to,\n\u001b[1;32m   1618\u001b[0m     remaining_retries\u001b[38;5;241m=\u001b[39mremaining,\n\u001b[1;32m   1619\u001b[0m     stream\u001b[38;5;241m=\u001b[39mstream,\n\u001b[1;32m   1620\u001b[0m     stream_cls\u001b[38;5;241m=\u001b[39mstream_cls,\n\u001b[1;32m   1621\u001b[0m )\n",
            "File \u001b[0;32m~/anaconda3/envs/ai3/lib/python3.10/site-packages/openai/_base_client.py:1569\u001b[0m, in \u001b[0;36mAsyncAPIClient._request\u001b[0;34m(self, cast_to, options, stream, stream_cls, remaining_retries)\u001b[0m\n\u001b[1;32m   1567\u001b[0m \u001b[38;5;28;01mif\u001b[39;00m retries \u001b[38;5;241m>\u001b[39m \u001b[38;5;241m0\u001b[39m \u001b[38;5;129;01mand\u001b[39;00m \u001b[38;5;28mself\u001b[39m\u001b[38;5;241m.\u001b[39m_should_retry(err\u001b[38;5;241m.\u001b[39mresponse):\n\u001b[1;32m   1568\u001b[0m     \u001b[38;5;28;01mawait\u001b[39;00m err\u001b[38;5;241m.\u001b[39mresponse\u001b[38;5;241m.\u001b[39maclose()\n\u001b[0;32m-> 1569\u001b[0m     \u001b[38;5;28;01mreturn\u001b[39;00m \u001b[38;5;28;01mawait\u001b[39;00m \u001b[38;5;28mself\u001b[39m\u001b[38;5;241m.\u001b[39m_retry_request(\n\u001b[1;32m   1570\u001b[0m         options,\n\u001b[1;32m   1571\u001b[0m         cast_to,\n\u001b[1;32m   1572\u001b[0m         retries,\n\u001b[1;32m   1573\u001b[0m         err\u001b[38;5;241m.\u001b[39mresponse\u001b[38;5;241m.\u001b[39mheaders,\n\u001b[1;32m   1574\u001b[0m         stream\u001b[38;5;241m=\u001b[39mstream,\n\u001b[1;32m   1575\u001b[0m         stream_cls\u001b[38;5;241m=\u001b[39mstream_cls,\n\u001b[1;32m   1576\u001b[0m     )\n\u001b[1;32m   1578\u001b[0m \u001b[38;5;66;03m# If the response is streamed then we need to explicitly read the response\u001b[39;00m\n\u001b[1;32m   1579\u001b[0m \u001b[38;5;66;03m# to completion before attempting to access the response text.\u001b[39;00m\n\u001b[1;32m   1580\u001b[0m \u001b[38;5;28;01mif\u001b[39;00m \u001b[38;5;129;01mnot\u001b[39;00m err\u001b[38;5;241m.\u001b[39mresponse\u001b[38;5;241m.\u001b[39mis_closed:\n",
            "File \u001b[0;32m~/anaconda3/envs/ai3/lib/python3.10/site-packages/openai/_base_client.py:1615\u001b[0m, in \u001b[0;36mAsyncAPIClient._retry_request\u001b[0;34m(self, options, cast_to, remaining_retries, response_headers, stream, stream_cls)\u001b[0m\n\u001b[1;32m   1611\u001b[0m log\u001b[38;5;241m.\u001b[39minfo(\u001b[38;5;124m\"\u001b[39m\u001b[38;5;124mRetrying request to \u001b[39m\u001b[38;5;132;01m%s\u001b[39;00m\u001b[38;5;124m in \u001b[39m\u001b[38;5;132;01m%f\u001b[39;00m\u001b[38;5;124m seconds\u001b[39m\u001b[38;5;124m\"\u001b[39m, options\u001b[38;5;241m.\u001b[39murl, timeout)\n\u001b[1;32m   1613\u001b[0m \u001b[38;5;28;01mawait\u001b[39;00m anyio\u001b[38;5;241m.\u001b[39msleep(timeout)\n\u001b[0;32m-> 1615\u001b[0m \u001b[38;5;28;01mreturn\u001b[39;00m \u001b[38;5;28;01mawait\u001b[39;00m \u001b[38;5;28mself\u001b[39m\u001b[38;5;241m.\u001b[39m_request(\n\u001b[1;32m   1616\u001b[0m     options\u001b[38;5;241m=\u001b[39moptions,\n\u001b[1;32m   1617\u001b[0m     cast_to\u001b[38;5;241m=\u001b[39mcast_to,\n\u001b[1;32m   1618\u001b[0m     remaining_retries\u001b[38;5;241m=\u001b[39mremaining,\n\u001b[1;32m   1619\u001b[0m     stream\u001b[38;5;241m=\u001b[39mstream,\n\u001b[1;32m   1620\u001b[0m     stream_cls\u001b[38;5;241m=\u001b[39mstream_cls,\n\u001b[1;32m   1621\u001b[0m )\n",
            "File \u001b[0;32m~/anaconda3/envs/ai3/lib/python3.10/site-packages/openai/_base_client.py:1584\u001b[0m, in \u001b[0;36mAsyncAPIClient._request\u001b[0;34m(self, cast_to, options, stream, stream_cls, remaining_retries)\u001b[0m\n\u001b[1;32m   1581\u001b[0m         \u001b[38;5;28;01mawait\u001b[39;00m err\u001b[38;5;241m.\u001b[39mresponse\u001b[38;5;241m.\u001b[39maread()\n\u001b[1;32m   1583\u001b[0m     log\u001b[38;5;241m.\u001b[39mdebug(\u001b[38;5;124m\"\u001b[39m\u001b[38;5;124mRe-raising status error\u001b[39m\u001b[38;5;124m\"\u001b[39m)\n\u001b[0;32m-> 1584\u001b[0m     \u001b[38;5;28;01mraise\u001b[39;00m \u001b[38;5;28mself\u001b[39m\u001b[38;5;241m.\u001b[39m_make_status_error_from_response(err\u001b[38;5;241m.\u001b[39mresponse) \u001b[38;5;28;01mfrom\u001b[39;00m \u001b[38;5;28;01mNone\u001b[39;00m\n\u001b[1;32m   1586\u001b[0m \u001b[38;5;28;01mreturn\u001b[39;00m \u001b[38;5;28;01mawait\u001b[39;00m \u001b[38;5;28mself\u001b[39m\u001b[38;5;241m.\u001b[39m_process_response(\n\u001b[1;32m   1587\u001b[0m     cast_to\u001b[38;5;241m=\u001b[39mcast_to,\n\u001b[1;32m   1588\u001b[0m     options\u001b[38;5;241m=\u001b[39moptions,\n\u001b[0;32m   (...)\u001b[0m\n\u001b[1;32m   1591\u001b[0m     stream_cls\u001b[38;5;241m=\u001b[39mstream_cls,\n\u001b[1;32m   1592\u001b[0m )\n",
            "\u001b[0;31mRateLimitError\u001b[0m: Error code: 429 - {'error': {'message': 'Request too large for text-embedding-3-small in organization org-zUQ2vhFgMcGqzpWoEzfICOh7 on tokens per min (TPM): Limit 5000000, Requested 6789460. The input or output tokens must be reduced in order to run successfully. Visit https://platform.openai.com/account/rate-limits to learn more.', 'type': 'tokens', 'param': None, 'code': 'rate_limit_exceeded'}}"
          ]
        }
      ],
      "source": [
        "vector_db = VectorDatabase()\n",
        "vector_db = asyncio.run(vector_db.abuild_from_list(split_text))"
      ]
    },
    {
      "cell_type": "markdown",
      "metadata": {
        "id": "8QqpYXj2R6yz"
      },
      "source": [
        "## Task 6: Visibility Tooling\n",
        "\n",
        "This is great, but what if we wanted to add some visibility to our pipeline?\n",
        "\n",
        "Let's use Weights and Biases as a visibility tool!\n",
        "\n",
        "The first thing we'll need to do is create a Weights and Biases account and get an API key.\n",
        "\n",
        "You can follow the process outlined [here](https://docs.wandb.ai/quickstart) to do exactly that!"
      ]
    },
    {
      "cell_type": "markdown",
      "metadata": {
        "id": "2nST5OrAR6yz"
      },
      "source": [
        "Now we can get the Weights and Biases dependency and add our key to our env. to begin!"
      ]
    },
    {
      "cell_type": "code",
      "execution_count": 18,
      "metadata": {
        "colab": {
          "base_uri": "https://localhost:8080/"
        },
        "id": "y54bofQQR6yz",
        "outputId": "6df38604-c2e0-4870-d5de-db165ea830ba"
      },
      "outputs": [],
      "source": [
        "! pip install -qU wandb"
      ]
    },
    {
      "cell_type": "code",
      "execution_count": 88,
      "metadata": {
        "colab": {
          "base_uri": "https://localhost:8080/"
        },
        "id": "SzunMw9_R6yz",
        "outputId": "f2506283-6b0d-4a1b-cb5a-65839c6445b1"
      },
      "outputs": [],
      "source": [
        "wandb_key = getpass(\"Weights and Biases API Key: \")\n",
        "os.environ[\"WANDB_API_KEY\"] = wandb_key"
      ]
    },
    {
      "cell_type": "code",
      "execution_count": 92,
      "metadata": {
        "colab": {
          "base_uri": "https://localhost:8080/",
          "height": 143
        },
        "id": "Iv1f27ebR6yz",
        "outputId": "34dd085e-0468-4657-d105-71ecc4b633fe"
      },
      "outputs": [
        {
          "data": {
            "text/html": [
              "Changes to your `wandb` environment variables will be ignored because your `wandb` session has already started. For more information on how to modify your settings with `wandb.init()` arguments, please refer to <a href='https://wandb.me/wandb-init' target=\"_blank\">the W&B docs</a>."
            ],
            "text/plain": [
              "<IPython.core.display.HTML object>"
            ]
          },
          "metadata": {},
          "output_type": "display_data"
        },
        {
          "data": {
            "text/html": [
              "Tracking run with wandb version 0.17.1"
            ],
            "text/plain": [
              "<IPython.core.display.HTML object>"
            ]
          },
          "metadata": {},
          "output_type": "display_data"
        },
        {
          "data": {
            "text/html": [
              "Run data is saved locally in <code>/home/sahane/AIE3/Week 2/Day 1/wandb/run-20240611_134457-sgfx2zhc</code>"
            ],
            "text/plain": [
              "<IPython.core.display.HTML object>"
            ]
          },
          "metadata": {},
          "output_type": "display_data"
        },
        {
          "data": {
            "text/html": [
              "Syncing run <strong><a href='https://wandb.ai/ai_wonders_with_joy/AIE-RAG-Visibility/runs/sgfx2zhc' target=\"_blank\">generous-dragon-5</a></strong> to <a href='https://wandb.ai/ai_wonders_with_joy/AIE-RAG-Visibility' target=\"_blank\">Weights & Biases</a> (<a href='https://wandb.me/run' target=\"_blank\">docs</a>)<br/>"
            ],
            "text/plain": [
              "<IPython.core.display.HTML object>"
            ]
          },
          "metadata": {},
          "output_type": "display_data"
        },
        {
          "data": {
            "text/html": [
              " View project at <a href='https://wandb.ai/ai_wonders_with_joy/AIE-RAG-Visibility' target=\"_blank\">https://wandb.ai/ai_wonders_with_joy/AIE-RAG-Visibility</a>"
            ],
            "text/plain": [
              "<IPython.core.display.HTML object>"
            ]
          },
          "metadata": {},
          "output_type": "display_data"
        },
        {
          "data": {
            "text/html": [
              " View run at <a href='https://wandb.ai/ai_wonders_with_joy/AIE-RAG-Visibility/runs/sgfx2zhc' target=\"_blank\">https://wandb.ai/ai_wonders_with_joy/AIE-RAG-Visibility/runs/sgfx2zhc</a>"
            ],
            "text/plain": [
              "<IPython.core.display.HTML object>"
            ]
          },
          "metadata": {},
          "output_type": "display_data"
        },
        {
          "data": {
            "text/html": [
              "<button onClick=\"this.nextSibling.style.display='block';this.style.display='none';\">Display W&B run</button><iframe src='https://wandb.ai/ai_wonders_with_joy/AIE-RAG-Visibility/runs/sgfx2zhc?jupyter=true' style='border:none;width:100%;height:420px;display:none;'></iframe>"
            ],
            "text/plain": [
              "<wandb.sdk.wandb_run.Run at 0x7f6dad6085b0>"
            ]
          },
          "execution_count": 92,
          "metadata": {},
          "output_type": "execute_result"
        }
      ],
      "source": [
        "import wandb\n",
        "\n",
        "wandb.init(project=\"AIE-RAG-Visibility\")"
      ]
    },
    {
      "cell_type": "markdown",
      "metadata": {
        "id": "iezOc48XR6yz"
      },
      "source": [
        "Now we can integrate Weights and Biases into our `RetrievalAugmentedQAPipeline`.\n",
        "\n",
        "```python\n",
        "if self.wandb_project:\n",
        "            root_span = Trace(\n",
        "                name=\"root_span\",\n",
        "                kind=\"llm\",\n",
        "                status_code=status,\n",
        "                status_message=status_message,\n",
        "                start_time_ms=start_time,\n",
        "                end_time_ms=end_time,\n",
        "                metadata={\n",
        "                    \"token_usage\" : token_usage\n",
        "                },\n",
        "                inputs= {\"system_prompt\" : formatted_system_prompt, \"user_prompt\" : formatted_user_prompt},\n",
        "                outputs= {\"response\" : response_text}\n",
        "            )\n",
        "\n",
        "            root_span.log(name=\"openai_trace\")\n",
        "```\n",
        "\n",
        "The main things to consider here are how to populate the various fields to make sure we're tracking useful information.\n",
        "\n",
        "We'll use the `text_only` flag to ensure we can get detailed information about our LLM call!\n",
        "\n",
        "You can check out all the parameters for Weights and Biases `Trace` [here](https://github.com/wandb/wandb/blob/653015a014281f45770aaf43627f64d9c4f04a32/wandb/sdk/data_types/trace_tree.py#L166)"
      ]
    },
    {
      "cell_type": "code",
      "execution_count": 82,
      "metadata": {
        "id": "fqe4D27QR6yz"
      },
      "outputs": [],
      "source": [
        "import datetime\n",
        "from wandb.sdk.data_types.trace_tree import Trace\n",
        "\n",
        "class RetrievalAugmentedGenerationPipeline:\n",
        "    def __init__(self, llm: ChatOpenAI(), vector_db_retriever: VectorDatabase, wandb_project = None) -> None:\n",
        "        self.llm = llm\n",
        "        self.vector_db_retriever = vector_db_retriever\n",
        "        self.wandb_project = wandb_project\n",
        "\n",
        "    def run_pipeline(self, user_query: str) -> str:\n",
        "        context_list = self.vector_db_retriever.search_by_text(user_query, k=4)\n",
        "\n",
        "        context_prompt = \"\"\n",
        "        for context in context_list:\n",
        "            context_prompt += context[0] + \"\\n\"\n",
        "\n",
        "        formatted_system_prompt = rag_prompt.create_message()\n",
        "\n",
        "        formatted_user_prompt = user_prompt.create_message(user_query=user_query, context=context_prompt)\n",
        "\n",
        "\n",
        "        start_time = datetime.datetime.now().timestamp() * 1000\n",
        "\n",
        "        try:\n",
        "            openai_response = self.llm.run([formatted_system_prompt, formatted_user_prompt], text_only=False)\n",
        "            end_time = datetime.datetime.now().timestamp() * 1000\n",
        "            status = \"success\"\n",
        "            status_message = (None, )\n",
        "            response_text = openai_response.choices[0].message.content\n",
        "            token_usage = dict(openai_response.usage)\n",
        "            model = openai_response.model\n",
        "\n",
        "        except Exception as e:\n",
        "            end_time = datetime.datetime.now().timestamp() * 1000\n",
        "            status = \"error\"\n",
        "            status_message = str(e)\n",
        "            response_text = \"\"\n",
        "            token_usage = {}\n",
        "            model = \"\"\n",
        "\n",
        "        if self.wandb_project:\n",
        "            root_span = Trace(\n",
        "                name=\"root_span\",\n",
        "                kind=\"llm\",\n",
        "                status_code=status,\n",
        "                status_message=status_message,\n",
        "                start_time_ms=start_time,\n",
        "                end_time_ms=end_time,\n",
        "                metadata={\n",
        "                    \"token_usage\" : token_usage,\n",
        "                    \"model_name\" : model\n",
        "                },\n",
        "                inputs= {\"system_prompt\" : formatted_system_prompt, \"user_prompt\" : formatted_user_prompt},\n",
        "                outputs= {\"response\" : response_text}\n",
        "            )\n",
        "\n",
        "            root_span.log(name=\"openai_trace\")\n",
        "\n",
        "        return {\"response\" : self.llm.run([formatted_user_prompt, formatted_system_prompt]), \"context\" : context_list} if response_text else \"We ran into an error. Please try again later. Full Error Message: \" + status_message"
      ]
    },
    {
      "cell_type": "code",
      "execution_count": 83,
      "metadata": {
        "id": "aa1_0P1YR6yz"
      },
      "outputs": [],
      "source": [
        "retrieval_augmented_qa_pipeline = RetrievalAugmentedGenerationPipeline(\n",
        "    vector_db_retriever=vector_db,\n",
        "    llm=chat_openai,\n",
        "    wandb_project=\"AIE-RAG-Visibility\"\n",
        ")"
      ]
    },
    {
      "cell_type": "code",
      "execution_count": 84,
      "metadata": {
        "colab": {
          "base_uri": "https://localhost:8080/"
        },
        "id": "OKSpyeg-R6yz",
        "outputId": "0d6358c9-4775-4734-f49d-851814de37c5"
      },
      "outputs": [
        {
          "data": {
            "text/plain": [
              "{'response': \"I don't know.\",\n",
              " 'context': [(\"e Xction\\nwith a distinctive horror overlay. Not for the squeamish, but\\nhighly inventive.\\nAsher’s primary work is the Polity series — Gridlinked, The\\nLine of Polity, Brass Man, and Polity Agent. The extended\\nstory of an enigmatic agent for the all-powerful artiXcial intelligences who rule the whole of human space, the Polity, these\\nnovels blend Ian Fleming with large-scale military combat,\\nadvanced theoretical xenobiology, nanotechnology gone badly\\nwrong, and war drones with bad attitudes. Most deXnitely entertaining.\\nFollow those up with The Skinner and The Voyage of the Sable\\nKeech, and then the delectable standalone novella Prador\\nMoon. One of the most distinctively imagined “bad bug” alien\\nraces, one of the most creative and lethal new worlds, and a historical scandal of horriXc proportions combine in a whirlwind\\nof violence and battle.\\nTop 10 science Dction novelists of the '00s ... so far (June 2007) 177\\nAsher is blogging as well!\\nChris Moriarty\\nGibson meets Heinlein (can you tell\",\n",
              "   0.1763749780880242),\n",
              "  (' Tendency\\nThe brain of man is programmed with a tendency to quickly\\nremove doubt by reaching some decision.\\nIt is easy to see how evolution would make animals, over the eons,\\ndria toward such quick elimination of doubt. Aaer all, the one\\nthing that is surely counterproductive for a prey animal that is\\nthreatened by a predator is to take a long time in deciding what to\\ndo…\\nSo pronounced is the tendency in man to quickly remove doubt\\nby reaching some decision that behavior to counter the tendency is\\nrequired from judges and jurors. Here, delay before decision making is forced. And one is required to so comport himself, prior to\\nconclusion time, so that he is wearing a “mask” of objectivity. And\\nthe “mask” works to help real objectivity along, as we shall see when\\nwe next consider man’s Inconsistency-Avoidance Tendency…\\nWhat triggers Doubt-Avoidance Tendency? Well, an unthreatened\\nman, thinking of nothing in particular, is not being prompted to\\nremove doubt through rushing to some decisio',\n",
              "   0.1662508883223826),\n",
              "  (\"ions combine in a whirlwind\\nof violence and battle.\\nTop 10 science Dction novelists of the '00s ... so far (June 2007) 177\\nAsher is blogging as well!\\nChris Moriarty\\nGibson meets Heinlein (can you tell I was a Heinlein fan growing up?) in a melange of science Xction themes, most particularly artiXcial intelligence, Xltered through a distinctly female\\npoint of view. A rapidly developing talent worth reading, and\\nwatching for future advances.\\nRead Spin State and then read Spin Control.\\nPeter Watts\\nWatts’ Xah novel, Blindsight, has put him on the map — a new\\ntale of alien contact, as conducted by a team of entitites from a\\nfuture Earth that will send a chill down your spine without even\\ngetting to the alien part.\\nDavid Marusek\\nMy last and Xnal entry of the top 10 is the one I am least certain\\nabout. Marusek is oW the charts in terms of creativity and inventiveness — in his debut novel, Counting Heads, he extrapolates\\nwith incredible verve and detail an Earth circa 2134 that is a\\nnear-utopi\",\n",
              "   0.16485516333552425),\n",
              "  ('how the kids mean it, and also in tone — the plot, which\\nspans about 100 years, is emotionally cold but amazingly inventive and highly likely to keep you up nights thinking hard about\\nwhere we’re all headed in the long run.\\nThe Atrocity Archives and The Jennifer Morgue, in contrast,\\nare highly entertaining shaggy dog stories about an IT guy\\nnamed Bob who gets draaed into mankind’s Xght against forces\\nof evil from another dimension — James Bond meets Call of\\nCthulhu meets The OZce.\\nFinally, Stross is also an active blogger with, let’s say, strong\\npoints of view.\\nRichard Morgan\\nMorgan writes outstanding, page-turning, highly inventive military- and detective-Yavored hard science Xction set in turbulent\\nworlds where hard men are faced with hard challenges.\\nAltered Carbon is deXnitely the place to start, Morgan’s Xrst and\\nperhaps most inventive novel, Robert Heinlein meets Raymond\\nChandler — and Xrst of a trio.\\n174 The Pmarca Blog Archives\\nBroken Angels is a strong followup that tilts more',\n",
              "   0.16047925637290916)]}"
            ]
          },
          "execution_count": 84,
          "metadata": {},
          "output_type": "execute_result"
        }
      ],
      "source": [
        "retrieval_augmented_qa_pipeline.run_pipeline(\"Who is Batman?\")"
      ]
    },
    {
      "cell_type": "code",
      "execution_count": 206,
      "metadata": {
        "colab": {
          "base_uri": "https://localhost:8080/"
        },
        "id": "SbB0xcCRR6yz",
        "outputId": "7ba2fc10-abbe-40ec-eca8-22e1116300a5"
      },
      "outputs": [
        {
          "data": {
            "text/plain": [
              "{'response': 'Here are some tips for being an effective CEO based on the provided text:\\n\\n1. **Identify and Promote Talent**: Actively determine who your company’s top 20 or 30 up-and-coming talents are and promote them. Place them in key leadership roles, in charge of clearly defined teams and missions, to create a lean and effective management structure.\\n\\n2. **Simplify Management Layers**: Minimize the layers of management. As a CEO, aim to have at most one executive between yourself and your top talents. This ensures direct communication and more agile decision-making.\\n\\n3. **Focus on Key Objectives**: Determine the single most important objective your company needs to excel in and assign your best person to spearhead that initiative. Ensuring the right people are in the right place is crucial for success.\\n\\n4. **Transparency and Accountability**: Implement transparency across the organization to clearly show who is performing and who is not. This helps in creating an environment where poor performers are motivated to improve or naturally filtered out.\\n\\n5. **Understand Incentives for Hiring Executives**: Be strategic about the incentive structures, especially for high-level positions like a CEO. Structure incentives like stock options to align with long-term company success, rather than just short-term gains.\\n\\n6. **Avoid Hiring External CEOs if Possible**: If there isn’t a founder who can lead as CEO, it might be indicative of a deeper problem within the startup’s foundation. Consider whether selling might be a better option.\\n\\n7. **Non-Micromanagement**: Give your executives enough freedom to operate. If you find yourself hesitant to do this because of doubts in their capabilities, it might be a sign that they are not the right fit.\\n\\n8. **Direct Engagement for Data Gathering**: While it’s important to respect the chain of command, a CEO should also engage directly with various team members to gather insights, which can help in making informed decisions.\\n\\nThese steps can greatly help in making you a more effective CEO, enabling better management practices and ensuring your company’s success.',\n",
              " 'context': [(' management. Nuke as many of them as you can.\\nThen develop a list of your top 20 or 30 up and comers —\\nstrong, sharp, aggressive, ambitious director- or VP-level managers who want to succeed and want your company to succeed.\\nAnd promote them, and put them in sole charge of clearly identiXed teams and missions. (And give them big ol’ fresh option\\npackages.)\\nAs CEO, you should only have at most one executive between\\nyou and these 20 or 30 up and comers once you are done promoting them and putting them in charge of their teams and\\nmissions.\\nIf you don’t know who those top 20 or 30 up and comers are, if\\nyou don’t promote them, if you don’t put them clearly in charge\\nof the things that matter, or if you have more than one layer of\\n84 The Pmarca Blog Archives\\nmanagement between you and them when you’re done, you’re\\nprobably doomed.\\nStep 7: Figure out the single most important thing your company has\\nto win at, and put your single best person in charge of winning at it.\\n‘NuW said.\\nStep 8: Look',\n",
              "   0.5593874691206207),\n",
              "  ('sure can be a very\\neWective form of incentive. This is greatly enabled and abetted\\nby transparency. People hate to be embarrassed in front of their\\npeer group, so if it’s crystal clear who’s performing well and who\\nisn’t, poor performers will be highly motivated to improve —\\nand if they’re not, that’s good to know, since obviously then you\\nreally need to Xre them.\\nFinally, any entrepreneur should be highly attuned to incentives\\nwhen hiring outside executives, especially a CEO. Hire a CEO\\nand give her a large stock-option grant with four-year vesting,\\nand you can guarantee she will sell the company in year four.\\nGive her a stock-option grant with accelerated vesting on\\nchange of control and she will sell the company sooner than\\nthat. Founders can get tripped up on this because they naturally\\nhave an emotional incentive to see the company succeed that\\nhired executives oaen do not share.\\nAnd of course, never get caught between a venture capitalist and\\nher incentives.\\nTwo: Liking/Loving Te',\n",
              "   0.5451803355623867),\n",
              "  (\"s.\\nSo, micromanagement is like Xne wine. A little at the right times\\nwill really enhance things; too much all the time and you’ll end\\nup in rehab.\\nPart 8: Hiring, managing, promoting, and Dring executives 67\\nPart 9: How to hire a professional\\nCEO\\nDon’t.\\nIf you don’t have anyone on your founding team who is capable\\nof being CEO, then sell your company — now.\\nHow to hire the best people you've\\never worked with\\nThere are many aspects to hiring great people, and various people smarter than me have written extensively on the topic.\\nSo I’m not going to try to be comprehensive.\\nBut I am going to relay some lessons learned through hard\\nexperience on how to hire the best people you’ve ever worked\\nwith — particularly for a startup.\\nI’m going to cover two key areas in this post:\\n• Criteria: what to value when evaluating candidates.\\n• And process: how to actually run the hiring process, and if\\nnecessary the aaermath of making a mistake.\\nCriteria 7rst\\nLots of people will tell you to hire for intell\",\n",
              "   0.536802772836966),\n",
              "  ('. Don’t micromanage.\\nThe whole point of having an executive is to have someone who\\n60 The Pmarca Blog Archives\\ncan Xgure out how to build and run an organization so that you\\ndon’t have to. Manage her, understand what she is doing, be\\nvery clear on the results you expect, but let her do the job.\\nHere’s the key corollary to that: if you want to give an executive full\\nlatitude, but you’re reluctant to do so because you’re not sure she can\\nmake it happen, then it’s probably time to Fre her.\\nIn my experience it’s not that uncommon for a founder or CEO\\nto be uncomfortable — sometimes only at a gut level — at really\\ngiving an executive the latitude to run with the ball. That is a\\nsureXre signal that the executive is not working out and probably needs to be Xred. More on that below.\\nThird, ruthlessly violate the chain of command in order to gather data.\\nI don’t mean going around telling people under an executive\\nwhat to do without her knowing about it. I mean, ask questions,\\ncontinually, at al',\n",
              "   0.5161142913162111)]}"
            ]
          },
          "execution_count": 206,
          "metadata": {},
          "output_type": "execute_result"
        }
      ],
      "source": [
        "retrieval_augmented_qa_pipeline.run_pipeline(\"What are some tips for being an effective CEO?\")"
      ]
    },
    {
      "cell_type": "markdown",
      "metadata": {
        "id": "QAkIW2qRR6yz"
      },
      "source": [
        "Navigate to the Weights and Biases \"run\" link to see how your LLM is performing!\n",
        "\n",
        "```\n",
        "View run at YOUR LINK HERE\n",
        "```"
      ]
    },
    {
      "cell_type": "markdown",
      "metadata": {
        "id": "sInZ32BoR6yz"
      },
      "source": [
        "#### ❓ Question #5: \n",
        "\n",
        "What is the `model_name` from the WandB `root_span` trace? < gpt-3.5-turbo-0125 >"
      ]
    },
    {
      "cell_type": "markdown",
      "metadata": {
        "id": "Of8wJGalR6yz"
      },
      "source": [
        "## Task 7: RAG Evaluation Using GPT-4\n",
        "\n"
      ]
    },
    {
      "cell_type": "code",
      "execution_count": 85,
      "metadata": {
        "colab": {
          "base_uri": "https://localhost:8080/",
          "height": 330
        },
        "id": "PRNzzMurR6yz",
        "outputId": "0dcaf542-530c-480d-9dc6-a2931e8557e2"
      },
      "outputs": [
        {
          "name": "stdout",
          "output_type": "stream",
          "text": [
            "Based on the context provided, here are some tips for being an effective CEO:\n",
            "\n",
            "1. Nuke underperforming managers and promote top performers: Identify and promote strong, sharp, aggressive, and ambitious director or VP-level managers who can lead their teams effectively.\n",
            "\n",
            "2. Focus on key priorities: Determine the most important thing your company needs to win at, and put your best person in charge of achieving success in that area.\n",
            "\n",
            "3. Provide clear incentives: Use transparent performance evaluations and reward high performers to motivate employees. Encourage improvement or consider letting go of poor performers.\n",
            "\n",
            "4. Be mindful of incentives when hiring executives: Align incentives for outside executives, such as CEOs, with the company's long-term goals to ensure commitment and success.\n",
            "\n",
            "5. Avoid micromanaging: Trust your executives to handle their roles effectively and give them the necessary autonomy to make decisions and lead their teams.\n",
            "\n",
            "6. Hire the right CEOs: If no one on your founding team is capable of being CEO, consider selling the company to bring in the necessary leadership.\n",
            "\n",
            "These tips can help you become a more effective CEO and lead your company towards success.\n"
          ]
        },
        {
          "data": {
            "text/plain": [
              "'{\"clarity\": \"8\", \"faithfulness\": \"9\", \"correctness\": \"9\"}'"
            ]
          },
          "execution_count": 85,
          "metadata": {},
          "output_type": "execute_result"
        }
      ],
      "source": [
        "query = \"What are some tips for being an effective CEO?\"\n",
        "\n",
        "response = retrieval_augmented_qa_pipeline.run_pipeline(query)\n",
        "\n",
        "print(response[\"response\"])\n",
        "\n",
        "evaluator_system_template = \"\"\"You are an expert in analyzing the quality of a response.\n",
        "\n",
        "You should be hyper-critical.\n",
        "\n",
        "Provide scores (out of 10) for the following attributes:\n",
        "\n",
        "1. Clarity - how clear is the response\n",
        "2. Faithfulness - how related to the original query is the response and the provided context\n",
        "3. Correctness - was the response correct?\n",
        "\n",
        "Please take your time, and think through each item step-by-step, when you are done - please provide your response in the following JSON format:\n",
        "\n",
        "{\"clarity\" : \"score_out_of_10\", \"faithfulness\" : \"score_out_of_10\", \"correctness\" : \"score_out_of_10\"}\"\"\"\n",
        "\n",
        "evaluation_template = \"\"\"Query: {input}\n",
        "Context: {context}\n",
        "Response: {response}\"\"\"\n",
        "\n",
        "try:\n",
        "    chat_openai = ChatOpenAI(model_name=\"gpt-4-turbo\")\n",
        "except:\n",
        "    chat_openai = ChatOpenAI()\n",
        "\n",
        "evaluator_system_prompt = SystemRolePrompt(evaluator_system_template)\n",
        "evaluation_prompt = UserRolePrompt(evaluation_template)\n",
        "\n",
        "messages = [\n",
        "    evaluator_system_prompt.create_message(format=False),\n",
        "    evaluation_prompt.create_message(\n",
        "        input=query,\n",
        "        context=\"\\n\".join([context[0] for context in response[\"context\"]]),\n",
        "        response=response[\"response\"]\n",
        "    ),\n",
        "]\n",
        "\n",
        "chat_openai.run(messages, response_format={\"type\" : \"json_object\"})"
      ]
    },
    {
      "cell_type": "markdown",
      "metadata": {
        "id": "TNpauQmJR6yz"
      },
      "source": [
        "# Conclusion\n",
        "\n",
        "In this notebook, we've gone through the steps required to create your own simple RAQA application!\n",
        "\n",
        "Please feel free to extend this as much as you'd like."
      ]
    },
    {
      "cell_type": "code",
      "execution_count": 89,
      "metadata": {
        "colab": {
          "base_uri": "https://localhost:8080/",
          "height": 87,
          "referenced_widgets": [
            "bb904e05ece143c79ecc4f20de482f45",
            "3a4ba348cb004f8ab7b2b1395539c81b",
            "1ce393d9afcf427d9d352259c5d32678",
            "56a8e24025594e5e9ff3b8581c344691",
            "d2ea5009dd16442cb5d8a0ac468e50a8",
            "5f00135fe1044051a50ee5e841cbb8e3",
            "4e6efd99f7d346e485b002fb0fa85cc7",
            "3dfb67c39958461da6071e4c19c3fa41"
          ]
        },
        "id": "xzlxJbFtR6y0",
        "outputId": "d5789d16-c41c-4a3c-ac53-65640a0d3698"
      },
      "outputs": [
        {
          "data": {
            "text/html": [
              " View run <strong style=\"color:#cdcd00\">logical-sponge-4</strong> at: <a href='https://wandb.ai/ai_wonders_with_joy/AIE-RAG-Visibility/runs/gf7354j7' target=\"_blank\">https://wandb.ai/ai_wonders_with_joy/AIE-RAG-Visibility/runs/gf7354j7</a><br/> View project at: <a href='https://wandb.ai/ai_wonders_with_joy/AIE-RAG-Visibility' target=\"_blank\">https://wandb.ai/ai_wonders_with_joy/AIE-RAG-Visibility</a><br/>Synced 5 W&B file(s), 0 media file(s), 0 artifact file(s) and 0 other file(s)"
            ],
            "text/plain": [
              "<IPython.core.display.HTML object>"
            ]
          },
          "metadata": {},
          "output_type": "display_data"
        },
        {
          "data": {
            "text/html": [
              "Find logs at: <code>./wandb/run-20240611_130220-gf7354j7/logs</code>"
            ],
            "text/plain": [
              "<IPython.core.display.HTML object>"
            ]
          },
          "metadata": {},
          "output_type": "display_data"
        }
      ],
      "source": [
        "wandb.finish()"
      ]
    }
  ],
  "metadata": {
    "colab": {
      "provenance": []
    },
    "kernelspec": {
      "display_name": "buildyourownlangchain",
      "language": "python",
      "name": "python3"
    },
    "language_info": {
      "codemirror_mode": {
        "name": "ipython",
        "version": 3
      },
      "file_extension": ".py",
      "mimetype": "text/x-python",
      "name": "python",
      "nbconvert_exporter": "python",
      "pygments_lexer": "ipython3",
      "version": "3.10.14"
    },
    "orig_nbformat": 4,
    "widgets": {
      "application/vnd.jupyter.widget-state+json": {
        "1ce393d9afcf427d9d352259c5d32678": {
          "model_module": "@jupyter-widgets/controls",
          "model_module_version": "1.5.0",
          "model_name": "FloatProgressModel",
          "state": {
            "_dom_classes": [],
            "_model_module": "@jupyter-widgets/controls",
            "_model_module_version": "1.5.0",
            "_model_name": "FloatProgressModel",
            "_view_count": null,
            "_view_module": "@jupyter-widgets/controls",
            "_view_module_version": "1.5.0",
            "_view_name": "ProgressView",
            "bar_style": "",
            "description": "",
            "description_tooltip": null,
            "layout": "IPY_MODEL_4e6efd99f7d346e485b002fb0fa85cc7",
            "max": 1,
            "min": 0,
            "orientation": "horizontal",
            "style": "IPY_MODEL_3dfb67c39958461da6071e4c19c3fa41",
            "value": 1
          }
        },
        "3a4ba348cb004f8ab7b2b1395539c81b": {
          "model_module": "@jupyter-widgets/controls",
          "model_module_version": "1.5.0",
          "model_name": "LabelModel",
          "state": {
            "_dom_classes": [],
            "_model_module": "@jupyter-widgets/controls",
            "_model_module_version": "1.5.0",
            "_model_name": "LabelModel",
            "_view_count": null,
            "_view_module": "@jupyter-widgets/controls",
            "_view_module_version": "1.5.0",
            "_view_name": "LabelView",
            "description": "",
            "description_tooltip": null,
            "layout": "IPY_MODEL_d2ea5009dd16442cb5d8a0ac468e50a8",
            "placeholder": "​",
            "style": "IPY_MODEL_5f00135fe1044051a50ee5e841cbb8e3",
            "value": "0.018 MB of 0.018 MB uploaded\r"
          }
        },
        "3dfb67c39958461da6071e4c19c3fa41": {
          "model_module": "@jupyter-widgets/controls",
          "model_module_version": "1.5.0",
          "model_name": "ProgressStyleModel",
          "state": {
            "_model_module": "@jupyter-widgets/controls",
            "_model_module_version": "1.5.0",
            "_model_name": "ProgressStyleModel",
            "_view_count": null,
            "_view_module": "@jupyter-widgets/base",
            "_view_module_version": "1.2.0",
            "_view_name": "StyleView",
            "bar_color": null,
            "description_width": ""
          }
        },
        "4e6efd99f7d346e485b002fb0fa85cc7": {
          "model_module": "@jupyter-widgets/base",
          "model_module_version": "1.2.0",
          "model_name": "LayoutModel",
          "state": {
            "_model_module": "@jupyter-widgets/base",
            "_model_module_version": "1.2.0",
            "_model_name": "LayoutModel",
            "_view_count": null,
            "_view_module": "@jupyter-widgets/base",
            "_view_module_version": "1.2.0",
            "_view_name": "LayoutView",
            "align_content": null,
            "align_items": null,
            "align_self": null,
            "border": null,
            "bottom": null,
            "display": null,
            "flex": null,
            "flex_flow": null,
            "grid_area": null,
            "grid_auto_columns": null,
            "grid_auto_flow": null,
            "grid_auto_rows": null,
            "grid_column": null,
            "grid_gap": null,
            "grid_row": null,
            "grid_template_areas": null,
            "grid_template_columns": null,
            "grid_template_rows": null,
            "height": null,
            "justify_content": null,
            "justify_items": null,
            "left": null,
            "margin": null,
            "max_height": null,
            "max_width": null,
            "min_height": null,
            "min_width": null,
            "object_fit": null,
            "object_position": null,
            "order": null,
            "overflow": null,
            "overflow_x": null,
            "overflow_y": null,
            "padding": null,
            "right": null,
            "top": null,
            "visibility": null,
            "width": null
          }
        },
        "56a8e24025594e5e9ff3b8581c344691": {
          "model_module": "@jupyter-widgets/base",
          "model_module_version": "1.2.0",
          "model_name": "LayoutModel",
          "state": {
            "_model_module": "@jupyter-widgets/base",
            "_model_module_version": "1.2.0",
            "_model_name": "LayoutModel",
            "_view_count": null,
            "_view_module": "@jupyter-widgets/base",
            "_view_module_version": "1.2.0",
            "_view_name": "LayoutView",
            "align_content": null,
            "align_items": null,
            "align_self": null,
            "border": null,
            "bottom": null,
            "display": null,
            "flex": null,
            "flex_flow": null,
            "grid_area": null,
            "grid_auto_columns": null,
            "grid_auto_flow": null,
            "grid_auto_rows": null,
            "grid_column": null,
            "grid_gap": null,
            "grid_row": null,
            "grid_template_areas": null,
            "grid_template_columns": null,
            "grid_template_rows": null,
            "height": null,
            "justify_content": null,
            "justify_items": null,
            "left": null,
            "margin": null,
            "max_height": null,
            "max_width": null,
            "min_height": null,
            "min_width": null,
            "object_fit": null,
            "object_position": null,
            "order": null,
            "overflow": null,
            "overflow_x": null,
            "overflow_y": null,
            "padding": null,
            "right": null,
            "top": null,
            "visibility": null,
            "width": null
          }
        },
        "5f00135fe1044051a50ee5e841cbb8e3": {
          "model_module": "@jupyter-widgets/controls",
          "model_module_version": "1.5.0",
          "model_name": "DescriptionStyleModel",
          "state": {
            "_model_module": "@jupyter-widgets/controls",
            "_model_module_version": "1.5.0",
            "_model_name": "DescriptionStyleModel",
            "_view_count": null,
            "_view_module": "@jupyter-widgets/base",
            "_view_module_version": "1.2.0",
            "_view_name": "StyleView",
            "description_width": ""
          }
        },
        "bb904e05ece143c79ecc4f20de482f45": {
          "model_module": "@jupyter-widgets/controls",
          "model_module_version": "1.5.0",
          "model_name": "VBoxModel",
          "state": {
            "_dom_classes": [],
            "_model_module": "@jupyter-widgets/controls",
            "_model_module_version": "1.5.0",
            "_model_name": "VBoxModel",
            "_view_count": null,
            "_view_module": "@jupyter-widgets/controls",
            "_view_module_version": "1.5.0",
            "_view_name": "VBoxView",
            "box_style": "",
            "children": [
              "IPY_MODEL_3a4ba348cb004f8ab7b2b1395539c81b",
              "IPY_MODEL_1ce393d9afcf427d9d352259c5d32678"
            ],
            "layout": "IPY_MODEL_56a8e24025594e5e9ff3b8581c344691"
          }
        },
        "d2ea5009dd16442cb5d8a0ac468e50a8": {
          "model_module": "@jupyter-widgets/base",
          "model_module_version": "1.2.0",
          "model_name": "LayoutModel",
          "state": {
            "_model_module": "@jupyter-widgets/base",
            "_model_module_version": "1.2.0",
            "_model_name": "LayoutModel",
            "_view_count": null,
            "_view_module": "@jupyter-widgets/base",
            "_view_module_version": "1.2.0",
            "_view_name": "LayoutView",
            "align_content": null,
            "align_items": null,
            "align_self": null,
            "border": null,
            "bottom": null,
            "display": null,
            "flex": null,
            "flex_flow": null,
            "grid_area": null,
            "grid_auto_columns": null,
            "grid_auto_flow": null,
            "grid_auto_rows": null,
            "grid_column": null,
            "grid_gap": null,
            "grid_row": null,
            "grid_template_areas": null,
            "grid_template_columns": null,
            "grid_template_rows": null,
            "height": null,
            "justify_content": null,
            "justify_items": null,
            "left": null,
            "margin": null,
            "max_height": null,
            "max_width": null,
            "min_height": null,
            "min_width": null,
            "object_fit": null,
            "object_position": null,
            "order": null,
            "overflow": null,
            "overflow_x": null,
            "overflow_y": null,
            "padding": null,
            "right": null,
            "top": null,
            "visibility": null,
            "width": null
          }
        }
      }
    }
  },
  "nbformat": 4,
  "nbformat_minor": 0
}
