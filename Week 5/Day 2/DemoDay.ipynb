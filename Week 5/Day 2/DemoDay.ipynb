{
 "cells": [
  {
   "cell_type": "code",
   "execution_count": 1,
   "metadata": {},
   "outputs": [],
   "source": [
    "# run the following in terminal\n",
    "# ! pip install llama-parse \n",
    "# ! pip uninstall llama-index  # run this if upgrading from v0.9.x or older\n",
    "# ! pip install -U llama-index --upgrade --no-cache-dir --force-reinstall"
   ]
  },
  {
   "cell_type": "markdown",
   "metadata": {},
   "source": [
    "scp /mnt/c/Users/s_nes/Downloads/The-Holy-Bible-King-James-Version.pdf data"
   ]
  },
  {
   "cell_type": "code",
   "execution_count": null,
   "metadata": {},
   "outputs": [],
   "source": [
    "\"\"\"The provided document is a quarterly report filed by AirBNB,\n",
    "        with the Securities and Exchange Commission (SEC).\n",
    "        Some of the pages include detailed financial information about the company's performance for a specific quarter.\n",
    "        It includes unaudited financial statements, management discussion and analysis, and other relevant disclosures required by the SEC.\n",
    "        It contains many tables.\n",
    "        Try to be precise while answering the questions\"\"\""
   ]
  },
  {
   "cell_type": "code",
   "execution_count": 19,
   "metadata": {},
   "outputs": [
    {
     "name": "stdout",
     "output_type": "stream",
     "text": [
      "Started parsing the file under job_id 17f4c1cc-3a8d-4dcd-bc94-9a28eed3c722\n",
      "......."
     ]
    }
   ],
   "source": [
    "from langchain_text_splitters import RecursiveCharacterTextSplitter, MarkdownTextSplitter\n",
    "from llama_parse import LlamaParse\n",
    "\n",
    "import nest_asyncio\n",
    "nest_asyncio.apply()\n",
    "# THIS IS THE NEW WAY WITH LlamaParse markdown loader\n",
    "llama_parser = LlamaParse(\n",
    "    api_key=\"llx-UvTDPZfQfm844ErhfqNpXlfjrofQxcxTUCAgL5zuXsGkqZbY\", # can also be set in your env as LLAMA_CLOUD_API_KEY\n",
    "    result_type=\"markdown\",  # \"markdown\" and \"text\" are available\n",
    "    verbose=True,\n",
    "    parsing_instruction = \"\"\"\n",
    "        The provided document is a large file of books in King-James Bible,\n",
    "        with the versus (SEC).\n",
    "        Some of the pages include detailed prayers and stories when we need prayers for hope, healing, protection, provision, depression,\n",
    "        rest & sleep, when mind is troubled, stubborn habbit, worry & anxiety, right words, power of prayer, difficult environment, help forgiving,\n",
    "        strength, direction, fear, friend to find God, some help, God is in control, and assuarance of salvation.\n",
    "        Try to be precise while answering the questions.\n",
    "    \"\"\"\n",
    ")\n",
    "\n",
    "llama_parse_documents = llama_parser.load_data(\"./data/The-Holy-Bible-King-James-Version.pdf\")\n",
    "documents = [doc.to_langchain_format() for doc in llama_parse_documents]\n",
    "\n",
    "### 2. CREATE TEXT SPLITTER AND SPLIT DOCUMENTS\n",
    "text_splitter = MarkdownTextSplitter(chunk_size=1000, chunk_overlap=30)\n",
    "split_documents = text_splitter.split_documents(documents)"
   ]
  },
  {
   "cell_type": "code",
   "execution_count": null,
   "metadata": {},
   "outputs": [],
   "source": [
    "len(split_documents)"
   ]
  },
  {
   "cell_type": "code",
   "execution_count": 2,
   "metadata": {},
   "outputs": [],
   "source": [
    "print(split_documents[2].page_content)"
   ]
  },
  {
   "cell_type": "code",
   "execution_count": 3,
   "metadata": {},
   "outputs": [],
   "source": [
    "print(split_documents[3].page_content)"
   ]
  },
  {
   "cell_type": "code",
   "execution_count": 4,
   "metadata": {},
   "outputs": [],
   "source": [
    "print(split_documents[40].page_content)"
   ]
  },
  {
   "cell_type": "code",
   "execution_count": 33,
   "metadata": {},
   "outputs": [],
   "source": [
    "from llama_index.core import SimpleDirectoryReader\n",
    "\n",
    "vanilla_documents = SimpleDirectoryReader(\"./data/\").load_data()"
   ]
  },
  {
   "cell_type": "code",
   "execution_count": 22,
   "metadata": {},
   "outputs": [
    {
     "data": {
      "text/plain": [
       "742"
      ]
     },
     "execution_count": 22,
     "metadata": {},
     "output_type": "execute_result"
    }
   ],
   "source": [
    "len(vanilla_documents)"
   ]
  },
  {
   "cell_type": "code",
   "execution_count": 4,
   "metadata": {},
   "outputs": [],
   "source": [
    "# from IPython.display import display\n",
    "# display(len(vanilla_documents))"
   ]
  },
  {
   "cell_type": "code",
   "execution_count": 5,
   "metadata": {},
   "outputs": [
    {
     "data": {
      "text/plain": [
       "Document(id_='41c605ad-8424-4a09-bde0-ca347fb49f59', embedding=None, metadata={'page_label': '1', 'file_name': 'The-Holy-Bible-King-James-Version.pdf', 'file_path': '/home/sahane/AIE3/Week 5/Day 2/data/The-Holy-Bible-King-James-Version.pdf', 'file_type': 'application/pdf', 'file_size': 10235187, 'creation_date': '2024-07-06', 'last_modified_date': '2024-07-06'}, excluded_embed_metadata_keys=['file_name', 'file_type', 'file_size', 'creation_date', 'last_modified_date', 'last_accessed_date'], excluded_llm_metadata_keys=['file_name', 'file_type', 'file_size', 'creation_date', 'last_modified_date', 'last_accessed_date'], relationships={}, text='The King James Version of the\\nHoly Bible\\nDownloaded from www.holybooks.com\\nDownloaded from www.holybooks.com - https://www.holybooks.com/download-bible/', mimetype='text/plain', start_char_idx=None, end_char_idx=None, text_template='{metadata_str}\\n\\n{content}', metadata_template='{key}: {value}', metadata_seperator='\\n')"
      ]
     },
     "execution_count": 5,
     "metadata": {},
     "output_type": "execute_result"
    }
   ],
   "source": [
    "vanilla_documents[0]"
   ]
  },
  {
   "cell_type": "code",
   "execution_count": 6,
   "metadata": {},
   "outputs": [
    {
     "data": {
      "text/plain": [
       "'Page 1 Genesis\\nThe First Book of Moses, called Genesis\\n   \\n{1:1} In the beginning God created the he'"
      ]
     },
     "execution_count": 6,
     "metadata": {},
     "output_type": "execute_result"
    }
   ],
   "source": [
    "vanilla_documents[21].get_content()[:100]"
   ]
  },
  {
   "cell_type": "code",
   "execution_count": 7,
   "metadata": {},
   "outputs": [
    {
     "data": {
      "text/plain": [
       "'ars, and begat Reu: {11:19} And Peleg lived\\nafter he begat Reu two hundred and nine years, and begat'"
      ]
     },
     "execution_count": 7,
     "metadata": {},
     "output_type": "execute_result"
    }
   ],
   "source": [
    "vanilla_documents[25].get_content()[:vanilla_documents[25].get_content().find('\\nDownloaded')][-100:]#[:-len('\\n\\n\\n\\n\\n\\n\\n\\n\\n\\n\\n\\n\\n\\n\\nDownloaded from www.holybooks.com - https://www.holybooks.com/d')]"
   ]
  },
  {
   "cell_type": "code",
   "execution_count": 8,
   "metadata": {},
   "outputs": [
    {
     "data": {
      "text/plain": [
       "'Genesis Page 6\\nsons and daughters. {11:20} And Reu lived two and thirty\\nyears, and begat Serug: {11:'"
      ]
     },
     "execution_count": 8,
     "metadata": {},
     "output_type": "execute_result"
    }
   ],
   "source": [
    "vanilla_documents[26].get_content()[:100]"
   ]
  },
  {
   "cell_type": "code",
   "execution_count": 417,
   "metadata": {},
   "outputs": [
    {
     "data": {
      "text/plain": [
       "'Genesis'"
      ]
     },
     "execution_count": 417,
     "metadata": {},
     "output_type": "execute_result"
    }
   ],
   "source": [
    "# ['Page 1 Genesis' , 'Genesis Page 6']\n",
    "# import re\n",
    "# pattern = r'\\d'  # Match all digits in the string\n",
    "# # mod_string = re.sub(pattern, '', org_string)\n",
    "# re.sub(pattern, '', 'Page 1 Genesis'.strip('Page \\d ')).strip()"
   ]
  },
  {
   "cell_type": "code",
   "execution_count": 151,
   "metadata": {},
   "outputs": [],
   "source": [
    "# len('\\nDownloaded from www.holybooks.com - https://www.holybooks.com/download-bible/')"
   ]
  },
  {
   "cell_type": "code",
   "execution_count": 152,
   "metadata": {},
   "outputs": [],
   "source": [
    "# vanilla_documents[25].get_content()[-110-78:-78]+ ' '.join(vanilla_documents[26].get_content().split('\\n')[1:])"
   ]
  },
  {
   "cell_type": "code",
   "execution_count": 100,
   "metadata": {},
   "outputs": [
    {
     "data": {
      "text/plain": [
       "['Genesis Page 6',\n",
       " 'sons and daughters. {11:20} And Reu lived two and thirty',\n",
       " 'years, and begat Serug: {11:21} And Reu lived after he',\n",
       " 'begat Serug two hundred and seven years, and begat sons',\n",
       " 'and daughters. {11:22} And Serug lived thirty years, and']"
      ]
     },
     "execution_count": 100,
     "metadata": {},
     "output_type": "execute_result"
    }
   ],
   "source": [
    "vanilla_documents[26].get_content().split('\\n')[:5]"
   ]
  },
  {
   "cell_type": "code",
   "execution_count": 28,
   "metadata": {},
   "outputs": [
    {
     "name": "stdout",
     "output_type": "stream",
     "text": [
      "\u001b[31mERROR: pip's dependency resolver does not currently take into account all the packages that are installed. This behaviour is the source of the following dependency conflicts.\n",
      "llama-index-llms-anthropic 0.1.15 requires anthropic<0.29.0,>=0.26.2, but you have anthropic 0.30.1 which is incompatible.\u001b[0m\u001b[31m\n",
      "\u001b[0m"
     ]
    }
   ],
   "source": [
    "! pip install -qU llama-index-vector-stores-qdrant qdrant-client\n",
    "! pip install -qU llama-index openai anthropic"
   ]
  },
  {
   "cell_type": "code",
   "execution_count": 9,
   "metadata": {},
   "outputs": [],
   "source": [
    "# templistnext=[]\n",
    "# temptextnext=''\n",
    "# temptextold=''\n",
    "# from llama_index.core.schema import Document\n",
    "# from typing import List\n",
    "# import re\n",
    "# # pattern = r'\\d'\n",
    "\n",
    "# # Create an empty list to store documents\n",
    "# documents: List[Document] = []\n",
    "\n",
    "# for i in range(21,len(vanilla_documents)-1):\n",
    "    \n",
    "#     # if not vanilla_documents[i+1].get_content().startswith(\"Page\"):\n",
    "#     temptext=vanilla_documents[i+1].get_content()\n",
    "#     templist=temptext.split('\\n')\n",
    "#     temptextnext=' '.join(templist[1:])# next Document\n",
    "#     # metadata creation: \n",
    "\n",
    "#     templistnext=temptextnext.split('{') # re-splitting\n",
    "#     temptextold=vanilla_documents[i].get_content()[:vanilla_documents[i].get_content().find('Downloaded from')]+templistnext[0]\n",
    "#     # vanila_documents[i].text=temptextold\n",
    "#     # doc=Document(text=temptextold, metadata=vanilla_documents[i].metadata)\n",
    "#     temptextpre=vanilla_documents[i].get_content()\n",
    "#     templistpre=temptextpre.split('\\n')\n",
    "#     print(templistpre)\n",
    "#     processed_text=re.sub(pattern, '', templistpre[0].strip('Page \\d ')).strip()\n",
    "#     metadata={'book': processed_text}\n",
    "#     doc=Document(text=temptextold, metadata=metadata)\n",
    "#     documents.append(doc)\n",
    "\n",
    "#     temptextnext='{'+'{'.join(templistnext[1:]) # previous text\n",
    "#     temptextnext=temptextnext[:temptextnext.find('Downloaded from')]\n",
    "#     vanilla_documents[i+1].text= temptextnext\n",
    "\n",
    "#     # doc=Document(text=temptextnex, metadata=vanilla_documents[i+1].metadata )\n",
    "#     # doc=Document(text=temptextnext, metadata={'book':re.sub(pattern,'', templist[0].strip('Page \\d ')).strip()})\n",
    "#     # documents.append(doc)\n",
    "\n",
    "# lasttext=vanilla_documents[i+1].get_content()[:vanilla_documents[i+1].get_content().find('Downloaded from')]\n",
    "# vanilla_documents[i+1].text=lasttext\n",
    "# # doc=Document(text=lasttext, metadata=vanilla_documents[i+1].metadata)\n",
    "# processed_text=re.sub(pattern, '', templist[0].strip('Page \\d ')).strip()\n",
    "# metadata={'book': processed_text}\n",
    "# doc=Document(text=temptextold, metadata=metadata)\n",
    "# documents.append(doc)"
   ]
  },
  {
   "cell_type": "code",
   "execution_count": 148,
   "metadata": {},
   "outputs": [],
   "source": [
    "from llama_index.core import SimpleDirectoryReader\n",
    "\n",
    "vanilla_documents = SimpleDirectoryReader(\"./data/\").load_data()"
   ]
  },
  {
   "cell_type": "code",
   "execution_count": 149,
   "metadata": {},
   "outputs": [
    {
     "data": {
      "text/plain": [
       "'enged sevenfold, truly\\nDownloaded from www.holybooks.com - https://www.holybooks.com/download-bible/'"
      ]
     },
     "execution_count": 149,
     "metadata": {},
     "output_type": "execute_result"
    }
   ],
   "source": [
    "vanilla_documents[22].text[-100:]"
   ]
  },
  {
   "cell_type": "code",
   "execution_count": 150,
   "metadata": {},
   "outputs": [],
   "source": [
    "# [vanilla_documents[i].get_content()[:vanilla_documents[i].get_content().find('Downloaded from')] for i in range(21, len(vanilla_documents))]\n",
    "updated_documents = [\n",
    "    doc.get_content()[:doc.get_content().find('Downloaded from')] if 'Downloaded from' in doc.get_content() else doc.get_content()\n",
    "    for doc in vanilla_documents[21:]\n",
    "]\n"
   ]
  },
  {
   "cell_type": "code",
   "execution_count": 151,
   "metadata": {},
   "outputs": [
    {
     "data": {
      "text/plain": [
       "' a man to my wounding, and a young man to my\\nhurt. {4:24} If Cain shall be avenged sevenfold, truly\\n'"
      ]
     },
     "execution_count": 151,
     "metadata": {},
     "output_type": "execute_result"
    }
   ],
   "source": [
    "updated_documents[1][-100:]"
   ]
  },
  {
   "cell_type": "code",
   "execution_count": 152,
   "metadata": {},
   "outputs": [
    {
     "data": {
      "text/plain": [
       "721"
      ]
     },
     "execution_count": 152,
     "metadata": {},
     "output_type": "execute_result"
    }
   ],
   "source": [
    "len(updated_documents)"
   ]
  },
  {
   "cell_type": "code",
   "execution_count": 299,
   "metadata": {},
   "outputs": [],
   "source": [
    "for i in range(21,len(vanilla_documents)):\n",
    "    vanilla_documents[i].text=updated_documents[i-21]"
   ]
  },
  {
   "cell_type": "code",
   "execution_count": 233,
   "metadata": {},
   "outputs": [
    {
     "data": {
      "text/plain": [
       "' a man to my wounding, and a young man to my\\nhurt. {4:24} If Cain shall be avenged sevenfold, truly\\n'"
      ]
     },
     "execution_count": 233,
     "metadata": {},
     "output_type": "execute_result"
    }
   ],
   "source": [
    "vanilla_documents[22].text[-100:]"
   ]
  },
  {
   "cell_type": "code",
   "execution_count": 234,
   "metadata": {},
   "outputs": [
    {
     "data": {
      "text/plain": [
       "'Genesis Page 2\\nthe name thereof. {2:20} And Adam gave names to all\\ncattle, and to the fowl of the ai'"
      ]
     },
     "execution_count": 234,
     "metadata": {},
     "output_type": "execute_result"
    }
   ],
   "source": [
    "vanilla_documents[22].text[:100]"
   ]
  },
  {
   "cell_type": "code",
   "execution_count": 201,
   "metadata": {},
   "outputs": [
    {
     "data": {
      "text/plain": [
       "742"
      ]
     },
     "execution_count": 201,
     "metadata": {},
     "output_type": "execute_result"
    }
   ],
   "source": [
    "len(vanilla_documents)"
   ]
  },
  {
   "cell_type": "code",
   "execution_count": 295,
   "metadata": {},
   "outputs": [],
   "source": [
    "i=96\n",
    "aa=vanilla_documents[i].get_content().split('\\n')[0]\n",
    "# print(re.sub(pattern, '', aa).strip())\n",
    "# '\\n'.join(aa[1:])\n",
    "if len(re.findall(r'\\d+',aa)):\n",
    "    print('Yes')"
   ]
  },
  {
   "cell_type": "code",
   "execution_count": 254,
   "metadata": {},
   "outputs": [
    {
     "name": "stdout",
     "output_type": "stream",
     "text": [
      "Genesis Page 22\n",
      "Yes\n"
     ]
    },
    {
     "data": {
      "text/plain": [
       "\"Page 21 Genesis\\nMasrekah reigned in his stead. {36:37} And Samlah died,\\nand Saul of Rehoboth [by] the river reigned in his stead.\\n{36:38} And Saul died, and Baal-hanan the son of Achbor\\nreigned in his stead. {36:39} And Baal-hanan the son of\\nAchbor died, and Hadar reigned in his stead: and the name\\nof his city [was] Pau; and his wife's name [was] Mehetabel,\\nthe daughter of Matred, the daughter of Mezahab. {36:40}\\nAnd these [are] the names of the dukes [that came] of Esau,\\naccording to their families, after their places, by their\\nnames; duke Timnah, duke Alvah, duke Jetheth, {36:41}\\nDuke Aholibamah, duke Elah, duke Pinon, {36:42} Duke\\nKenaz, duke Teman, duke Mibzar, {36:43} Duke Magdiel,\\nduke Iram: these [be] the dukes of Edom, according to their\\nhabitations in the land of their possession: he [is] Esau the\\nfather of the Edomites.\\n{37:1} And Jacob dwelt in the land wherein his father was\\na stranger, in the land of Canaan. {37:2} These [are] the\\ngenerations of Jacob. Joseph, [being] seventeen years old,\\nwas feeding the flock with his brethren; and the lad [was]\\nwith the sons of Bilhah, and with the sons of Zilpah, his\\nfather's wives: and Joseph brought unto his father their evil\\nreport. {37:3} Now Israel loved Joseph more than all his\\nchildren, because he [was] the son of his old age: and he\\nmade him a coat of [many] colours. {37:4} And when his\\nbrethren saw that their father loved him more than all his\\nbrethren, they hated him, and could not speak peaceably\\nunto him.\\n{37:5} And Joseph dreamed a dream, and he told [it] his\\nbrethren: and they hated him yet the more. {37:6} And he\\nsaid unto them, Hear, I pray you, this dream which I have\\ndreamed: {37:7} For, behold, we [were] binding sheaves in\\nthe field, and, lo, my sheaf arose, and also stood upright;\\nand, behold, your sheaves stood round about, and made\\nobeisance to my sheaf. {37:8} And his brethren said to him,\\nShalt thou indeed reign over us? or shalt thou indeed have\\ndominion over us? And they hated him yet the more for his\\ndreams, and for his words.\\n{37:9} And he dreamed yet another dream, and told it his\\nbrethren, and said, Behold, I have dreamed a dream more;\\nand, behold, the sun and the moon and the eleven stars\\nmade obeisance to me. {37:10} And he told [it] to his\\nfather, and to his brethren: and his father rebuked him, and\\nsaid unto him, What [is] this dream that thou hast dreamed?\\nShall I and thy mother and thy brethren indeed come to bow\\ndown ourselves to thee to the earth? {37:11} And his\\nbrethren envied him; but his father observed the saying.\\n{37:12} And his brethren went to feed their father's flock\\nin Shechem. {37:13} And Israel said unto Joseph, Do not\\nthy brethren feed [the flock] in Shechem? come, and I will\\nsend thee unto them. And he said to him, Here [am] I.\\n{37:14} And he said to him, Go, I pray thee, see whether it\\nbe well with thy brethren, and well with the flocks; and\\nbring me word again. So he sent him out of the vale of\\nHebron, and he came to Shechem.\\n{37:15} And a certain man found him, and, behold, [he\\nwas] wandering in the field: and the man asked him, saying,\\nWhat seekest thou? {37:16} And he said, I seek my\\nbrethren: tell me, I pray thee, where they feed [their flocks.\\n]{37:17} And the man said, They are departed hence; for I\\nheard them say, Let us go to Dothan. And Joseph went after\\nhis brethren, and found them in Dothan. {37:18} And when\\nthey saw him afar off, even before he came near unto them,\\nthey conspired against him to slay him. {37:19} And they\\nsaid one to another, Behold, this dreamer cometh. {37:20}Come now therefore, and let us slay him, and cast him into\\nsome pit, and we will say, Some evil beast hath devoured\\nhim: and we shall see what will become of his dreams.\\n{37:21} And Reuben heard [it,] and he delivered him out of\\ntheir hands; and said, Let us not kill him. {37:22} And\\nReuben said unto them, Shed no blood, [but] cast him into\\nthis pit that is in the wilderness, and lay no hand upon him;\\nthat he might rid him out of their hands, to deliver him to\\nhis father again.\\n{37:23} And it came to pass, when Joseph was come unto\\nhis brethren, that they stript Joseph out of his coat, [his] coat\\nof [many] colours that [was] on him; {37:24} And they took\\nhim, and cast him into a pit: and the pit [was] empty, [there\\nwas] no water in it. {37:25} And they sat down to eat bread:\\nand they lifted up their eyes and looked, and, behold, a\\ncompany of Ishmeelites came from Gilead with their camels\\nbearing spicery and balm and myrrh, going to carry [it]\\ndown to Egypt. {37:26} And Judah said unto his brethren,\\nWhat profit [is it] if we slay our brother, and conceal his\\nblood? {37:27} Come, and let us sell him to the Ishmeelites,\\nand let not our hand be upon him; for he [is] our brother\\n[and] our flesh. And his brethren were content. {37:28}\\nThen there passed by Midianites merchantmen; and they\\ndrew and lifted up Joseph out of the pit, and sold Joseph to\\nthe Ishmeelites for twenty [pieces] of silver: and they\\nbrought Joseph into Egypt.\\n{37:29} And Reuben returned unto the pit; and, behold,\\nJoseph [was] not in the pit; and he rent his clothes. {37:30}\\nAnd he returned unto his brethren, and said, The child [is]\\nnot; and I, whither shall I go? {37:31} And they took\\nJoseph's coat, and killed a kid of the goats, and dipped the\\ncoat in the blood; {37:32} And they sent the coat of [many]\\ncolours, and they brought [it] to their father; and said, This\\nhave we found: know now whether it [be] thy son's coat or\\nno. {37:33} And he knew it, and said, [It is] my son's coat;\\nan evil beast hath devoured him; Joseph is without doubt\\nrent in pieces. {37:34} And Jacob rent his clothes, and put\\nsackcloth upon his loins, and mourned for his son many\\ndays. {37:35} And all his sons and all his daughters rose up\\nto comfort him; but he refused to be comforted; and he said,\\nFor I will go down into the grave unto my son mourning.\\nThus his father wept for him. {37:36} And the Midianites\\nsold him into Egypt unto Potiphar, an officer of Pharaoh's,\\n[and] captain of the guard.\\n{38:1} And it came to pass at that time, that Judah went\\ndown from his brethren, and turned in to a certain\\nAdullamite, whose name [was] Hirah. {38:2} And Judah\\nsaw there a daughter of a certain Canaanite, whose name\\n[was] Shuah; and he took her, and went in unto her. {38:3}\\nAnd she conceived, and bare a son; and he called his name\\nEr. {38:4} And she conceived again, and bare a son; and\\nshe called his name Onan. {38:5} And she yet again\\nconceived, and bare a son; and called his name Shelah: and\\nhe was at Chezib, when she bare him. {38:6} And Judah\\ntook a wife for Er his firstborn, whose name [was] Tamar.\\n{38:7} And Er, Judah's firstborn, was wicked in the sight of\\nthe LORD; and the LORD slew him. {38:8} And Judah said\\nunto Onan, Go in unto thy brother's wife, and marry her,\\nand raise up seed to thy brother. {38:9} And Onan knew\\nthat the seed should not be his; and it came to pass, when he\\nwent in unto his brother's wife, that he spilled [it] on the\\nground, lest that he should give seed to his brother. {38:10}\\nAnd the thing which he did displeased the LORD:\\nwherefore he slew him also. {38:11} Then said Judah to\\nTamar his daughter in law, Remain a widow at thy father's\\nhouse, till Shelah my son be grown: for he said, Lest\\nperadventure he die also, as his brethren [did.] And Tamar\\nwent and dwelt in her father's house.\\nperadventure he die also, as his brethren [did.] And Tamar\\nwent and dwelt in her father's house.\\n\""
      ]
     },
     "execution_count": 254,
     "metadata": {},
     "output_type": "execute_result"
    }
   ],
   "source": [
    "templist=vanilla_documents[i+1].text.split('\\n')#---for metadata\n",
    "print(templist[0])\n",
    "temptextnext='\\n'.join(templist[1:])#---re-join\n",
    "temptextnext\n",
    "templistnext=temptextnext.split('{')\n",
    "templistnext\n",
    "if not '}' in templistnext[0]:\n",
    "    print('Yes')\n",
    "text=''\n",
    "if not '}' in templistnext[0]:\n",
    "    text=templistnext[0]\n",
    "    templistnext=templistnext[1:]\n",
    "\n",
    "vanilla_documents[i].text+=text\n",
    "vanilla_documents[i].text"
   ]
  },
  {
   "cell_type": "code",
   "execution_count": 230,
   "metadata": {},
   "outputs": [
    {
     "data": {
      "text/plain": [
       "'Genesis Page 22'"
      ]
     },
     "execution_count": 230,
     "metadata": {},
     "output_type": "execute_result"
    }
   ],
   "source": [
    "templistnext\n",
    "'{'+'{'.join(templistnext)\n",
    "vanilla_documents[i+1].text=templist[0]+'\\n'+'{'+'{'.join(templistnext)\n",
    "vanilla_documents[i+1].text\n",
    "vanilla_documents[i+1].text.split('\\n')[0]"
   ]
  },
  {
   "cell_type": "code",
   "execution_count": 118,
   "metadata": {},
   "outputs": [],
   "source": [
    "# [print(i) for i in range(len(documents)) if documents[i].metadata['book']=='Downloaded from www.holybooks.com - https://www.holybooks.com/download-bible/']"
   ]
  },
  {
   "cell_type": "code",
   "execution_count": 287,
   "metadata": {},
   "outputs": [
    {
     "data": {
      "text/plain": [
       "{'page_label': '97',\n",
       " 'file_name': 'The-Holy-Bible-King-James-Version.pdf',\n",
       " 'file_path': '/home/sahane/AIE3/Week 5/Day 2/data/The-Holy-Bible-King-James-Version.pdf',\n",
       " 'file_type': 'application/pdf',\n",
       " 'file_size': 10235187,\n",
       " 'creation_date': '2024-07-06',\n",
       " 'last_modified_date': '2024-07-06'}"
      ]
     },
     "execution_count": 287,
     "metadata": {},
     "output_type": "execute_result"
    }
   ],
   "source": [
    "vanilla_documents[i].metadata"
   ]
  },
  {
   "cell_type": "code",
   "execution_count": 300,
   "metadata": {},
   "outputs": [],
   "source": [
    "# templistnext=[]\n",
    "# metadata=[]\n",
    "# temptextnext=''\n",
    "# temptextold=''\n",
    "from llama_index.core.schema import Document\n",
    "from typing import List\n",
    "import re\n",
    "# pattern = r'\\d'\n",
    "# Pattern to match 'Page X' anywhere in the string, ignoring case\n",
    "pattern = r'(?i)\\b(Page\\s+\\d+)\\b'\n",
    "\n",
    "# Create an empty list to store documents\n",
    "documents: List[Document] = []\n",
    "\n",
    "for i in range(21,len(vanilla_documents)-1):\n",
    "    # templist=[]\n",
    "    # update the header and the trailing\n",
    "    pretemplist=vanilla_documents[i].get_content().split('\\n')\n",
    "    #Page 721 Revelation\\n\n",
    "    # if vanilla_documents[i].get_content().startswith('Page'):\n",
    "    if not len(re.findall(r'\\d+',pretemplist[0])):\n",
    "        continue\n",
    "               \n",
    "    pagenumber=int(re.findall(r'\\d+',pretemplist[0])[0])\n",
    "    book_name=re.sub(pattern, '', pretemplist[0]).strip()\n",
    "    \n",
    "    metadata={'book': book_name, 'page': pagenumber }\n",
    "    # print(processed_text)\n",
    "    vanilla_documents[i].text='\\n'.join(pretemplist[1:])\n",
    "    \n",
    "    if metadata['book']=='Downloaded from www.holybooks.com - https://www.holybooks.com/download-bible/':\n",
    "        print(metadata)\n",
    "    \n",
    "    templist=vanilla_documents[i+1].text.split('\\n')#---for metadata\n",
    "    temptextnext='\\n'.join(templist[1:])#---re-join\n",
    "    templistnext=temptextnext.split('{') # re-splitting\n",
    "    text=''\n",
    "    if not '}' in templistnext[0]:\n",
    "        text=templistnext[0]\n",
    "        templistnext=templistnext[1:]\n",
    "\n",
    "    vanilla_documents[i].text+=text\n",
    "    doc=Document(text=vanilla_documents[i].text, metadata=metadata)# put them to complete versus\n",
    "    documents.append(doc)\n",
    "\n",
    "    vanilla_documents[i+1].text=templist[0]+'\\n'+'{'+'{'.join(templistnext)\n",
    "    if not doc.text:\n",
    "        print(i)\n",
    "\n",
    "procebook_name=re.sub(pattern, '', pretemplist[0]).strip()\n",
    "if len(re.findall(r'\\d+',pretemplist[0])):\n",
    "    pagenumber=int(re.findall(r'\\d+',pretemplist[0])[0])\n",
    "    metadata={'book': pagenumber, 'page': pagenumber}\n",
    "    doc=Document(text=vanilla_documents[i].get_content(), metadata=metadata)\n",
    "    documents.append(doc)"
   ]
  },
  {
   "cell_type": "code",
   "execution_count": 301,
   "metadata": {},
   "outputs": [
    {
     "data": {
      "text/plain": [
       "({'book': 720, 'page': 720}, 685)"
      ]
     },
     "execution_count": 301,
     "metadata": {},
     "output_type": "execute_result"
    }
   ],
   "source": [
    "metadata, len(documents)"
   ]
  },
  {
   "cell_type": "code",
   "execution_count": 257,
   "metadata": {},
   "outputs": [
    {
     "data": {
      "text/plain": [
       "'{19:10} And I fell at his feet to worship him. And he said\\nunto me, See [thou do it] not: I am thy f'"
      ]
     },
     "execution_count": 257,
     "metadata": {},
     "output_type": "execute_result"
    }
   ],
   "source": [
    "documents[720].text[:100]"
   ]
  },
  {
   "cell_type": "code",
   "execution_count": 259,
   "metadata": {},
   "outputs": [
    {
     "data": {
      "text/plain": [
       "{'book': 'Genesis'}"
      ]
     },
     "execution_count": 259,
     "metadata": {},
     "output_type": "execute_result"
    }
   ],
   "source": [
    "documents[22].metadata"
   ]
  },
  {
   "cell_type": "code",
   "execution_count": 260,
   "metadata": {},
   "outputs": [
    {
     "data": {
      "text/plain": [
       "\"{7:4} For yet seven days, and I will cause it to rain upon the\\nearth forty days and forty nights; and every living substance\\nthat I have made will I destroy from off the face of the\\nearth. {7:5} And Noah did according unto all that the\\nLORD commanded him. {7:6} And Noah [was] six hundred\\nyears old when the flood of waters was upon the earth.\\n{7:7} And Noah went in, and his sons, and his wife, and\\nhis sons' wives with him, into the ark, because of the waters\\nof the flood. {7:8} Of clean beasts, and of beasts that [are]\\nnot clean, and of fowls, and of every thing that creepeth\\nupon the earth, {7:9} There went in two and two unto Noah\\ninto the ark, the male and the female, as God had\\ncommanded Noah. {7:10} And it came to pass after seven\\ndays, that the waters of the flood were upon the earth.\\n{7:11} In the six hundredth year of Noah's life, in the\\nsecond month, the seventeenth day of the month, the same\\nday were all the fountains of the great deep broken up, and\\nthe windows of heaven were opened. {7:12} And the rain\\nwas upon the earth forty days and forty nights. {7:13} In the\\nselfsame day entered Noah, and Shem, and Ham, and\\nJapheth, the sons of Noah, and Noah's wife, and the three\\nwives of his sons with them, into the ark; {7:14} They, and\\nevery beast after his kind, and all the cattle after their kind,\\nand every creeping thing that creepeth upon the earth after\\nhis kind, and every fowl after his kind, every bird of every\\nsort. {7:15} And they went in unto Noah into the ark, two\\nand two of all flesh, wherein [is] the breath of life. {7:16}\\nAnd they that went in, went in male and female of all flesh,\\nas God had commanded him: and the LORD shut him in.\\n{7:17} And the flood was forty days upon the earth; and the\\nwaters increased, and bare up the ark, and it was lift up\\nabove the earth. {7:18} And the waters prevailed, and were\\nincreased greatly upon the earth; and the ark went upon the\\nface of the waters. {7:19} And the waters prevailed\\nexceedingly upon the earth; and all the high hills, that\\n[were] under the whole heaven, were covered. {7:20}\\nFifteen cubits upward did the waters prevail; and the\\nmountains were covered. {7:21} And all flesh died that\\nmoved upon the earth, both of fowl, and of cattle, and of\\nbeast, and of every creeping thing that creepeth upon the\\nearth, and every man: {7:22} All in whose nostrils [was] the\\nbreath of life, of all that [was] in the dry [land,] died. {7:23}\\nAnd every living substance was destroyed which was upon\\nthe face of the ground, both man, and cattle, and the\\ncreeping things, and the fowl of the heaven; and they were\\ndestroyed from the earth: and Noah only remained [alive,]\\nand they that [were] with him in the ark. {7:24} And the\\nwaters prevailed upon the earth an hundred and fifty days.\\n{8:1} And God remembered Noah, and every living thing,\\nand all the cattle that [was] with him in the ark: and God\\nmade a wind to pass over the earth, and the waters\\nasswaged; {8:2} The fountains also of the deep and the\\nwindows of heaven were stopped, and the rain from heaven\\nwas restrained; {8:3} And the waters returned from off the\\nearth continually: and after the end of the hundred and fifty\\ndays the waters were abated. {8:4} And the ark rested in the\\nseventh month, on the seventeenth day of the month, upon\\nthe mountains of Ararat. {8:5} And the waters decreased\\ncontinually until the tenth month: in the tenth [month,] on\\nthe first [day] of the month, were the tops of the mountains\\nseen.\\n{8:6} And it came to pass at the end of forty days, that\\nNoah opened the window of the ark which he had made:\\n{8:7} And he sent forth a raven, which went forth to and\\nfro, until the waters were dried up from off the earth. {8:8}Also he sent forth a dove from him, to see if the waters were\\nabated from off the face of the ground; {8:9} But the dove\\nfound no rest for the sole of her foot, and she returned unto\\nhim into the ark, for the waters [were] on the face of the\\nwhole earth: then he put forth his hand, and took her, and\\npulled her in unto him into the ark. {8:10} And he stayed\\nyet other seven days; and again he sent forth the dove out of\\nthe ark; {8:11} And the dove came in to him in the evening;\\nand, lo, in her mouth [was] an olive leaf pluckt off: so Noah\\nknew that the waters were abated from off the earth. {8:12}\\nAnd he stayed yet other seven days; and sent forth the dove;\\nwhich returned not again unto him any more.\\n{8:13} And it came to pass in the six hundredth and first\\nyear, in the first [month,] the first [day] of the month, the\\nwaters were dried up from off the earth: and Noah removed\\nthe covering of the ark, and looked, and, behold, the face of\\nthe ground was dry. {8:14} And in the second month, on the\\nseven and twentieth day of the month, was the earth dried.\\n{8:15} And God spake unto Noah, saying, {8:16} Go\\nforth of the ark, thou, and thy wife, and thy sons, and thy\\nsons' wives with thee. {8:17} Bring forth with thee every\\nliving thing that [is] with thee, of all flesh, [both] of fowl,\\nand of cattle, and of every creeping thing that creepeth upon\\nthe earth; that they may breed abundantly in the earth, and\\nbe fruitful, and multiply upon the earth. {8:18} And Noah\\nwent forth, and his sons, and his wife, and his sons' wives\\nwith him: {8:19} Every beast, every creeping thing, and\\nevery fowl, [and] whatsoever creepeth upon the earth, after\\ntheir kinds, went forth out of the ark.\\n{8:20} And Noah builded an altar unto the LORD; and\\ntook of every clean beast, and of every clean fowl, and\\noffered burnt offerings on the altar. {8:21} And the LORD\\nsmelled a sweet savour; and the LORD said in his heart, I\\nwill not again curse the ground any more for man's sake;\\nfor the imagination of man's heart [is] evil from his youth;\\nneither will I again smite any more every thing living, as I\\nhave done. {8:22} While the earth remaineth, seedtime and\\nharvest, and cold and heat, and summer and winter, and day\\nand night shall not cease.\\n{9:1} And God blessed Noah and his sons, and said unto\\nthem, Be fruitful, and multiply, and replenish the earth.\\n{9:2} And the fear of you and the dread of you shall be\\nupon every beast of the earth, and upon every fowl of the\\nair, upon all that moveth [upon] the earth, and upon all the\\nfishes of the sea; into your hand are they delivered. {9:3}\\nEvery moving thing that liveth shall be meat for you; even\\nas the green herb have I given you all things. {9:4} But\\nflesh with the life thereof, [which is] the blood thereof, shall\\nye not eat. {9:5} And surely your blood of your lives will I\\nrequire; at the hand of every beast will I require it, and at\\nthe hand of man; at the hand of every man's brother will I\\nrequire the life of man. {9:6} Whoso sheddeth man's blood,\\nby man shall his blood be shed: for in the image of God\\nmade he man. {9:7} And you, be ye fruitful, and multiply;\\nbring forth abundantly in the earth, and multiply therein.\\n{9:8} And God spake unto Noah, and to his sons with\\nhim, saying, {9:9} And I, behold, I establish my covenant\\nwith you, and with your seed after you; {9:10} And with\\nevery living creature that [is] with you, of the fowl, of the\\ncattle, and of every beast of the earth with you; from all that\\ngo out of the ark, to every beast of the earth. {9:11} And I\\nwill establish my covenant with you; neither shall all flesh\\nbe cut off any more by the waters of a flood; neither shall\\nthere any more be a flood to destroy the earth. {9:12} And\\nGod said, This [is] the token of the covenant which I make\\nbetween me and you and every living creature that [is] with\\nyou, for perpetual generations: \""
      ]
     },
     "execution_count": 260,
     "metadata": {},
     "output_type": "execute_result"
    }
   ],
   "source": [
    "vanilla_documents[24].text"
   ]
  },
  {
   "cell_type": "code",
   "execution_count": 261,
   "metadata": {},
   "outputs": [
    {
     "data": {
      "text/plain": [
       "\"{19:10} And I fell at his feet to worship him. And he said\\nunto me, See [thou do it] not: I am thy fellowservant, and of\\nthy brethren that have the testimony of Jesus: worship God:\\nfor the testimony of Jesus is the spirit of prophecy. {19:11}\\nAnd I saw heaven opened, and behold a white horse; and he\\nthat sat upon him [was] called Faithful and True, and in\\nrighteousness he doth judge and make war. {19:12} His\\neyes [were] as a flame of fire, and on his head [were] many\\ncrowns; and he had a name written, that no man knew, but\\nhe himself. {19:13} And he [was] clothed with a vesture\\ndipped in blood: and his name is called The Word of God.\\n{19:14} And the armies [which were] in heaven followed\\nhim upon white horses, clothed in fine linen, white and\\nclean. {19:15} And out of his mouth goeth a sharp sword,\\nthat with it he should smite the nations: and he shall rule\\nthem with a rod of iron: and he treadeth the winepress of the\\nfierceness and wrath of Almighty God. {19:16} And he\\nhath on [his] vesture and on his thigh a name written, KING\\nOF KINGS, AND LORD OF LORDS.\\n{19:17} And I saw an angel standing in the sun; and he\\ncried with a loud voice, saying to all the fowls that fly in the\\nmidst of heaven, Come and gather yourselves together unto\\nthe supper of the great God; {19:18} That ye may eat the\\nflesh of kings, and the flesh of captains, and the flesh of\\nmighty men, and the flesh of horses, and of them that sit on\\nthem, and the flesh of all [men, both] free and bond, both\\nsmall and great. {19:19} And I saw the beast, and the kings\\nof the earth, and their armies, gathered together to make war\\nagainst him that sat on the horse, and against his army.\\n{19:20} And the beast was taken, and with him the false\\nprophet that wrought miracles before him, with which he\\ndeceived them that had received the mark of the beast, and\\nthem that worshipped his image. These both were cast alive\\ninto a lake of fire burning with brimstone. {19:21} And the\\nremnant were slain with the sword of him that sat upon the\\nhorse, which [sword] proceeded out of his mouth: and all\\nthe fowls were filled with their flesh.\\n{20:1} And I saw an angel come down from heaven,\\nhaving the key of the bottomless pit and a great chain in his\\nhand. {20:2} And he laid hold on the dragon, that old\\nserpent, which is the Devil, and Satan, and bound him a\\nthousand years, {20:3} And cast him into the bottomless pit,\\nand shut him up, and set a seal upon him, that he should\\ndeceive the nations no more, till the thousand years should\\nbe fulfilled: and after that he must be loosed a little season.\\n{20:4} And I saw thrones, and they sat upon them, and\\njudgment was given unto them: and [I saw] the souls of\\nthem that were beheaded for the witness of Jesus, and for\\nthe word of God, and which had not worshipped the beast,\\nneither his image, neither had received [his] mark upon their\\nforeheads, or in their hands; and they lived and reigned with\\nChrist a thousand years. {20:5} But the rest of the dead\\nlived not again until the thousand years were finished. This\\n[is] the first resurrection. {20:6} Blessed and holy [is] he\\nthat hath part in the first resurrection: on such the second\\ndeath hath no power, but they shall be priests of God and of\\nChrist, and shall reign with him a thousand years. {20:7}\\nAnd when the thousand years are expired, Satan shall be\\nloosed out of his prison, {20:8} And shall go out to deceive\\nthe nations which are in the four quarters of the earth, Gog\\nand Magog, to gather them together to battle: the number of\\nwhom [is] as the sand of the sea. {20:9} And they went up\\non the breadth of the earth, and compassed the camp of the\\nsaints about, and the beloved city: and fire came down from\\nGod out of heaven, and devoured them. {20:10} And the\\ndevil that deceived them was cast into the lake of fire and\\nbrimstone, where the beast and the false prophet [are,] andshall be tormented day and night for ever and ever.\\n{20:11} And I saw a great white throne, and him that sat\\non it, from whose face the earth and the heaven fled away;\\nand there was found no place for them. {20:12} And I saw\\nthe dead, small and great, stand before God; and the books\\nwere opened: and another book was opened, which is [the\\nbook] of life: and the dead were judged out of those things\\nwhich were written in the books, according to their works.\\n{20:13} And the sea gave up the dead which were in it; and\\ndeath and hell delivered up the dead which were in them:\\nand they were judged every man according to their works.\\n{20:14} And death and hell were cast into the lake of fire.\\nThis is the second death. {20:15} And whosoever was not\\nfound written in the book of life was cast into the lake of\\nfire.\\n{21:1} And I saw a new heaven and a new earth: for the\\nfirst heaven and the first earth were passed away; and there\\nwas no more sea. {21:2} And I John saw the holy city, new\\nJerusalem, coming down from God out of heaven, prepared\\nas a bride adorned for her husband. {21:3} And I heard a\\ngreat voice out of heaven saying, Behold, the tabernacle of\\nGod [is] with men, and he will dwell with them, and they\\nshall be his people, and God himself shall be with them,\\n[and be] their God. {21:4} And God shall wipe away all\\ntears from their eyes; and there shall be no more death,\\nneither sorrow, nor crying, neither shall there be any more\\npain: for the former things are passed away. {21:5} And he\\nthat sat upon the throne said, Behold, I make all things new.\\nAnd he said unto me, Write: for these words are true and\\nfaithful. {21:6} And he said unto me, It is done. I am Alpha\\nand Omega, the beginning and the end. I will give unto him\\nthat is athirst of the fountain of the water of life freely.\\n{21:7} He that overcometh shall inherit all things; and I will\\nbe his God, and he shall be my son. {21:8} But the fearful,\\nand unbelieving, and the abominable, and murderers, and\\nwhoremongers, and sorcerers, and idolaters, and all liars,\\nshall have their part in the lake which burneth with fire and\\nbrimstone: which is the second death.\\n{21:9} And there came unto me one of the seven angels\\nwhich had the seven vials full of the seven last plagues, and\\ntalked with me, saying, Come hither, I will shew thee the\\nbride, the Lamb's wife. {21:10} And he carried me away in\\nthe spirit to a great and high mountain, and shewed me that\\ngreat city, the holy Jerusalem, descending out of heaven\\nfrom God, {21:11} Having the glory of God: and her light\\n[was] like unto a stone most precious, even like a jasper\\nstone, clear as crystal; {21:12} And had a wall great and\\nhigh, [and] had twelve gates, and at the gates twelve angels,\\nand names written thereon, which are [the names] of the\\ntwelve tribes of the children of Israel: {21:13} On the east\\nthree gates; on the north three gates; on the south three\\ngates; and on the west three gates. {21:14} And the wall of\\nthe city had twelve foundations, and in them the names of\\nthe twelve apostles of the Lamb. {21:15} And he that talked\\nwith me had a golden reed to measure the city, and the gates\\nthereof, and the wall thereof. {21:16} And the city lieth\\nfoursquare, and the length is as large as the breadth: and he\\nmeasured the city with the reed, twelve thousand furlongs.\\nThe length and the breadth and the height of it are equal.\\n{21:17} And he measured the wall thereof, an hundred\\n[and] forty [and] four cubits, [according to] the measure of a\\nman, that is, of the angel. {21:18} And the building of the\\nwall of it was [of] jasper: and the city [was] pure gold, like\\nunto clear glass. {21:19} And the foundations of the wall of\\nthe city [were] garnished with all manner of precious stones.\\nThe first foundation [was] jasper; the second, sapphire; the\\nthird, a chalcedony; the fourth, an emerald; \""
      ]
     },
     "execution_count": 261,
     "metadata": {},
     "output_type": "execute_result"
    }
   ],
   "source": [
    "documents[719].text"
   ]
  },
  {
   "cell_type": "code",
   "execution_count": 262,
   "metadata": {},
   "outputs": [
    {
     "data": {
      "text/plain": [
       "'{16:13}\\nAnd she called the name of the LORD that spake unto her,\\nThou God seest me: for she said, Ha'"
      ]
     },
     "execution_count": 262,
     "metadata": {},
     "output_type": "execute_result"
    }
   ],
   "source": [
    "documents[7].text[:100]"
   ]
  },
  {
   "cell_type": "code",
   "execution_count": 263,
   "metadata": {},
   "outputs": [
    {
     "data": {
      "text/plain": [
       "['file_name',\n",
       " 'file_type',\n",
       " 'file_size',\n",
       " 'creation_date',\n",
       " 'last_modified_date',\n",
       " 'last_accessed_date']"
      ]
     },
     "execution_count": 263,
     "metadata": {},
     "output_type": "execute_result"
    }
   ],
   "source": [
    "vanilla_documents[25].excluded_embed_metadata_keys\n"
   ]
  },
  {
   "cell_type": "code",
   "execution_count": 264,
   "metadata": {},
   "outputs": [],
   "source": [
    "! pip install -qU llama-index-llms-anthropic"
   ]
  },
  {
   "cell_type": "code",
   "execution_count": 265,
   "metadata": {},
   "outputs": [],
   "source": [
    "import os\n",
    "import getpass\n",
    "# OPTIONAL ADVANCED PATH\n",
    "os.environ[\"ANTHROPIC_API_KEY\"] = getpass.getpass(\"Anthropic API Key: \")"
   ]
  },
  {
   "cell_type": "code",
   "execution_count": 266,
   "metadata": {},
   "outputs": [],
   "source": [
    "os.environ[\"OPENAI_API_KEY\"] = getpass.getpass(\"OpenAI API Key: \")"
   ]
  },
  {
   "cell_type": "code",
   "execution_count": 267,
   "metadata": {},
   "outputs": [],
   "source": [
    "# OPTIONAL ADVANCED PATH\n",
    "from llama_index.llms.anthropic import Anthropic\n",
    "from llama_index.core import Settings\n",
    "\n",
    "Settings.llm = Anthropic(model=\"claude-3-5-sonnet-20240620\")"
   ]
  },
  {
   "cell_type": "code",
   "execution_count": 268,
   "metadata": {},
   "outputs": [],
   "source": [
    "from llama_index.llms.openai import OpenAI\n",
    "from llama_index.core import Settings\n",
    "from llama_index.embeddings.openai import OpenAIEmbedding\n",
    "\n",
    "Settings.embedding = OpenAIEmbedding(model=\"text-embedding-3-small\")"
   ]
  },
  {
   "cell_type": "code",
   "execution_count": 269,
   "metadata": {},
   "outputs": [
    {
     "data": {
      "text/plain": [
       "{'page_label': '26',\n",
       " 'file_name': 'The-Holy-Bible-King-James-Version.pdf',\n",
       " 'file_path': '/home/sahane/AIE3/Week 5/Day 2/data/The-Holy-Bible-King-James-Version.pdf',\n",
       " 'file_type': 'application/pdf',\n",
       " 'file_size': 10235187,\n",
       " 'creation_date': '2024-07-06',\n",
       " 'last_modified_date': '2024-07-06'}"
      ]
     },
     "execution_count": 269,
     "metadata": {},
     "output_type": "execute_result"
    }
   ],
   "source": [
    "vanilla_documents[25].metadata"
   ]
  },
  {
   "cell_type": "code",
   "execution_count": 270,
   "metadata": {},
   "outputs": [
    {
     "data": {
      "text/plain": [
       "({'book': 'Genesis'},\n",
       " \"{9:13} I do set my bow in\\nthe cloud, and it shall be for a token of a covenant between\\nme and the earth. {9:14} And it shall come to pass, when I\\nbring a cloud over the earth, that the bow shall be seen in\\nthe cloud: {9:15} And I will remember my covenant, which\\n[is] between me and you and every living creature of all\\nflesh; and the waters shall no more become a flood to\\ndestroy all flesh. {9:16} And the bow shall be in the cloud;\\nand I will look upon it, that I may remember the everlasting\\ncovenant between God and every living creature of all flesh\\nthat [is] upon the earth. {9:17} And God said unto Noah,\\nThis [is] the token of the covenant, which I have established\\nbetween me and all flesh that [is] upon the earth.\\n{9:18} And the sons of Noah, that went forth of the ark,\\nwere Shem, and Ham, and Japheth: and Ham is the father of\\nCanaan. {9:19} These [are] the three sons of Noah: and of\\nthem was the whole earth overspread. {9:20} And Noah\\nbegan [to be] an husbandman, and he planted a vineyard:\\n{9:21} And he drank of the wine, and was drunken; and he\\nwas uncovered within his tent. {9:22} And Ham, the father\\nof Canaan, saw the nakedness of his father, and told his two\\nbrethren without. {9:23} And Shem and Japheth took a\\ngarment, and laid [it] upon both their shoulders, and went\\nbackward, and covered the nakedness of their father; and\\ntheir faces [were] backward, and they saw not their father's\\nnakedness. {9:24} And Noah awoke from his wine, and\\nknew what his younger son had done unto him. {9:25} And\\nhe said, Cursed [be] Canaan; a servant of servants shall he\\nbe unto his brethren. {9:26} And he said, Blessed [be] the\\nLORD God of Shem; and Canaan shall be his servant.\\n{9:27} God shall enlarge Japheth, and he shall dwell in the\\ntents of Shem; and Canaan shall be his servant.\\n{9:28} And Noah lived after the flood three hundred and\\nfifty years. {9:29} And all the days of Noah were nine\\nhundred and fifty years: and he died.\\n{10:1} Now these [are] the generations of the sons of\\nNoah, Shem, Ham, and Japheth: and unto them were sons\\nborn after the flood. {10:2} The sons of Japheth; Gomer,\\nand Magog, and Madai, and Javan, and Tubal, and\\nMeshech, and Tiras. {10:3} And the sons of Gomer;\\nAshkenaz, and Riphath, and Togarmah. {10:4} And the\\nsons of Javan; Elishah, and Tarshish, Kittim, and Dodanim.\\n{10:5} By these were the isles of the Gentiles divided in\\ntheir lands; every one after his tongue, after their families,\\nin their nations.\\n{10:6} And the sons of Ham; Cush, and Mizraim, and\\nPhut, and Canaan. {10:7} And the sons of Cush; Seba, and\\nHavilah, and Sabtah, and Raamah, and Sabtechah: and the\\nsons of Raamah; Sheba, and Dedan. {10:8} And Cush begat\\nNimrod: he began to be a mighty one in the earth. {10:9}\\nHe was a mighty hunter before the LORD: wherefore it is\\nsaid, Even as Nimrod the mighty hunter before the LORD.\\n{10:10} And the beginning of his kingdom was Babel, and\\nErech, and Accad, and Calneh, in the land of Shinar.\\n{10:11} Out of that land went forth Asshur, and builded\\nNineveh, and the city Rehoboth, and Calah, {10:12} And\\nResen between Nineveh and Calah: the same [is] a great\\ncity. {10:13} And Mizraim begat Ludim, and Anamim, and\\nLehabim, and Naphtuhim, {10:14} And Pathrusim, and\\nCasluhim, (out of whom came Philistim,) and Caphtorim.\\n{10:15} And Canaan begat Sidon his firstborn, and Heth,\\n{10:16} And the Jebusite, and the Amorite, and theGirgasite, {10:17} And the Hivite, and the Arkite, and the\\nSinite, {10:18} And the Arvadite, and the Zemarite, and the\\nHamathite: and afterward were the families of the\\nCanaanites spread abroad. {10:19} And the border of the\\nCanaanites was from Sidon, as thou comest to Gerar, unto\\nGaza; as thou goest, unto Sodom, and Gomorrah, and\\nAdmah, and Zeboim, even unto Lasha. {10:20} These [are]\\nthe sons of Ham, after their families, after their tongues, in\\ntheir countries, [and] in their nations.\\n{10:21} Unto Shem also, the father of all the children of\\nEber, the brother of Japheth the elder, even to him were\\n[children] born. {10:22} The children of Shem; Elam, and\\nAsshur, and Arphaxad, and Lud, and Aram. {10:23} And\\nthe children of Aram; Uz, and Hul, and Gether, and Mash.\\n{10:24} And Arphaxad begat Salah; and Salah begat Eber.\\n{10:25} And unto Eber were born two sons: the name of\\none [was] Peleg; for in his days was the earth divided; and\\nhis brother's name [was] Joktan. {10:26} And Joktan begat\\nAlmodad, and Sheleph, and Hazar-maveth, and Jerah,\\n{10:27} And Hadoram, and Uzal, and Diklah, {10:28} And\\nObal, and Abimael, and Sheba, {10:29} And Ophir, and\\nHavilah, and Jobab: all these [were] the sons of Joktan.\\n{10:30} And their dwelling was from Mesha, as thou goest\\nunto Sephar a mount of the east. {10:31} These [are] the\\nsons of Shem, after their families, after their tongues, in\\ntheir lands, after their nations. {10:32} These [are] the\\nfamilies of the sons of Noah, after their generations, in their\\nnations: and by these were the nations divided in the earth\\nafter the flood.\\n{11:1} And the whole earth was of one language, and of\\none speech. {11:2} And it came to pass, as they journeyed\\nfrom the east, that they found a plain in the land of Shinar;\\nand they dwelt there. {11:3} And they said one to another,\\nGo to, let us make brick, and burn them throughly. And they\\nhad brick for stone, and slime had they for morter. {11:4}\\nAnd they said, Go to, let us build us a city and a tower,\\nwhose top [may reach] unto heaven; and let us make us a\\nname, lest we be scattered abroad upon the face of the\\nwhole earth. {11:5} And the LORD came down to see the\\ncity and the tower, which the children of men builded.\\n{11:6} And the LORD said, Behold, the people [is] one,\\nand they have all one language; and this they begin to do:\\nand now nothing will be restrained from them, which they\\nhave imagined to do. {11:7} Go to, let us go down, and\\nthere confound their language, that they may not understand\\none another's speech. {11:8} So the LORD scattered them\\nabroad from thence upon the face of all the earth: and they\\nleft off to build the city. {11:9} Therefore is the name of it\\ncalled Babel; because the LORD did there confound the\\nlanguage of all the earth: and from thence did the LORD\\nscatter them abroad upon the face of all the earth.\\n{11:10} These [are] the generations of Shem: Shem [was]\\nan hundred years old, and begat Arphaxad two years after\\nthe flood: {11:11} And Shem lived after he begat Arphaxad\\nfive hundred years, and begat sons and daughters. {11:12}\\nAnd Arphaxad lived five and thirty years, and begat Salah:\\n{11:13} And Arphaxad lived after he begat Salah four\\nhundred and three years, and begat sons and daughters.\\n{11:14} And Salah lived thirty years, and begat Eber:\\n{11:15} And Salah lived after he begat Eber four hundred\\nand three years, and begat sons and daughters. {11:16} And\\nEber lived four and thirty years, and begat Peleg: {11:17}\\nAnd Eber lived after he begat Peleg four hundred and thirty\\nyears, and begat sons and daughters. {11:18} And Peleg\\nlived thirty years, and begat Reu: {11:19} And Peleg lived\\nafter he begat Reu two hundred and nine years, and begat\\nsons and daughters. \")"
      ]
     },
     "execution_count": 270,
     "metadata": {},
     "output_type": "execute_result"
    }
   ],
   "source": [
    "documents[4].metadata, documents[4].text"
   ]
  },
  {
   "cell_type": "code",
   "execution_count": 271,
   "metadata": {},
   "outputs": [
    {
     "data": {
      "text/plain": [
       "'91be2405-a70c-420d-87c8-f92ad72f0140'"
      ]
     },
     "execution_count": 271,
     "metadata": {},
     "output_type": "execute_result"
    }
   ],
   "source": [
    "vanilla_documents[25].id_"
   ]
  },
  {
   "cell_type": "code",
   "execution_count": 398,
   "metadata": {},
   "outputs": [
    {
     "ename": "AttributeError",
     "evalue": "'Document' object has no attribute 'page_content'",
     "output_type": "error",
     "traceback": [
      "\u001b[0;31m---------------------------------------------------------------------------\u001b[0m",
      "\u001b[0;31mAttributeError\u001b[0m                            Traceback (most recent call last)",
      "Cell \u001b[0;32mIn[398], line 6\u001b[0m\n\u001b[1;32m      1\u001b[0m \u001b[38;5;28;01mfrom\u001b[39;00m \u001b[38;5;21;01mlangchain\u001b[39;00m\u001b[38;5;21;01m.\u001b[39;00m\u001b[38;5;21;01mtext_splitter\u001b[39;00m \u001b[38;5;28;01mimport\u001b[39;00m RecursiveCharacterTextSplitter\n\u001b[1;32m      3\u001b[0m split_documents \u001b[38;5;241m=\u001b[39m \u001b[43mRecursiveCharacterTextSplitter\u001b[49m\u001b[38;5;241;43m.\u001b[39;49m\u001b[43mfrom_tiktoken_encoder\u001b[49m\u001b[43m(\u001b[49m\n\u001b[1;32m      4\u001b[0m \u001b[43m    \u001b[49m\u001b[43mchunk_size\u001b[49m\u001b[43m \u001b[49m\u001b[38;5;241;43m=\u001b[39;49m\u001b[43m \u001b[49m\u001b[38;5;241;43m500\u001b[39;49m\u001b[43m,\u001b[49m\n\u001b[1;32m      5\u001b[0m \u001b[43m    \u001b[49m\u001b[43mchunk_overlap\u001b[49m\u001b[43m \u001b[49m\u001b[38;5;241;43m=\u001b[39;49m\u001b[43m \u001b[49m\u001b[38;5;241;43m20\u001b[39;49m\n\u001b[0;32m----> 6\u001b[0m \u001b[43m)\u001b[49m\u001b[38;5;241;43m.\u001b[39;49m\u001b[43msplit_documents\u001b[49m\u001b[43m(\u001b[49m\u001b[43mdocuments\u001b[49m\u001b[43m)\u001b[49m\n",
      "File \u001b[0;32m~/anaconda3/envs/ai3/lib/python3.10/site-packages/langchain_text_splitters/base.py:94\u001b[0m, in \u001b[0;36mTextSplitter.split_documents\u001b[0;34m(self, documents)\u001b[0m\n\u001b[1;32m     92\u001b[0m texts, metadatas \u001b[38;5;241m=\u001b[39m [], []\n\u001b[1;32m     93\u001b[0m \u001b[38;5;28;01mfor\u001b[39;00m doc \u001b[38;5;129;01min\u001b[39;00m documents:\n\u001b[0;32m---> 94\u001b[0m     texts\u001b[38;5;241m.\u001b[39mappend(\u001b[43mdoc\u001b[49m\u001b[38;5;241;43m.\u001b[39;49m\u001b[43mpage_content\u001b[49m)\n\u001b[1;32m     95\u001b[0m     metadatas\u001b[38;5;241m.\u001b[39mappend(doc\u001b[38;5;241m.\u001b[39mmetadata)\n\u001b[1;32m     96\u001b[0m \u001b[38;5;28;01mreturn\u001b[39;00m \u001b[38;5;28mself\u001b[39m\u001b[38;5;241m.\u001b[39mcreate_documents(texts, metadatas\u001b[38;5;241m=\u001b[39mmetadatas)\n",
      "\u001b[0;31mAttributeError\u001b[0m: 'Document' object has no attribute 'page_content'"
     ]
    }
   ],
   "source": [
    "from langchain.docstore.document import Document\n",
    "\n",
    "doc = Document(page_content=\"text\", metadata={\"source\": \"local\"})\n",
    "\n",
    "\n",
    "\n",
    "from langchain.text_splitter import RecursiveCharacterTextSplitter\n",
    "\n",
    "split_documents = RecursiveCharacterTextSplitter.from_tiktoken_encoder(\n",
    "    chunk_size = 500,\n",
    "    chunk_overlap = 20\n",
    ").split_documents(documents)"
   ]
  },
  {
   "cell_type": "code",
   "execution_count": null,
   "metadata": {},
   "outputs": [],
   "source": []
  },
  {
   "cell_type": "code",
   "execution_count": null,
   "metadata": {},
   "outputs": [],
   "source": []
  },
  {
   "cell_type": "code",
   "execution_count": null,
   "metadata": {},
   "outputs": [],
   "source": []
  },
  {
   "cell_type": "code",
   "execution_count": 396,
   "metadata": {},
   "outputs": [],
   "source": [
    "from llama_index.readers.wikipedia import WikipediaReader\n",
    "\n",
    "\n",
    "music_list=['Matthew West', 'Lauren Daigle', 'CeCe Winans']\n",
    "\n",
    "wiki_docs = WikipediaReader().load_data(pages=music_list, auto_suggest=False)"
   ]
  },
  {
   "cell_type": "markdown",
   "metadata": {},
   "source": [
    "Initialize Qdrant vectore store"
   ]
  },
  {
   "cell_type": "code",
   "execution_count": 391,
   "metadata": {},
   "outputs": [
    {
     "data": {
      "text/plain": [
       "True"
      ]
     },
     "execution_count": 391,
     "metadata": {},
     "output_type": "execute_result"
    }
   ],
   "source": [
    "from llama_index.vector_stores.qdrant import QdrantVectorStore\n",
    "from qdrant_client import QdrantClient, models\n",
    "\n",
    "client = QdrantClient(location=\":memory:\")\n",
    "\n",
    "client.create_collection(\n",
    "    collection_name=\"music_wikis\",\n",
    "    vectors_config=models.VectorParams(size=1536, distance=models.Distance.COSINE)\n",
    ")"
   ]
  },
  {
   "cell_type": "code",
   "execution_count": 394,
   "metadata": {},
   "outputs": [],
   "source": [
    "from llama_index.core import VectorStoreIndex\n",
    "from llama_index.core import StorageContext\n",
    "\n",
    "vector_store = QdrantVectorStore(client=client, collection_name=\"music_wikis\")\n",
    "\n",
    "storage_context = StorageContext.from_defaults(vector_store=vector_store)\n",
    "\n",
    "index = VectorStoreIndex.from_documents(\n",
    "    [],\n",
    "    storage_context=storage_context,\n",
    ")"
   ]
  },
  {
   "cell_type": "code",
   "execution_count": 395,
   "metadata": {},
   "outputs": [
    {
     "data": {
      "text/plain": [
       "Document(id_='7198855', embedding=None, metadata={}, excluded_embed_metadata_keys=[], excluded_llm_metadata_keys=[], relationships={}, text='Matthew Joseph West (born April 25, 1977) is an American contemporary Christian musician and singer-songwriter. He has released five studio albums and is known for his songs \"More\", \"You Are Everything\", and \"The Motions\". He was nominated for five Dove Awards in 2005, two of which were for his major-label debut album, Happy. West won the 2013 American Music Award for Best Contemporary Inspirational Artist.\\nStarting as an independent musician in the late 1990s, he released three independent albums before signing with Universal South Records. With the release of his Dove Award-winning debut album, Happy, released in 2003, his first radio single, \"More\", stayed at No. 1 on Christian Adult Contemporary charts for nine weeks and received two Dove Award nominations. His second album, History, was followed by a 2006 re-release of the originally independent album Sellout. In 2007, his career was threatened by vocal issues that required vocal-cord surgery followed by two months of prescribed vocal rest. His third studio album, Something to Say, also enjoyed chart success with No. 1 hits \"You Are Everything\" and \"The Motions\".\\nIn addition to his main solo career, West has worked as a songwriter for many Christian musicians and groups, such as Point of Grace, Mandisa, Natalie Grant, and Casting Crowns, as well as mainstream country acts Rascal Flatts, Billy Ray Cyrus, and Vince Gill. In 2013, his second single, \"Hello, My Name Is\", from the album Into the Light, was released and reached No. 1 for a career-best 17 consecutive weeks on the Billboard Christian Songs chart.\\n\\n\\n== Early life ==\\nMatthew West was born on April 25, 1977, in Downers Grove, Illinois. As a child he was a fan of his hometown baseball team, the Chicago Cubs, and wanted to eventually have a career in baseball. He played baseball throughout high school at Downers Grove North High School, becoming team captain as a senior; he also performed in the school\\'s Chamber Choir. He was hoping for a college baseball scholarship but instead ended up receiving a four-year music scholarship at Millikin University in Decatur, Illinois where he was a part of the InterVarsity Christian Fellowship chapter. He graduated from Millikin in 1999.\\n\\n\\n== Musical career ==\\nWest wrote most of his first songs in the sanctuary of his father\\'s church while he was at home during college breaks. According to a statement by West at the 2013 Winter Jam (March 23, 2013), at a 1997 Steven Curtis Chapman at the Assembly Hall in Champaign-Urbana, West was crying profusely, prompting his friends to ask him what was wrong.  He said that he was being led by Jesus to pursue a career in singing and\\nsongwriting.\\nHe was a songwriter and independent musician from 1997 to 2002, releasing three albums: September Sun (1997), Every Step of the Way (1998), and Sellout (2002). In October 1997, he went on a three-city tour to support the release of September Sun.\\nJust before West graduated from Millikin University in 1999, someone from the college recommended that he attend the GMA Music in the Rockies event for aspiring musicians. Although West was not interested at first, he attended after learning that other people signed him up and paid his entrance fee. He met a representative from Word Publishing at the event who took interest in him and kept in contact until he graduated. West landed in the finals of a songwriting competition and was offered a songwriting deal in July 1999, five weeks after graduating. After penning songs for well-known musicians like Billy Ray Cyrus and Rachael Lampa, he began touring the United States as an independent artist in 2000 and 2001.\\n\\nOn July 26, 2002, only a week or two before signing a record contract with Universal South Records, West had an injury to his left arm which jeopardized his musical career and guitar playing. He says, \"I locked myself out of my house. But I\\'d done that before, and I had a way of breaking in through a window. But this time, I had a really hard time getting the window open. I started pushing up on the window really hard and my hand broke through the glass. Blood starting spewing out of my left arm everywhere and I ran down my street screaming for help. After seeing so much blood, I went into shock and just blacked out in the middle of the street. The next thing I can remember is some construction workers praying over me in Spanish and then being taken to the hospital.\" West was told that the chances were low of regaining the full use of his left arm, a major artery having come very close to being severed. He recovered after the accident, however, and was able to continue playing guitar and record for his first studio album.\\n\\n\\n=== Happy (2003–2004) ===\\n\\nAfter signing with Universal South Records on August 23, 2002, West released his first non-independent studio album, Happy, on December 26, 2003. The album\\'s producers Kenny Greenberg and Jason Houser co-wrote the song \"More\" with West. The track was his first and most successful radio single to date, staying at No. 1 on R&R\\'s Christian Adult Contemporary chart for a record-breaking nine weeks. It was the most played Christian AC song of 2004 and went on to be labelled the Christian Song of the Year by ASCAP. Two additional songs, \"The End\" and \"You Know Where to Find Me\", were also released as singles off the album. Beginning in late September 2004, West joined Avalon and Mark Schultz on a 40-city fall tour, which concluded at the end of November. In 2005, he was nominated for five Dove Awards, including \"New Artist of the Year\" and \"Song of the Year\". He won the \"Recorded Music Packaging of the Year\" Dove Award for his debut album Happy.\\nIn early 2005, he was on the WinterJam 2005 tour, hosted by NewSong, with tobyMac, Building 429, Tait, and Rachael Lampa.\\n\\n\\n=== History and vocal problems (2005–2007) ===\\n\\nWith Kenny Greenberg and Jason Houser once again as producers, Matthew West began recording for his second studio album in early 2005. History, co-produced by West, was released on June 21, 2005, on Universal South Records. The first single off the album, \"Next Thing You Know\", was released June 20, a day before the album\\'s release. The theme of the title track \"History\" was inspired by a R&R music news headline \"Matthew West Makes History\", in reference to his first album, Happy. \"It\\'s not every day you read a headline like that with your name in it that calls you a history maker,\" he said. Beginning on September 14, 2005, he kicked off the 30-city History 101 tour, his first headlining tour, which included guest musicians Shawn McDonald and Paul Wright. He then joined tobyMac\\'s Winter Wonder Slam tour, beginning on December 1, 2005, along with John Reuben, BarlowGirl, GRITS, and DJ Maj. Two additional songs were released off History as singles: \"Only Grace\" and the title track \"History\".\\nHis independent album Sellout was re-released in 2006 on Universal South Records.\\nWest said that he began to experience \"some vocal fatigue\" in April 2007. He said, \"I had lost some of my vocal range, staying on higher notes and lower notes. I even began having a hard time speaking.\" At a vocal check-up in response to the issue, West\\'s doctors at the Nashville Vanderbilt Voice Center discovered \"hemorrhaging caused by some polyps\". He was told by his doctors that vocal surgery was the only option, since a few weeks had passed. The surgery took place on May 17, 2007, a process that he said was \"career threatening.\" Afterward, he was prescribed a two-month period of silence for vocal rest.\\nA video documentary titled Nothing to Say, directed and produced by Benjamin Eisner, was released in early 2008, highlighting Matthew West\\'s time of silence and vocal recovery in 2007. In February 2008, the documentary was available exclusively in Family Christian Stores as a CD/DVD combo pack with West\\'s album Something to Say.\\n\\n\\n=== Something to Say (2008–2010) ===\\nHis next single \"You Are Everything\" was released in late 2007. The song was available as a free download from West\\'s website. He also recorded a duet (\"Christmas Makes Me Cry\") with American Idol finalist Mandisa, which was released as a Christmas radio single in November 2007, from Mandisa\\'s Christmas Joy EP.\\nMatthew West\\'s album Something to Say was released on January 15, 2008. It reached No. 8 on Billboard\\'s Top Christian albums chart, and peaked at No. 159 on the Billboard 200 chart, making it his first Billboard 200 album . It was produced by Brown Bannister, Ed Cash, and Christopher Stevens. West said in an interview that all of the album\\'s songs had already been written and the title \"Something to Say\" had already been decided \"months before I found out that I was going to have nothing to say.\" The first radio single released from the album was \"You Are Everything\". In March 2008, the song reached No. 1 on R&R\\'s Christian AC chart. \"Something to Say\", the album\\'s title track, was also released to radio, receiving airplay in June 2008.\\nMatthew West guested on tobyMac\\'s 26-city \"Boomin\\' Beyond Measure\" tour along with Jeremy Camp. The tour ran from February 6 through March 21, 2008.\\nHe was featured on the Billy Graham television special America\\'s Dream: Chasing Happiness, which aired in the U.S. on March 1–9, 2008. The appearance included a world premiere of his music video for \"Nothing Else\", a song from History. On June 29, West hosted GMA\\'s 2008 Gospel Dream, a televised Christian music talent competition. \"The Motions\" was released as his next single, placing at No. 1 on R&R\\'s Christian AC chart in April 2009.\\nIn 2009 he had a song on an album by country artist Jo Dee Messina, with another under consideration by American Idol finalist Danny Gokey. In December 2009, \"The Motions\" was Grammy-nominated for Best Gospel Song, West\\'s first Grammy nomination.\\n\\n\\n=== Recent years (2010–present) ===\\n\\n\"My Own Little World\", the first single from Matthew West\\'s new album, was released on August 23, 2010. The album, The Story of Your Life, was released October 5, 2010. According to West it is a response to thousands of life stories his fans shared with him. \"The first day, I got 1,000 stories. All of a sudden, I was like, \\'Holy cow, something special is about to take place.\\' I rented a cabin in Tennessee, about 25 minutes from my house, that felt like it was out in the middle of nowhere. And I spent two months in that cabin reading 10,000 stories,\" the singer/songwriter reported in an interview with CBN.com.\\nWest also starred in The Heart of Christmas. In 2011, he released a Christmas song featuring Country Music Hall of Fame member Vince Gill entitled \"Leaving Heaven\".\\nInto the Light was released in September 2012. West\\'s Into the Light Tour was in September, October, and November 2013. He released his sixth studio album, Live Forever, on April 28, 2015. His seventh studio album, All In, was set to release on September 22, 2017, to be immediately followed by his All In tour. His single \"The Motions\" was certified Platinum by RIAA.\\nIn February 2020, West released Brand New on his own imprint, Story House Music, under a new deal with Sony\\'s Provident Music Group. A deluxe edition followed in April 2021.\\nOn February 17, 2023, West released a 22-song album titled My Story Your Glory.\\n\\n\\n== Other songwriting ==\\nIn addition to his solo career, Matthew West has also written songs for other Christian bands and musicians, including Mark Schultz, Mandisa, Jump5, Sara Groves, Joy Williams, Casting Crowns, Salvador, Natalie Grant, Danny Gokey, PureNRG, and Point of Grace, as well as mainstream country act Billy Ray Cyrus. Rascal Flatts recorded West\\'s song \"The Day Before You\" on their album Feels Like Today. West co-wrote \"Voice of a Savior\" by Mandisa and \"Thank You\" by 33Miles, both of which were released as singles in early 2008.\\n\\n\\n== Acting ==\\nWest also pursues acting, with occasional appearances in Christian television shows, starting in 2009. In 2011, he made his film debut in Gary Wheeler\\'s Christian film The Heart of Christmas co-starring Candace Cameron Bure. At the end of 2011 it reached a rating of 7.1 on IMDb after a direct-to-TV release.\\n\\n\\n== Personal life ==\\n\\nMatthew West currently lives in Nashville with his wife Emily. They were married on May 10, 2003, after proposing to her in September 2002. They have two daughters. The Wests have two dogs named Nick and Rocky.\\n\\n\\n== Awards ==\\n\\n\\n=== American Music Awards ===\\n\\n\\n=== GMA Dove Awards ===\\n\\n\\n== Discography ==\\n\\n\\n== References ==\\n\\n\\n== External links ==\\n\\nOfficial website', mimetype='text/plain', start_char_idx=None, end_char_idx=None, text_template='{metadata_str}\\n\\n{content}', metadata_template='{key}: {value}', metadata_seperator='\\n')"
      ]
     },
     "execution_count": 395,
     "metadata": {},
     "output_type": "execute_result"
    }
   ],
   "source": [
    "wiki_docs[0]"
   ]
  },
  {
   "cell_type": "markdown",
   "metadata": {},
   "source": [
    "#### Loop through metadata and documents and constructs nodes"
   ]
  },
  {
   "cell_type": "code",
   "execution_count": 397,
   "metadata": {},
   "outputs": [],
   "source": [
    "from llama_index.core.ingestion import IngestionPipeline\n",
    "from llama_index.core.node_parser import TokenTextSplitter\n",
    "from llama_index.core.extractors import TitleExtractor\n",
    "\n",
    "# like doument loader and split, wrapped in pipeline\n",
    "pipeline = IngestionPipeline(transformations=[TokenTextSplitter()])\n",
    "\n",
    "# each chunk is a document -> node and we associalte metadata to each node. As lon as we are processing chunks of one movie, metadata (here title) stays the same.\n",
    "for music, wiki_doc in zip(music_list, wiki_docs):\n",
    "  nodes = pipeline.run(documents=[wiki_doc])\n",
    "  for node in nodes:\n",
    "      node.metadata = {\"title\" : music, 'title': }\n",
    "  index.insert_nodes(nodes)"
   ]
  },
  {
   "cell_type": "code",
   "execution_count": 401,
   "metadata": {},
   "outputs": [
    {
     "data": {
      "text/plain": [
       "{'title': 'CeCe Winans'}"
      ]
     },
     "execution_count": 401,
     "metadata": {},
     "output_type": "execute_result"
    }
   ],
   "source": [
    "node.metadata"
   ]
  }
 ],
 "metadata": {
  "kernelspec": {
   "display_name": "ai3",
   "language": "python",
   "name": "python3"
  },
  "language_info": {
   "codemirror_mode": {
    "name": "ipython",
    "version": 3
   },
   "file_extension": ".py",
   "mimetype": "text/x-python",
   "name": "python",
   "nbconvert_exporter": "python",
   "pygments_lexer": "ipython3",
   "version": "3.10.14"
  }
 },
 "nbformat": 4,
 "nbformat_minor": 2
}
